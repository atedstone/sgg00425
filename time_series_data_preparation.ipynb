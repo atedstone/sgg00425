{
 "cells": [
  {
   "cell_type": "markdown",
   "metadata": {},
   "source": [
    "# Time series preparation\n",
    "\n",
    "*****\n",
    "\n",
    "This notebook creates an example dataset to showcase time-series ideas and methods.\n",
    "\n",
    "*****\n"
   ]
  },
  {
   "cell_type": "code",
   "execution_count": 1,
   "metadata": {},
   "outputs": [],
   "source": [
    "# Make sure the script is using the proper kernel\n",
    "try:\n",
    "    %run ../swiss_utils/assert_env.py\n",
    "except:\n",
    "    %run ./swiss_utils/assert_env.py"
   ]
  },
  {
   "cell_type": "code",
   "execution_count": 2,
   "metadata": {},
   "outputs": [],
   "source": [
    "# Import modules\n",
    "\n",
    "# reload module before executing code\n",
    "%load_ext autoreload\n",
    "%autoreload 2\n",
    "\n",
    "\n",
    "# define modules locations (you might have to adapt define_mod_locs.py)\n",
    "%run swiss_utils/define_mod_locs.py\n",
    "\n",
    "import os\n",
    "import shutil\n",
    "\n",
    "import numpy as np\n",
    "\n",
    "from datetime import datetime\n",
    "\n",
    "from swiss_utils.data_cube_utilities.sdc_utilities import load_multi_clean\n",
    "\n",
    "import datacube\n",
    "dc = datacube.Datacube()\n",
    "\n",
    "# silence warning (not recommended during development)\n",
    "import warnings\n",
    "warnings.filterwarnings(\"ignore\")\n",
    "\n",
    "# AND THE FUNCTION\n",
    "from swiss_utils.data_cube_utilities.sdc_utilities import indices_ts_stats"
   ]
  },
  {
   "cell_type": "markdown",
   "metadata": {},
   "source": [
    "The next cell contains the dataset configuration information:\n",
    "- product\n",
    "- geographical extent\n",
    "- time period\n",
    "- bands\n",
    "\n",
    "You can generate it in three ways:\n",
    "1. manually from scratch,\n",
    "2. by manually copy/pasting the final cell content of the [config_tool](config_tool.ipynb) notebook,\n",
    "3. by loading the final cell content of the [config_tool](config_tool.ipynb) notebook using the magic `# %load config_cell.txt`."
   ]
  },
  {
   "cell_type": "code",
   "execution_count": 5,
   "metadata": {},
   "outputs": [],
   "source": [
    "# %load \"config_cell.txt\"\n",
    "# Configuration\n",
    "\n",
    "product = 'ls8_lasrc_swiss'\n",
    "measurements = ['nir', 'green', 'red', 'pixel_qa']\n",
    "\n",
    "min_lon = 7.132771\n",
    "max_lon = 7.234418\n",
    "min_lat = 46.768134\n",
    "max_lat = 46.813031\n",
    "\n",
    "start_date = datetime.strptime('2013-03-22', '%Y-%m-%d')\n",
    "end_date = datetime.strptime('2021-12-30', '%Y-%m-%d')\n"
   ]
  },
  {
   "cell_type": "code",
   "execution_count": 6,
   "metadata": {
    "tags": []
   },
   "outputs": [],
   "source": [
    "# Load the dataset and clean it\n",
    "\n",
    "ds_in, clean_mask = load_multi_clean(dc = dc, products = product,\n",
    "                                     time = [start_date, end_date],\n",
    "                                     lon = [min_lon, max_lon], lat = [min_lat, max_lat],\n",
    "                                     measurements = measurements)\n",
    "del clean_mask\n",
    "ds_in = ds_in.where(ds_in >= 0) # keep only positive values\n",
    "ds_in = ds_in.dropna('time', how='all') # drop scenes without data"
   ]
  },
  {
   "cell_type": "code",
   "execution_count": 7,
   "metadata": {},
   "outputs": [],
   "source": [
    "# clean_mask\n",
    "# ds_in"
   ]
  },
  {
   "cell_type": "code",
   "execution_count": 8,
   "metadata": {},
   "outputs": [],
   "source": [
    "# print(idces_dict)\n",
    "# print(sm_dict)\n",
    "ds_in['ndvi'] = (ds_in.nir - ds_in.red) / (ds_in.nir + ds_in.red)\n",
    "ds_in['ndwi'] = (ds_in.green - ds_in.nir) / (ds_in.green + ds_in.nir)\n",
    "\n",
    "# 'NDVI': '(',\n",
    "# 'NDWI': '(ds.green - ds.nir) / (ds.green + ds.nir)',\n",
    "# 'NDBI': '(ds.swir2 - ds.nir) / (ds.swir2 + ds.nir)'"
   ]
  },
  {
   "cell_type": "code",
   "execution_count": 9,
   "metadata": {},
   "outputs": [],
   "source": [
    "ds_in.pixel_qa.attrs['flags_definition'] = []\n",
    "ds_in.ndvi.time.attrs = {}\n"
   ]
  },
  {
   "cell_type": "code",
   "execution_count": 10,
   "metadata": {},
   "outputs": [],
   "source": [
    "ds_in.to_netcdf('ls8_lasrc_swiss_fribourg_example.nc')\n"
   ]
  },
  {
   "cell_type": "code",
   "execution_count": null,
   "metadata": {
    "tags": []
   },
   "outputs": [],
   "source": [
    "# import xarray as xr\n",
    "# ds_back_in = xr.open_dataset('test_stack_2.nc')"
   ]
  }
 ],
 "metadata": {
  "kernelspec": {
   "display_name": "Python (Open Data Cube Development)",
   "language": "python",
   "name": "odc-dev"
  },
  "language_info": {
   "codemirror_mode": {
    "name": "ipython",
    "version": 3
   },
   "file_extension": ".py",
   "mimetype": "text/x-python",
   "name": "python",
   "nbconvert_exporter": "python",
   "pygments_lexer": "ipython3",
   "version": "3.9.12"
  }
 },
 "nbformat": 4,
 "nbformat_minor": 4
}
