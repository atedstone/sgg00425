{
 "cells": [
  {
   "cell_type": "markdown",
   "metadata": {},
   "source": [
    "# Create a configuration cell to load a data cube\n",
    "\n",
    "*****\n",
    "\n",
    "The geographic extent, time period, product and measurements that you want to use will differ depending on your goals. This notebook helps you to create a configuration cell to be copy/pasted or loaded into a notebook for your analysis."
   ]
  },
  {
   "cell_type": "code",
   "execution_count": null,
   "metadata": {},
   "outputs": [],
   "source": [
    "# Make sure the script is using the proper kernel\n",
    "try:\n",
    "    %run ../swiss_utils/assert_env.py\n",
    "except:\n",
    "    %run ./swiss_utils/assert_env.py"
   ]
  },
  {
   "cell_type": "code",
   "execution_count": null,
   "metadata": {},
   "outputs": [],
   "source": [
    "# Import modules\n",
    "\n",
    "# reload module before executing code\n",
    "%load_ext autoreload\n",
    "%autoreload 2\n",
    "\n",
    "# define modules locations (you might have to adapt define_mod_locs.py)\n",
    "%run ./swiss_utils/define_mod_locs.py\n",
    "\n",
    "import ipywidgets as widgets\n",
    "\n",
    "from shapely.geometry import Polygon\n",
    "\n",
    "from swiss_utils.data_cube_utilities.sdc_utilities import new_get_query_metadata\n",
    "from swiss_utils.data_cube_utilities.sdc_advutils import draw_map\n",
    "\n",
    "import datacube\n",
    "dc = datacube.Datacube()\n",
    "\n",
    "import utils.data_cube_utilities.data_access_api as dc_api  \n",
    "api = dc_api.DataAccessApi()"
   ]
  },
  {
   "cell_type": "code",
   "execution_count": null,
   "metadata": {},
   "outputs": [],
   "source": [
    "# Allow user to select an available product prioritizing ingested (if any)over indexed\n",
    "\n",
    "product_names = []\n",
    "\n",
    "products = dc.list_products()\n",
    "prfxs = set(prod.split('_')[0] for prod in products['name'])\n",
    "for prfx in prfxs:\n",
    "    for prprods in [[x for x in products['name'] if x.startswith(prfx)]]:\n",
    "        # print(prprods)\n",
    "        if len(prprods) == 1:\n",
    "            product_names.append(prprods[0])\n",
    "        else:\n",
    "            swissprod = [x for x in prprods if x.endswith('_swiss')]\n",
    "            if len(swissprod) == 1:\n",
    "                product_names.append(swissprod[0])\n",
    "            else:\n",
    "                product_names.extend(prprods)\n",
    "product_names.sort()\n",
    "                \n",
    "# Select the product\n",
    "product_sel = widgets.RadioButtons(options=product_names, disabled=False)\n",
    "display(widgets.Label('Select a product and run the next cell: '), product_sel)"
   ]
  },
  {
   "cell_type": "code",
   "execution_count": null,
   "metadata": {},
   "outputs": [],
   "source": [
    "# Select measurements\n",
    "\n",
    "measurement_list = dc.list_measurements(with_pandas=False)\n",
    "measurements_for_product = filter(lambda x: x['product'] == product_sel.value, measurement_list)\n",
    "valid_measurements_name_array = set(map(lambda x: x['name'], measurements_for_product))\n",
    "# Landsat and Sentinel 2\n",
    "try:\n",
    "    measur_sel = widgets.SelectMultiple(options=sorted(list(valid_measurements_name_array)),\n",
    "                                        value = ['blue', 'green', 'red'],\n",
    "                                        disabled=False)\n",
    "# other products\n",
    "except:\n",
    "    measur_sel = widgets.SelectMultiple(options=sorted(list(valid_measurements_name_array)),\n",
    "                                        disabled=False)\n",
    "display(widgets.Label('Select a measurements and run the next cell: '), measur_sel)"
   ]
  },
  {
   "cell_type": "code",
   "execution_count": null,
   "metadata": {},
   "outputs": [],
   "source": [
    "# Convert tupple to list and add mask band if required\n",
    "\n",
    "measur_sel = list(measur_sel.value)\n",
    "\n",
    "if 'pixel_qa' not in measur_sel and 'pixel_qa' in list(valid_measurements_name_array):\n",
    "    print('pixel_qa measurement added')\n",
    "    measur_sel.append('pixel_qa')\n",
    "elif 'slc' not in measur_sel and 'slc' in list(valid_measurements_name_array):\n",
    "    print('slc measurement added')\n",
    "    measur_sel.append('slc')"
   ]
  },
  {
   "cell_type": "code",
   "execution_count": null,
   "metadata": {},
   "outputs": [],
   "source": [
    "# Select geographical extent\n",
    "\n",
    "mtd = new_get_query_metadata(dc, product_sel.value)\n",
    "# if too slow use the line below (will not be accurate with all product\n",
    "# mtd = new_get_query_metadata(dc, product_sel.value, quick = True)\n",
    "\n",
    "full_lat = mtd['lat_extents']\n",
    "full_lon = mtd['lon_extents']\n",
    "min_max_dates = mtd['time_extents']\n",
    "crs = mtd['crs']\n",
    "\n",
    "# Add an empty map you can draw on it\n",
    "m, poly = draw_map(full_lat, full_lon, crs)\n",
    "print('Zoom, pan and draw a rectangle or polygon (the bounding box will be used) and run the next cell:')\n",
    "m"
   ]
  },
  {
   "cell_type": "code",
   "execution_count": null,
   "metadata": {},
   "outputs": [],
   "source": [
    "# Once a feature is drawn, extract the bounding box of the last feature drawn\n",
    "\n",
    "coords = poly.last_draw['geometry']['coordinates']\n",
    "geo_extent = Polygon(coords[0]).bounds\n",
    "\n",
    "min_lon = geo_extent[0]\n",
    "min_lat = geo_extent[1]\n",
    "max_lon = geo_extent[2]\n",
    "max_lat = geo_extent[3]"
   ]
  },
  {
   "cell_type": "code",
   "execution_count": null,
   "metadata": {},
   "outputs": [],
   "source": [
    "# Select time period\n",
    "\n",
    "start_date_widget = widgets.DatePicker(description='Start date',\n",
    "                                value = min_max_dates[0].date(),\n",
    "                                disabled=False)\n",
    "end_date_widget = widgets.DatePicker(description='End date',\n",
    "                              value = min_max_dates[1].date(),\n",
    "                              disabled=False)\n",
    "display(widgets.Label('IF REQUIRED define time period (cannot be outside of the initial displayed time) and run the next cell:'),\n",
    "        widgets.HBox([start_date_widget, end_date_widget]))"
   ]
  },
  {
   "cell_type": "code",
   "execution_count": null,
   "metadata": {},
   "outputs": [],
   "source": [
    "    # Check defined time period\n",
    "\n",
    "from datetime import timedelta\n",
    "start_date = start_date_widget.value\n",
    "end_date = end_date_widget.value + timedelta(days=1) # end_date is not inclusive !\n",
    "\n",
    "assert start_date >= min_max_dates[0].date(), \\\n",
    "       'Start date cannot be defined before {}'.format(min_max_dates[0].date())\n",
    "assert end_date - timedelta(days=1) <= min_max_dates[1].date(), \\\n",
    "       'End date cannot be defined after {}'.format(min_max_dates[1].date())\n",
    "assert start_date < end_date, \\\n",
    "       'End date is defined before start date'\n",
    "\n",
    "print('Time period is OK')"
   ]
  },
  {
   "cell_type": "code",
   "execution_count": null,
   "metadata": {},
   "outputs": [],
   "source": [
    "# Resume configuration parameters in a format ready to be copy/pasted to a new cell,\n",
    "# and in a txt file to be loaded with the '%load config_cell.txt' magic.\n",
    "\n",
    "str = '''# Configuration\n",
    "\n",
    "product = '{}'\n",
    "measurements = {}\n",
    "\n",
    "min_lon = {}\n",
    "max_lon = {}\n",
    "min_lat = {}\n",
    "max_lat = {}\n",
    "\n",
    "start_date = datetime.strptime('{}', '%Y-%m-%d')\n",
    "end_date = datetime.strptime('{}', '%Y-%m-%d')'''.\\\n",
    "format(product_sel.value,\n",
    "       measur_sel,\n",
    "       min_lon, max_lon, min_lat, max_lat,\n",
    "       start_date.value.strftime('%Y-%m-%d'), end_date.strftime('%Y-%m-%d'))\n",
    "print(str)\n",
    "with open('config_cell.txt', 'w') as text_file:\n",
    "    print(str, file=text_file)"
   ]
  },
  {
   "cell_type": "code",
   "execution_count": null,
   "metadata": {},
   "outputs": [],
   "source": []
  }
 ],
 "metadata": {
  "kernelspec": {
   "display_name": "Python (Open Data Cube Development)",
   "language": "python",
   "name": "odc-dev"
  },
  "language_info": {
   "codemirror_mode": {
    "name": "ipython",
    "version": 3
   },
   "file_extension": ".py",
   "mimetype": "text/x-python",
   "name": "python",
   "nbconvert_exporter": "python",
   "pygments_lexer": "ipython3",
   "version": "3.9.12"
  }
 },
 "nbformat": 4,
 "nbformat_minor": 4
}
