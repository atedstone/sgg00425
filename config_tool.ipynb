{
 "cells": [
  {
   "cell_type": "markdown",
   "metadata": {},
   "source": [
    "# Script to help user to define a configuration cell for ODC notebooks\n",
    "\n",
    "*****\n",
    "\n",
    "Geographical extent, time period, measurements, Coordinate Reference System (CRS) and resolution differ between the datasets available on the SDC.\n",
    "\n",
    "This script will help you to create a configuration cell to load the data that you want, to be manually copy/pasted or loaded in ODC Jupyter notebook.\n"
   ]
  },
  {
   "cell_type": "code",
   "execution_count": 1,
   "metadata": {
    "tags": []
   },
   "outputs": [],
   "source": [
    "# Import modules\n",
    "\n",
    "# reload module before executing code\n",
    "%load_ext autoreload\n",
    "%autoreload 2\n",
    "\n",
    "# define modules locations (you might have to adapt define_mod_locs.py)\n",
    "%run ../sdc-notebooks/Tools/define_mod_locs.py\n",
    "\n",
    "import pyproj\n",
    "\n",
    "import numpy as np\n",
    "import ipywidgets as widgets\n",
    "\n",
    "from shapely.geometry import Polygon\n",
    "from dea_tools.datahandling import mostcommon_crs\n",
    "\n",
    "from odc.ui import DcViewer\n",
    "from pyproj import Proj, transform\n",
    "\n",
    "from utils.data_cube_utilities.dc_display_map import _degree_to_zoom_level\n",
    "\n",
    "from sdc_tools.sdc_utilities import new_get_query_metadata, get_native_epsg_and_res, humanize_measure\n",
    "from sdc_tools.sdc_display_map import draw_map\n",
    "\n",
    "import datacube\n",
    "dc = datacube.Datacube()\n",
    "\n",
    "# silence warning (not recommended during development)\n",
    "import warnings\n",
    "warnings.filterwarnings(\"ignore\")"
   ]
  },
  {
   "cell_type": "code",
   "execution_count": 2,
   "metadata": {
    "tags": []
   },
   "outputs": [
    {
     "data": {
      "application/vnd.jupyter.widget-view+json": {
       "model_id": "890db3af31584695a2c77004b352f3f2",
       "version_major": 2,
       "version_minor": 0
      },
      "text/plain": [
       "Label(value='Select a product and run the next cell: ')"
      ]
     },
     "metadata": {},
     "output_type": "display_data"
    },
    {
     "data": {
      "application/vnd.jupyter.widget-view+json": {
       "model_id": "fd8b7a0dbf1e4fcf999b03d89287f9fe",
       "version_major": 2,
       "version_minor": 0
      },
      "text/plain": [
       "RadioButtons(options=('GE1', 'RapidMapping', 'arealstatistik', 'astgtmv003', 'corinelc_europe', 'corinelc_swit…"
      ]
     },
     "metadata": {},
     "output_type": "display_data"
    }
   ],
   "source": [
    "# Allow user to select an available product prioritizing ingested (if any)over indexed\n",
    "\n",
    "product_names = []\n",
    "\n",
    "products = dc.list_products()\n",
    "prfxs = set(prod.split('_')[0] for prod in products['name'])\n",
    "for prfx in prfxs:\n",
    "    for prprods in [[x for x in products['name'] if x.startswith(prfx)]]:\n",
    "        # print(prprods)\n",
    "        if len(prprods) == 1:\n",
    "            product_names.append(prprods[0])\n",
    "        else:\n",
    "            swissprod = [x for x in prprods if x.endswith('_swiss')]\n",
    "            if len(swissprod) == 1:\n",
    "                product_names.append(swissprod[0])\n",
    "            else:\n",
    "                product_names.extend(prprods)\n",
    "product_names.sort()\n",
    "                \n",
    "# Select the product\n",
    "product_sel = widgets.RadioButtons(options=product_names, disabled=False)\n",
    "display(widgets.Label('Select a product and run the next cell: '), product_sel)"
   ]
  },
  {
   "cell_type": "code",
   "execution_count": 3,
   "metadata": {
    "tags": []
   },
   "outputs": [
    {
     "name": "stdout",
     "output_type": "stream",
     "text": [
      "\n",
      "The product don't have a defined CRS and resolution, then geographical extents are estimated in epsg:4326 !\n",
      "\n"
     ]
    },
    {
     "data": {
      "application/vnd.jupyter.widget-view+json": {
       "model_id": "c00bebd23b8e4e53a8898797c12e90d6",
       "version_major": 2,
       "version_minor": 0
      },
      "text/plain": [
       "Label(value='Select measurements (displayed with their aliases) and run the next cell: ')"
      ]
     },
     "metadata": {},
     "output_type": "display_data"
    },
    {
     "data": {
      "application/vnd.jupyter.widget-view+json": {
       "model_id": "ea8d8003a23f444d8dee3c4b6811be34",
       "version_major": 2,
       "version_minor": 0
      },
      "text/plain": [
       "SelectMultiple(options=('QA_PIXEL: pq, pixel_quality', 'QA_RADSAT: radsat, radiometric_saturation', 'SR_B1: ba…"
      ]
     },
     "metadata": {},
     "output_type": "display_data"
    }
   ],
   "source": [
    "# Get product metadata and select measurements\n",
    "\n",
    "mtd = new_get_query_metadata(dc, product_sel.value)\n",
    "# if too slow use the line below (will not be accurate with all product !)\n",
    "# mtd = new_get_query_metadata(dc, product_sel.value, quick = True)\n",
    "\n",
    "full_lat = mtd['lat_extents']\n",
    "full_lon = mtd['lon_extents']\n",
    "min_max_dates = mtd['time_extents']\n",
    "def_crs = mtd['crs']\n",
    "\n",
    "measurements = dc.list_measurements()\n",
    "measurements_for_product = filter(lambda x: x['product'] == product_sel.value, measurements)\n",
    "df = measurements.loc[product_sel.value, ['name', 'aliases']]\n",
    "\n",
    "try:\n",
    "    df['tmp'] = [', '.join(map(str, l)) for l in df['aliases']]\n",
    "    df['all'] = df['name'] + ': ' + df['tmp']\n",
    "except:\n",
    "    df['all'] = df['name']\n",
    "\n",
    "measur_sel = widgets.SelectMultiple(options=sorted(list(df['all'])),\n",
    "                                        disabled=False)\n",
    "display(widgets.Label('Select measurements (displayed with their aliases) and run the next cell: '), measur_sel)"
   ]
  },
  {
   "cell_type": "code",
   "execution_count": 4,
   "metadata": {
    "tags": []
   },
   "outputs": [],
   "source": [
    "# Convert selection to measurements list and message \n",
    "\n",
    "humanize = True # Use human understandable measurement alias\n",
    "\n",
    "measur_list = list(measur_sel.value)\n",
    "\n",
    "measur_sel = []\n",
    "msg = '# to make your live easier you can manually replace the measurements variable by \\n' \\\n",
    "      '# one of their alias:\\n'\n",
    "for m in measur_list:\n",
    "    if humanize:\n",
    "        measur_sel.append(humanize_measure(m))\n",
    "    else:\n",
    "        measur_sel.append(m.split(': ')[0])\n",
    "    msg = f\"{msg}# {m}\\n\""
   ]
  },
  {
   "cell_type": "code",
   "execution_count": 5,
   "metadata": {
    "tags": []
   },
   "outputs": [
    {
     "data": {
      "application/vnd.jupyter.widget-view+json": {
       "model_id": "bb4b2e43fe9f4a10aa8a315197fcb2b3",
       "version_major": 2,
       "version_minor": 0
      },
      "text/plain": [
       "VBox(children=(HBox(children=(Dropdown(layout=Layout(flex='0 1 auto', width='10em'), options=('landsat_ot_c2_l…"
      ]
     },
     "execution_count": 5,
     "metadata": {},
     "output_type": "execute_result"
    }
   ],
   "source": [
    "# Explore with DcViewer\n",
    "\n",
    "lats = full_lat\n",
    "lons = full_lon\n",
    "\n",
    "if not def_crs is None:\n",
    "    x0, y0 = transform(Proj(init = def_crs), Proj(init = 'epsg:4326'),lons[0], lats[0])\n",
    "    x1, y1 = transform(Proj(init = def_crs), Proj(init = 'epsg:4326'),lons[1], lats[1])\n",
    "    lats = (y0, y1)\n",
    "    lons = (x0, x1)\n",
    "\n",
    "ctr = (np.mean(lats), np.mean(lons))\n",
    "\n",
    "# Calculate zoom level based on coordinates\n",
    "margin = -0.5\n",
    "zoom_bias = 0\n",
    "lat_zoom_level = _degree_to_zoom_level(margin = margin, *lats ) + zoom_bias\n",
    "lon_zoom_level = _degree_to_zoom_level(margin = margin, *lons) + zoom_bias\n",
    "zoom = min(lat_zoom_level, lon_zoom_level)\n",
    "\n",
    "DcViewer(dc = dc,\n",
    "         products = [product_sel.value],\n",
    "         time = str(min_max_dates[1].year), \n",
    "         width = \"100%\",\n",
    "         center = ctr,\n",
    "         zoom = zoom,\n",
    "         max_datasets_to_display = 3000,\n",
    "         style = {'weight': 1, 'fillOpacity': 0.1})"
   ]
  },
  {
   "cell_type": "code",
   "execution_count": 6,
   "metadata": {
    "tags": []
   },
   "outputs": [
    {
     "name": "stdout",
     "output_type": "stream",
     "text": [
      "Zoom, pan and draw a rectangle or polygon (the bounding box will be used) and run the next cell:\n"
     ]
    },
    {
     "data": {
      "application/vnd.jupyter.widget-view+json": {
       "model_id": "784671cad01748fd825bfe5bd28de65f",
       "version_major": 2,
       "version_minor": 0
      },
      "text/plain": [
       "Map(center=[46.735, 8.495000000000001], controls=(ZoomControl(options=['position', 'zoom_in_text', 'zoom_in_ti…"
      ]
     },
     "execution_count": 6,
     "metadata": {},
     "output_type": "execute_result"
    }
   ],
   "source": [
    "# Select geographical extent by adding an empty map you can draw on it\n",
    "\n",
    "crs = def_crs\n",
    "if crs is None:\n",
    "    crs = 'epsg:4326'\n",
    "\n",
    "m, poly = draw_map(lon_ext = full_lon, lat_ext = full_lat, crs = crs, src = True, fsc = True)\n",
    "print('Zoom, pan and draw a rectangle or polygon (the bounding box will be used) and run the next cell:')\n",
    "m"
   ]
  },
  {
   "cell_type": "code",
   "execution_count": 7,
   "metadata": {
    "tags": []
   },
   "outputs": [],
   "source": [
    "# Once a feature is drawn, extract the bounding box of the last feature drawn\n",
    "\n",
    "coords = poly.last_draw['geometry']['coordinates']\n",
    "geo_extent = Polygon(coords[0]).bounds\n",
    "\n",
    "min_lon = geo_extent[0]\n",
    "min_lat = geo_extent[1]\n",
    "max_lon = geo_extent[2]\n",
    "max_lat = geo_extent[3]"
   ]
  },
  {
   "cell_type": "code",
   "execution_count": 8,
   "metadata": {
    "tags": []
   },
   "outputs": [],
   "source": [
    "# Get CRS and resolution\n",
    "\n",
    "if not def_crs is None:\n",
    "    epsg = def_crs.split(':')[1]\n",
    "    res_x = mtd['lon_res']\n",
    "    res_y = mtd['lat_res']\n",
    "else:\n",
    "    # get native epsg code and resolution of a given measurement (of a given product)\n",
    "    nat_epsg, res_x, res_y = get_native_epsg_and_res(dc, product_sel.value, measur_sel[0])\n",
    "\n",
    "    # get most common CRS within the defined parameters\n",
    "    crs_wkt = mostcommon_crs(dc = dc, product = product_sel.value,\n",
    "                             query = {'measurements': measur_sel,\n",
    "                                      'longitude': (min_lon, max_lon),\n",
    "                                      'latitude': (min_lat, max_lat),\n",
    "                                      'time': min_max_dates})\n",
    "    epsg = pyproj.CRS(crs_wkt).to_epsg()\n",
    "\n",
    "    if nat_epsg != epsg:\n",
    "        print(f\"! the native and most commong epsgs differ ({nat_epsg}, {epsg} respectively) !\\n! You might need to adapt the `output_crs`and `resolution`parameters !!!\")"
   ]
  },
  {
   "cell_type": "code",
   "execution_count": 9,
   "metadata": {},
   "outputs": [
    {
     "data": {
      "text/plain": [
       "'PROJCS[\"WGS 84 / UTM zone 32N\",GEOGCS[\"WGS 84\",DATUM[\"WGS_1984\",SPHEROID[\"WGS 84\",6378137,298.257223563,AUTHORITY[\"EPSG\",\"7030\"]],AUTHORITY[\"EPSG\",\"6326\"]],PRIMEM[\"Greenwich\",0,AUTHORITY[\"EPSG\",\"8901\"]],UNIT[\"degree\",0.0174532925199433,AUTHORITY[\"EPSG\",\"9122\"]],AUTHORITY[\"EPSG\",\"4326\"]],PROJECTION[\"Transverse_Mercator\"],PARAMETER[\"latitude_of_origin\",0],PARAMETER[\"central_meridian\",9],PARAMETER[\"scale_factor\",0.9996],PARAMETER[\"false_easting\",500000],PARAMETER[\"false_northing\",0],UNIT[\"metre\",1,AUTHORITY[\"EPSG\",\"9001\"]],AXIS[\"Easting\",EAST],AXIS[\"Northing\",NORTH],AUTHORITY[\"EPSG\",\"32632\"]]'"
      ]
     },
     "execution_count": 9,
     "metadata": {},
     "output_type": "execute_result"
    }
   ],
   "source": [
    "crs_wkt"
   ]
  },
  {
   "cell_type": "code",
   "execution_count": 10,
   "metadata": {
    "tags": []
   },
   "outputs": [
    {
     "data": {
      "application/vnd.jupyter.widget-view+json": {
       "model_id": "2491e90a524c42e5ad6866e7ec45061f",
       "version_major": 2,
       "version_minor": 0
      },
      "text/plain": [
       "Label(value='IF REQUIRED define time period (cannot be outside of the initial displayed time) and run the next…"
      ]
     },
     "metadata": {},
     "output_type": "display_data"
    },
    {
     "data": {
      "application/vnd.jupyter.widget-view+json": {
       "model_id": "6ccf552af80e4e8097c27f64dfd5cbe3",
       "version_major": 2,
       "version_minor": 0
      },
      "text/plain": [
       "HBox(children=(DatePicker(value=datetime.date(2013, 3, 22), description='Start date', step=1), DatePicker(valu…"
      ]
     },
     "metadata": {},
     "output_type": "display_data"
    }
   ],
   "source": [
    "# Select time period\n",
    "\n",
    "start_date = widgets.DatePicker(description='Start date',\n",
    "                                value = min_max_dates[0].date(),\n",
    "                                disabled=False)\n",
    "end_date = widgets.DatePicker(description='End date',\n",
    "                              value = min_max_dates[1].date(),\n",
    "                              disabled=False)\n",
    "display(widgets.Label('IF REQUIRED define time period (cannot be outside of the initial displayed time) and run the next cell:'),\n",
    "        widgets.HBox([start_date, end_date]))"
   ]
  },
  {
   "cell_type": "code",
   "execution_count": 11,
   "metadata": {
    "tags": []
   },
   "outputs": [
    {
     "name": "stdout",
     "output_type": "stream",
     "text": [
      "Time period is OK\n"
     ]
    }
   ],
   "source": [
    "# Check defined time period\n",
    "\n",
    "assert start_date.value >= min_max_dates[0].date(), \\\n",
    "       'Start date cannot be defined before {}'.format(min_max_dates[0].date())\n",
    "assert end_date.value <= min_max_dates[1].date(), \\\n",
    "       'End date cannot be defined after {}'.format(min_max_dates[1].date())\n",
    "assert start_date.value <= end_date.value, \\\n",
    "       'End date is defined before start date'\n",
    "\n",
    "# end_date = end_date.value + timedelta(days=1) # end_date is not inclusive !\n",
    "\n",
    "print('Time period is OK')"
   ]
  },
  {
   "cell_type": "code",
   "execution_count": 12,
   "metadata": {
    "tags": []
   },
   "outputs": [
    {
     "name": "stdout",
     "output_type": "stream",
     "text": [
      "# Configuration\n",
      "\n",
      "product = 'landsat_ot_c2_l2'\n",
      "measurements = ['QA_PIXEL', 'red']\n",
      "# to make your live easier you can manually replace the measurements variable by \n",
      "# one of their alias:\n",
      "# QA_PIXEL: pq, pixel_quality\n",
      "# SR_B4: band_4, red\n",
      "\n",
      "longitude = (7.089272, 7.102146)\n",
      "latitude = (46.828638, 46.83862)\n",
      "crs = 'epsg:4326'\n",
      "\n",
      "time = ('2013-03-22', '2023-08-22')\n",
      "# the following date formats are also valid:\n",
      "# time = ('2000-01-01', '2001-12-31')\n",
      "# time=('2000-01', '2001-12')\n",
      "# time=('2000', '2001')\n",
      "\n",
      "output_crs = 'epsg:32632'\n",
      "resolution = -30.0, 30.0\n"
     ]
    }
   ],
   "source": [
    "# Resume configuration parameters in a format ready to be copy/pasted to a new cell,\n",
    "# and in a txt file to be loaded with the '%load config_cell.txt' magic.\n",
    "\n",
    "str = f'''# Configuration\n",
    "\n",
    "product = '{product_sel.value}'\n",
    "measurements = {measur_sel}\n",
    "{msg}\n",
    "longitude = ({min_lon}, {max_lon})\n",
    "latitude = ({min_lat}, {max_lat})\n",
    "crs = 'epsg:4326'\n",
    "\n",
    "time = ('{start_date.value.strftime('%Y-%m-%d')}', '{end_date.value.strftime('%Y-%m-%d')}')\n",
    "# the following date formats are also valid:\n",
    "# time = ('2000-01-01', '2001-12-31')\n",
    "# time=('2000-01', '2001-12')\n",
    "# time=('2000', '2001')\n",
    "\n",
    "output_crs = 'epsg:{epsg}'\n",
    "resolution = -{res_y}, {res_x}'''\n",
    "\n",
    "print(str)\n",
    "with open('config_cell.txt', 'w') as text_file:\n",
    "    print(str, file=text_file)"
   ]
  },
  {
   "cell_type": "code",
   "execution_count": null,
   "metadata": {},
   "outputs": [],
   "source": []
  }
 ],
 "metadata": {
  "kernelspec": {
   "display_name": "Python (Open Data Cube Development)",
   "language": "python",
   "name": "odc-dev"
  },
  "language_info": {
   "codemirror_mode": {
    "name": "ipython",
    "version": 3
   },
   "file_extension": ".py",
   "mimetype": "text/x-python",
   "name": "python",
   "nbconvert_exporter": "python",
   "pygments_lexer": "ipython3",
   "version": "3.10.12"
  }
 },
 "nbformat": 4,
 "nbformat_minor": 4
}
