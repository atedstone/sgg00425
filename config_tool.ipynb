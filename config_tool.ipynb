{
 "cells": [
  {
   "cell_type": "markdown",
   "metadata": {},
   "source": [
    "# Script to help user to define a configuration cell for ODC notebooks\n",
    "\n",
    "*****\n",
    "\n",
    "Geographical extent, time period, measurements, Coordinate Reference System (CRS) and resolution differ between the datasets available on the SDC.\n",
    "\n",
    "This script will help you to create a configuration cell to load the data that you want, to be manually copy/pasted or loaded in ODC Jupyter notebook.\n"
   ]
  },
  {
   "cell_type": "code",
   "execution_count": null,
   "metadata": {
    "tags": []
   },
   "outputs": [],
   "source": [
    "# Import modules\n",
    "\n",
    "# reload module before executing code\n",
    "%load_ext autoreload\n",
    "%autoreload 2\n",
    "\n",
    "# define modules locations (you might have to adapt define_mod_locs.py)\n",
    "%run ../sdc-notebooks/Tools/define_mod_locs.py\n",
    "\n",
    "import pyproj\n",
    "\n",
    "import numpy as np\n",
    "import ipywidgets as widgets\n",
    "\n",
    "from shapely.geometry import Polygon\n",
    "from dea_tools.datahandling import mostcommon_crs\n",
    "\n",
    "from odc.ui import DcViewer\n",
    "from pyproj import Proj, transform\n",
    "\n",
    "from utils.data_cube_utilities.dc_display_map import _degree_to_zoom_level\n",
    "\n",
    "from sdc_tools.sdc_utilities import new_get_query_metadata, get_native_epsg_and_res, humanize_measure\n",
    "from sdc_tools.sdc_display_map import draw_map\n",
    "\n",
    "import datacube\n",
    "dc = datacube.Datacube()\n",
    "\n",
    "# silence warning (not recommended during development)\n",
    "import warnings\n",
    "warnings.filterwarnings(\"ignore\")"
   ]
  },
  {
   "cell_type": "code",
   "execution_count": null,
   "metadata": {
    "tags": []
   },
   "outputs": [],
   "source": [
    "# Allow user to select an available product prioritizing ingested (if any)over indexed\n",
    "\n",
    "product_names = []\n",
    "\n",
    "products = dc.list_products()\n",
    "prfxs = set(prod.split('_')[0] for prod in products['name'])\n",
    "for prfx in prfxs:\n",
    "    for prprods in [[x for x in products['name'] if x.startswith(prfx)]]:\n",
    "        # print(prprods)\n",
    "        if len(prprods) == 1:\n",
    "            product_names.append(prprods[0])\n",
    "        else:\n",
    "            swissprod = [x for x in prprods if x.endswith('_swiss')]\n",
    "            if len(swissprod) == 1:\n",
    "                product_names.append(swissprod[0])\n",
    "            else:\n",
    "                product_names.extend(prprods)\n",
    "product_names.sort()\n",
    "                \n",
    "# Select the product\n",
    "product_sel = widgets.RadioButtons(options=product_names, disabled=False)\n",
    "display(widgets.Label('Select a product and run the next cell: '), product_sel)"
   ]
  },
  {
   "cell_type": "code",
   "execution_count": null,
   "metadata": {
    "tags": []
   },
   "outputs": [],
   "source": [
    "# Get product metadata and select measurements\n",
    "\n",
    "mtd = new_get_query_metadata(dc, product_sel.value)\n",
    "# if too slow use the line below (will not be accurate with all product !)\n",
    "# mtd = new_get_query_metadata(dc, product_sel.value, quick = True)\n",
    "\n",
    "full_lat = mtd['lat_extents']\n",
    "full_lon = mtd['lon_extents']\n",
    "min_max_dates = mtd['time_extents']\n",
    "def_crs = mtd['crs']\n",
    "\n",
    "measurements = dc.list_measurements()\n",
    "measurements_for_product = filter(lambda x: x['product'] == product_sel.value, measurements)\n",
    "df = measurements.loc[product_sel.value, ['name', 'aliases']]\n",
    "\n",
    "try:\n",
    "    df['tmp'] = [', '.join(map(str, l)) for l in df['aliases']]\n",
    "    df['all'] = df['name'] + ': ' + df['tmp']\n",
    "except:\n",
    "    df['all'] = df['name']\n",
    "\n",
    "measur_sel = widgets.SelectMultiple(options=sorted(list(df['all'])),\n",
    "                                        disabled=False)\n",
    "display(widgets.Label('Select measurements (displayed with their aliases) and run the next cell: '), measur_sel)"
   ]
  },
  {
   "cell_type": "code",
   "execution_count": null,
   "metadata": {
    "tags": []
   },
   "outputs": [],
   "source": [
    "# Convert selection to measurements list and message \n",
    "\n",
    "humanize = True # Use human understandable measurement alias\n",
    "\n",
    "measur_list = list(measur_sel.value)\n",
    "\n",
    "measur_sel = []\n",
    "msg = '# to make your live easier you can manually replace the measurements variable by \\n' \\\n",
    "      '# one of their alias:\\n'\n",
    "for m in measur_list:\n",
    "    if humanize:\n",
    "        measur_sel.append(humanize_measure(m))\n",
    "    else:\n",
    "        measur_sel.append(m.split(': ')[0])\n",
    "    msg = f\"{msg}# {m}\\n\""
   ]
  },
  {
   "cell_type": "code",
   "execution_count": null,
   "metadata": {
    "tags": []
   },
   "outputs": [],
   "source": [
    "# Explore with DcViewer\n",
    "\n",
    "lats = full_lat\n",
    "lons = full_lon\n",
    "\n",
    "if not def_crs is None:\n",
    "    x0, y0 = transform(Proj(init = def_crs), Proj(init = 'epsg:4326'),lons[0], lats[0])\n",
    "    x1, y1 = transform(Proj(init = def_crs), Proj(init = 'epsg:4326'),lons[1], lats[1])\n",
    "    lats = (y0, y1)\n",
    "    lons = (x0, x1)\n",
    "\n",
    "ctr = (np.mean(lats), np.mean(lons))\n",
    "\n",
    "# Calculate zoom level based on coordinates\n",
    "margin = -0.5\n",
    "zoom_bias = 0\n",
    "lat_zoom_level = _degree_to_zoom_level(margin = margin, *lats ) + zoom_bias\n",
    "lon_zoom_level = _degree_to_zoom_level(margin = margin, *lons) + zoom_bias\n",
    "zoom = min(lat_zoom_level, lon_zoom_level)\n",
    "\n",
    "DcViewer(dc = dc,\n",
    "         products = [product_sel.value],\n",
    "         time = str(min_max_dates[1].year), \n",
    "         width = \"100%\",\n",
    "         center = ctr,\n",
    "         zoom = zoom,\n",
    "         max_datasets_to_display = 3000,\n",
    "         style = {'weight': 1, 'fillOpacity': 0.1})"
   ]
  },
  {
   "cell_type": "code",
   "execution_count": null,
   "metadata": {
    "tags": []
   },
   "outputs": [],
   "source": [
    "# Select geographical extent by adding an empty map you can draw on it\n",
    "\n",
    "crs = def_crs\n",
    "if crs is None:\n",
    "    crs = 'epsg:4326'\n",
    "\n",
    "m, poly = draw_map(lon_ext = full_lon, lat_ext = full_lat, crs = crs, src = True, fsc = True)\n",
    "print('Zoom, pan and draw a rectangle or polygon (the bounding box will be used) and run the next cell:')\n",
    "m"
   ]
  },
  {
   "cell_type": "code",
   "execution_count": null,
   "metadata": {
    "tags": []
   },
   "outputs": [],
   "source": [
    "# Once a feature is drawn, extract the bounding box of the last feature drawn\n",
    "\n",
    "coords = poly.last_draw['geometry']['coordinates']\n",
    "geo_extent = Polygon(coords[0]).bounds\n",
    "\n",
    "min_lon = geo_extent[0]\n",
    "min_lat = geo_extent[1]\n",
    "max_lon = geo_extent[2]\n",
    "max_lat = geo_extent[3]"
   ]
  },
  {
   "cell_type": "code",
   "execution_count": null,
   "metadata": {
    "tags": []
   },
   "outputs": [],
   "source": [
    "# Get CRS and resolution\n",
    "\n",
    "if not def_crs is None:\n",
    "    epsg = def_crs.split(':')[1]\n",
    "    res_x = mtd['lon_res']\n",
    "    res_y = mtd['lat_res']\n",
    "else:\n",
    "    # get native epsg code and resolution of a given measurement (of a given product)\n",
    "    nat_epsg, res_x, res_y = get_native_epsg_and_res(dc, product_sel.value, measur_sel[0])\n",
    "\n",
    "    # get most common CRS within the defined parameters\n",
    "    crs_wkt = mostcommon_crs(dc = dc, product = product_sel.value,\n",
    "                             query = {'measurements': measur_sel,\n",
    "                                      'longitude': (min_lon, max_lon),\n",
    "                                      'latitude': (min_lat, max_lat),\n",
    "                                      'time': min_max_dates})\n",
    "    epsg = pyproj.CRS(crs_wkt).to_epsg()\n",
    "\n",
    "    if nat_epsg != epsg:\n",
    "        print(f\"! the native and most commong epsgs differ ({nat_epsg}, {epsg} respectively) !\\n! You might need to adapt the `output_crs`and `resolution`parameters !!!\")"
   ]
  },
  {
   "cell_type": "code",
   "execution_count": null,
   "metadata": {},
   "outputs": [],
   "source": [
    "crs_wkt"
   ]
  },
  {
   "cell_type": "code",
   "execution_count": null,
   "metadata": {
    "tags": []
   },
   "outputs": [],
   "source": [
    "# Select time period\n",
    "\n",
    "start_date = widgets.DatePicker(description='Start date',\n",
    "                                value = min_max_dates[0].date(),\n",
    "                                disabled=False)\n",
    "end_date = widgets.DatePicker(description='End date',\n",
    "                              value = min_max_dates[1].date(),\n",
    "                              disabled=False)\n",
    "display(widgets.Label('IF REQUIRED define time period (cannot be outside of the initial displayed time) and run the next cell:'),\n",
    "        widgets.HBox([start_date, end_date]))"
   ]
  },
  {
   "cell_type": "code",
   "execution_count": null,
   "metadata": {
    "tags": []
   },
   "outputs": [],
   "source": [
    "# Check defined time period\n",
    "\n",
    "assert start_date.value >= min_max_dates[0].date(), \\\n",
    "       'Start date cannot be defined before {}'.format(min_max_dates[0].date())\n",
    "assert end_date.value <= min_max_dates[1].date(), \\\n",
    "       'End date cannot be defined after {}'.format(min_max_dates[1].date())\n",
    "assert start_date.value <= end_date.value, \\\n",
    "       'End date is defined before start date'\n",
    "\n",
    "# end_date = end_date.value + timedelta(days=1) # end_date is not inclusive !\n",
    "\n",
    "print('Time period is OK')"
   ]
  },
  {
   "cell_type": "code",
   "execution_count": null,
   "metadata": {
    "tags": []
   },
   "outputs": [],
   "source": [
    "# Resume configuration parameters in a format ready to be copy/pasted to a new cell,\n",
    "# and in a txt file to be loaded with the '%load config_cell.txt' magic.\n",
    "\n",
    "str = f'''# Configuration\n",
    "\n",
    "product = '{product_sel.value}'\n",
    "measurements = {measur_sel}\n",
    "{msg}\n",
    "longitude = ({min_lon}, {max_lon})\n",
    "latitude = ({min_lat}, {max_lat})\n",
    "crs = 'epsg:4326'\n",
    "\n",
    "time = ('{start_date.value.strftime('%Y-%m-%d')}', '{end_date.value.strftime('%Y-%m-%d')}')\n",
    "# the following date formats are also valid:\n",
    "# time = ('2000-01-01', '2001-12-31')\n",
    "# time=('2000-01', '2001-12')\n",
    "# time=('2000', '2001')\n",
    "\n",
    "# Below is the most appropiate UTM zone according to the DataCube System.\n",
    "# We prefer not to use this, instead specifying SwissGrid (epsg:2056).\n",
    "#output_crs = 'epsg:{epsg}'\n",
    "output_crs = 'epsg:2056'\n",
    "resolution = -{res_y}, {res_x}'''\n",
    "\n",
    "print(str)\n",
    "with open('config_cell.txt', 'w') as text_file:\n",
    "    print(str, file=text_file)"
   ]
  },
  {
   "cell_type": "code",
   "execution_count": null,
   "metadata": {},
   "outputs": [],
   "source": []
  }
 ],
 "metadata": {
  "kernelspec": {
   "display_name": "Python (Open Data Cube Development)",
   "language": "python",
   "name": "odc-dev"
  },
  "language_info": {
   "codemirror_mode": {
    "name": "ipython",
    "version": 3
   },
   "file_extension": ".py",
   "mimetype": "text/x-python",
   "name": "python",
   "nbconvert_exporter": "python",
   "pygments_lexer": "ipython3",
   "version": "3.10.12"
  }
 },
 "nbformat": 4,
 "nbformat_minor": 4
}
