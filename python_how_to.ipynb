{
 "cells": [
  {
   "cell_type": "markdown",
   "id": "150d1213-1dbd-4ca6-9f29-5a680380d90d",
   "metadata": {},
   "source": [
    "# An introduction to Python "
   ]
  },
  {
   "cell_type": "markdown",
   "id": "e1a78f0f-ba12-451e-b1d3-4de766fa83fb",
   "metadata": {},
   "source": [
    "## Getting comfortable with JupyterLab\n",
    "\n",
    "Take a moment to look around the JupyterLab interface."
   ]
  },
  {
   "cell_type": "markdown",
   "id": "f356e9cb-62a2-4bae-879a-461f91588ea5",
   "metadata": {},
   "source": [
    "### Directory/files structure\n",
    "\n",
    "A note on how Unix file paths work. (Important so that scripts which the students write can access the helper functions on which they rely)."
   ]
  },
  {
   "cell_type": "markdown",
   "id": "ac94fc31-1a64-480b-a8eb-806d0aaefa4e",
   "metadata": {},
   "source": [
    "## Python basics"
   ]
  },
  {
   "cell_type": "code",
   "execution_count": null,
   "id": "da37cbea-7c2d-46ac-bbb7-ca89bce63caf",
   "metadata": {},
   "outputs": [],
   "source": [
    "# Comments, like this one, are preceded by a hash symbol. Comments are not executed."
   ]
  },
  {
   "cell_type": "code",
   "execution_count": null,
   "id": "9833ac8a-4417-48df-9406-6706b0a5dd05",
   "metadata": {},
   "outputs": [],
   "source": [
    "# We can use the print() function to display stuff on screen\n",
    "print('Hello World!)"
   ]
  },
  {
   "cell_type": "code",
   "execution_count": null,
   "id": "0662ab3e-03e9-408c-bad0-2f4371ce80c5",
   "metadata": {},
   "outputs": [],
   "source": [
    "# ...except there's something wrong with this line! Can you fix it?"
   ]
  },
  {
   "cell_type": "code",
   "execution_count": null,
   "id": "298c4354-4b5b-4a47-b94c-e049d02196ef",
   "metadata": {},
   "outputs": [],
   "source": [
    "# Variables are used to store data. They may be text, numbers, datacubes...\n",
    "my_message = 'This is a string'\n",
    "a_big_number = 10000\n",
    "\n",
    "# Use the print() command to display the contents of a variable\n",
    "print(my_message)\n",
    "print(a_big_number)"
   ]
  },
  {
   "cell_type": "code",
   "execution_count": null,
   "id": "bc32dec3-2a55-4781-a80b-dc6e8cff6bf1",
   "metadata": {},
   "outputs": [],
   "source": [
    "# In JupyterLab notebooks, we can also look at the contents of a variable simply by typing its name then Shift+Enter:\n",
    "my_message"
   ]
  },
  {
   "cell_type": "code",
   "execution_count": null,
   "id": "db9b5580-0127-4cc5-b1e0-69ec038f8811",
   "metadata": {},
   "outputs": [],
   "source": [
    "# Variables can be added, subtracted, multiplied etc, e.g.\n",
    "a = 9\n",
    "b = 5\n",
    "c = a + b\n",
    "print(c)"
   ]
  },
  {
   "cell_type": "markdown",
   "id": "adcc5999-f6a8-423f-8cca-4d1ac9fc3d7d",
   "metadata": {},
   "source": [
    "We say we **assign** a `variable` if we define a value for it. The variable called `a` in the example above is assigned the number 9.\n",
    "\n",
    "The assignment comes through the `=` symbol. We read:<br>\n",
    "- var **is (defined/assigned by/through)** 9 <br> \n",
    "- <font col=red>We do not read **equal to**, which is used when testing if two values are the same. (This operation actually uses the operator `==`).</font>\n"
   ]
  },
  {
   "cell_type": "markdown",
   "id": "ab76f7f8-ce95-4a60-a4f8-dbb9b9573d91",
   "metadata": {},
   "source": [
    "## Data structures\n",
    "\n",
    "You'll see some of these appear in some of our later examples, so it is useful to be aware of them."
   ]
  },
  {
   "cell_type": "code",
   "execution_count": null,
   "id": "3f14d155-e8d7-4527-8ab5-f3b15e6e5524",
   "metadata": {},
   "outputs": [],
   "source": [
    "# Lists store several items together\n",
    "my_list_of_numbers = [1, 6, 9, 10]\n",
    "various_text = ['Geography', 'Geology', 'Philosophy']\n",
    "print('various_text, before changing:', various_text)\n",
    "\n",
    "# They can be changed, e.g.\n",
    "various_text.append('Chemistry')\n",
    "print('various_text, after changing:', various_text)\n",
    "\n",
    "# Tuples are like lists, but once created they cannot be changed\n",
    "a_tuple = (8, 7, 1)\n",
    "print(a_tuple)"
   ]
  },
  {
   "cell_type": "code",
   "execution_count": null,
   "id": "378faf72-c528-451c-bdad-41aab3016a70",
   "metadata": {},
   "outputs": [],
   "source": [
    "# If we try to modify a tuple we will get an error\n",
    "a_tuple.append(1)"
   ]
  },
  {
   "cell_type": "code",
   "execution_count": null,
   "id": "de19216a-1d8f-428f-8a7d-a654bb0005bb",
   "metadata": {},
   "outputs": [],
   "source": [
    "print(my_list_of_numbers)"
   ]
  },
  {
   "cell_type": "code",
   "execution_count": null,
   "id": "efab724a-e85f-4ca1-8f65-b01d1fcd222e",
   "metadata": {},
   "outputs": [],
   "source": [
    "print(various_text)"
   ]
  },
  {
   "cell_type": "code",
   "execution_count": null,
   "id": "e3b85bd2-499c-4ffb-a4fc-e4e755e8baa9",
   "metadata": {},
   "outputs": [],
   "source": [
    "# Dictionaries store information as key:data pairs\n",
    "phone_book = {\"John\": 123, \"Jane\": 234, \"Jerard\": 345}\n",
    "print(phone_book)\n",
    "\n",
    "# Add new item to the dictionary\n",
    "phone_book[\"Jill\"] = 345\n",
    "print(phone_book)"
   ]
  },
  {
   "cell_type": "markdown",
   "id": "5ef4fbc4-e727-4f9f-a511-18154a341ec8",
   "metadata": {},
   "source": [
    "## Functions (`Def`initions)"
   ]
  },
  {
   "cell_type": "code",
   "execution_count": null,
   "id": "7161fc3c-8811-4696-936b-532fcf635505",
   "metadata": {},
   "outputs": [],
   "source": [
    "# Function with one argument. It does not return the value.\n",
    "# x is a parameter\n",
    "def foo(x):\n",
    "    print(\"x = %d\" % x)\n",
    "\n",
    "# pass 5 to the function parameter. Here 5 is an arg.\n",
    "foo(5)"
   ]
  },
  {
   "cell_type": "code",
   "execution_count": null,
   "id": "e1b73f23-9040-4899-85d6-b2dd88a1e5c7",
   "metadata": {},
   "outputs": [],
   "source": [
    "# function that returns sum of 2 numbers\n",
    "# Both numbers must be provided\n",
    "def sum_two_numbers(a, b):\n",
    "    return a + b\n",
    "\n",
    "c = sum_two_numbers(3, 12)\n",
    "print(\"c = %d\" % c)\n",
    "# Answer should be 15!"
   ]
  },
  {
   "cell_type": "code",
   "execution_count": null,
   "id": "627dcbba-0368-45ea-8673-b251dfd5c9ae",
   "metadata": {},
   "outputs": [],
   "source": [
    "# Function which returns data, has optional argument\n",
    "def multiply_by(a, b=2):\n",
    "    return a * b\n",
    "\n",
    "# single arg can be passed and will use default optional argument.\n",
    "print(multiply_by(3))\n",
    "\n",
    "# Or, specify the optional argument.\n",
    "print(multiply_by(3, b=47))\n",
    "\n"
   ]
  },
  {
   "cell_type": "markdown",
   "id": "615fa8bd-5c08-457f-9a2b-afac769fcb57",
   "metadata": {},
   "source": [
    "## Accidentally overwriting variables and functions"
   ]
  },
  {
   "cell_type": "markdown",
   "id": "7c082c60-26ea-4782-a996-e9d67156fe64",
   "metadata": {},
   "source": [
    "Take a look at the example below."
   ]
  },
  {
   "cell_type": "code",
   "execution_count": null,
   "id": "782a3718-5953-4751-8ce8-9c65271d3292",
   "metadata": {},
   "outputs": [],
   "source": [
    "# This function returns a and b as a List\n",
    "def c(a, b):\n",
    "    return [a, b]\n",
    "\n",
    "\n",
    "firstitem = \"apple\"\n",
    "seconditem = 3\n",
    "d = c(firstitem, seconditem)\n",
    "print(d)\n",
    "\n"
   ]
  },
  {
   "cell_type": "markdown",
   "id": "443ff452-10ef-4f47-9b64-f4f1427f04ad",
   "metadata": {},
   "source": [
    "That worked fine. We got a 2-item list back.\n",
    "Now let's \"accidentally\" re-assign the value of `c` to be a string."
   ]
  },
  {
   "cell_type": "code",
   "execution_count": null,
   "id": "9415a5c8-0665-4e06-a3c8-8ea97a65ee2f",
   "metadata": {},
   "outputs": [],
   "source": [
    "c = \"tomato\"\n",
    "d = c(firstitem, seconditem)\n",
    "print(d)"
   ]
  },
  {
   "cell_type": "markdown",
   "id": "5c4aae78-e06d-442b-b99d-f1441cb4e00a",
   "metadata": {},
   "source": [
    "Oops, we get a `TypeError`.. Now that `c='tomato'`, we have lost our original definition of c as a function from above."
   ]
  },
  {
   "cell_type": "markdown",
   "id": "a3261c81-3dcd-4af4-bf06-ae89e38e26d9",
   "metadata": {},
   "source": [
    "## Loops and If statements\n",
    "\n",
    "You do not need to know about Loops and If statements for this course. But if you already know about them, feel free to use them. If you think they would be useful to you then you are also welcome to ask one of the teachers for more information during the project days.\n",
    "\n",
    "For reference, we have included examples of these items below."
   ]
  },
  {
   "cell_type": "markdown",
   "id": "40644ef8-348d-4de9-bb51-2d175565ef22",
   "metadata": {
    "tags": []
   },
   "source": [
    "### Loops/iteration\n",
    "An example of iterating using a `for` statement. Other types of iteration are also possible. More information available at http://justinbois.github.io/bootcamp/2020_fsri/lessons/l06_iteration.html."
   ]
  },
  {
   "cell_type": "code",
   "execution_count": null,
   "id": "a1e8454e-784a-408c-9613-75787c9fe1fd",
   "metadata": {},
   "outputs": [],
   "source": [
    "# Loop through a list\n",
    "my_list_of_numbers = [1, 6, 9, 10]\n",
    "for n in my_list_of_numbers:\n",
    "    print(n)\n",
    "    "
   ]
  },
  {
   "cell_type": "markdown",
   "id": "fe787317-cf55-40c4-9351-53f8c328ef82",
   "metadata": {},
   "source": [
    "### If/conditional logic\n",
    "An example of conditional logic using an `if` statement. Other ways of specifying conditional logic are also possible. More information available at http://justinbois.github.io/bootcamp/2020_fsri/lessons/l04_more_operators_and_conditionals.html"
   ]
  },
  {
   "cell_type": "code",
   "execution_count": null,
   "id": "6529f41b-5502-4baa-b819-1cb4d5b59366",
   "metadata": {},
   "outputs": [],
   "source": [
    "# Check contents of variables with if statements\n",
    "name = \"John\"\n",
    "age = 17\n",
    "\n",
    "if name == \"John\" or age == 17:\n",
    "    print(\"name is %s\" %name)\n",
    "    print(\"%s is %d years old\" %(name, age))"
   ]
  }
 ],
 "metadata": {
  "kernelspec": {
   "display_name": "Python 3 (ipykernel)",
   "language": "python",
   "name": "python3"
  },
  "language_info": {
   "codemirror_mode": {
    "name": "ipython",
    "version": 3
   },
   "file_extension": ".py",
   "mimetype": "text/x-python",
   "name": "python",
   "nbconvert_exporter": "python",
   "pygments_lexer": "ipython3",
   "version": "3.8.13"
  }
 },
 "nbformat": 4,
 "nbformat_minor": 5
}
