{
 "cells": [
  {
   "cell_type": "markdown",
   "id": "150d1213-1dbd-4ca6-9f29-5a680380d90d",
   "metadata": {},
   "source": [
    "# An introduction to Python "
   ]
  },
  {
   "cell_type": "markdown",
   "id": "e1a78f0f-ba12-451e-b1d3-4de766fa83fb",
   "metadata": {},
   "source": [
    "## Getting comfortable with JupyterLab\n",
    "\n",
    "Take a moment to look around the JupyterLab interface."
   ]
  },
  {
   "cell_type": "markdown",
   "id": "ac94fc31-1a64-480b-a8eb-806d0aaefa4e",
   "metadata": {},
   "source": [
    "## Python basics"
   ]
  },
  {
   "cell_type": "code",
   "execution_count": null,
   "id": "da37cbea-7c2d-46ac-bbb7-ca89bce63caf",
   "metadata": {},
   "outputs": [],
   "source": [
    "# Comments, like this one, are preceded by a hash symbol. Comments are not executed."
   ]
  },
  {
   "cell_type": "code",
   "execution_count": null,
   "id": "298c4354-4b5b-4a47-b94c-e049d02196ef",
   "metadata": {},
   "outputs": [],
   "source": [
    "# Variables are used to store data. They may be text, numbers, datacubes...\n",
    "my_message = 'This is a string'\n",
    "a_big_number = 10000\n",
    "\n",
    "# Use the print() command to display the contents of a variable\n",
    "print(my_message)\n",
    "print(a_big_number)"
   ]
  },
  {
   "cell_type": "code",
   "execution_count": 2,
   "id": "bc32dec3-2a55-4781-a80b-dc6e8cff6bf1",
   "metadata": {},
   "outputs": [
    {
     "ename": "NameError",
     "evalue": "name 'my_message' is not defined",
     "output_type": "error",
     "traceback": [
      "\u001b[0;31m---------------------------------------------------------------------------\u001b[0m",
      "\u001b[0;31mNameError\u001b[0m                                 Traceback (most recent call last)",
      "Input \u001b[0;32mIn [2]\u001b[0m, in \u001b[0;36m<cell line: 2>\u001b[0;34m()\u001b[0m\n\u001b[1;32m      1\u001b[0m \u001b[38;5;66;03m# In JupyterLab notebooks, we can also look at the contents of a variable simply by typing its name then Shift+Enter:\u001b[39;00m\n\u001b[0;32m----> 2\u001b[0m \u001b[43mmy_message\u001b[49m\n",
      "\u001b[0;31mNameError\u001b[0m: name 'my_message' is not defined"
     ]
    }
   ],
   "source": [
    "# In JupyterLab notebooks, we can also look at the contents of a variable simply by typing its name then Shift+Enter:\n",
    "my_message"
   ]
  },
  {
   "cell_type": "code",
   "execution_count": 3,
   "id": "db9b5580-0127-4cc5-b1e0-69ec038f8811",
   "metadata": {},
   "outputs": [
    {
     "name": "stdout",
     "output_type": "stream",
     "text": [
      "14\n"
     ]
    }
   ],
   "source": [
    "# Variables can be added, subtracted, multiplied etc, e.g.\n",
    "a = 9\n",
    "b = 5\n",
    "c = a + b\n",
    "print(c)"
   ]
  },
  {
   "cell_type": "markdown",
   "id": "ab76f7f8-ce95-4a60-a4f8-dbb9b9573d91",
   "metadata": {},
   "source": [
    "## Data structures\n",
    "\n",
    "You'll see some of these appear in some of our later examples, so it is useful to be aware of them."
   ]
  },
  {
   "cell_type": "code",
   "execution_count": null,
   "id": "3f14d155-e8d7-4527-8ab5-f3b15e6e5524",
   "metadata": {},
   "outputs": [],
   "source": [
    "# Lists store several items together\n",
    "my_list_of_numbers = [1, 6, 9, 10]\n",
    "various_text = ['Geography', 'Geology', 'Philosophy']\n",
    "\n",
    "# They can be changed, e.g.\n",
    "various_text.append('Chemistry')\n",
    "\n",
    "# Tuples are like lists, but once created they cannot be changed\n",
    "a_tuple = (8, 7, 1)"
   ]
  },
  {
   "cell_type": "code",
   "execution_count": null,
   "id": "e3b85bd2-499c-4ffb-a4fc-e4e755e8baa9",
   "metadata": {},
   "outputs": [],
   "source": [
    "# Dictionaries store information as key:data pairs\n",
    "phone_book = {\"John\": 123, \"Jane\": 234, \"Jerard\": 345}\n",
    "print(phone_book)\n",
    "\n",
    "# Add new item to the dictionary\n",
    "phone_book[\"Jill\"] = 345\n",
    "print(phone_book)"
   ]
  },
  {
   "cell_type": "markdown",
   "id": "5ef4fbc4-e727-4f9f-a511-18154a341ec8",
   "metadata": {},
   "source": [
    "## Functions (`Def`initions)"
   ]
  },
  {
   "cell_type": "code",
   "execution_count": null,
   "id": "32e77b24-4543-4bd8-a515-388b6fbba989",
   "metadata": {},
   "outputs": [],
   "source": [
    "print(\"***** FUNCTION WITH PARAMETERS AND ARG *****\")\n",
    "\n",
    "# x is a parameter\n",
    "def foo(x):\n",
    "    print(\"x = %d\" % x)\n",
    "\n",
    "# pass 5 to the function parameter. Here 5 is an arg.\n",
    "foo(5)\n",
    "\n",
    "# ---------------- OUTPUT ----------------\n",
    "# ***** FUNCTION WITH PARAMETERS AND ARG *****\n",
    "# x = 5\n",
    "\n",
    "\n",
    "print(\"***** FUNCTION WITH RETURN *****\")\n",
    "\n",
    "# function that return sum or 2 numbers\n",
    "def sum_two_numbers(a, b):\n",
    "    return a + b\n",
    "\n",
    "c = sum_two_numbers(3, 12)\n",
    "print(\"c = %d\" % c)\n",
    "\n",
    "# ---------------- OUTPUT ----------------\n",
    "# ***** FUNCTION WITH RETURN *****\n",
    "# c = 15\n",
    "\n",
    "\n",
    "print(\"***** FUNCTION WITH DEFAULT PARAMETER *****\")\n",
    "\n",
    "def multiply_by(a, b=2):\n",
    "    return a * b\n",
    "\n",
    "print(multiply_by(3, 47))\n",
    "\n",
    "# single arg can be passed\n",
    "print(multiply_by(3))\n"
   ]
  },
  {
   "cell_type": "markdown",
   "id": "a3261c81-3dcd-4af4-bf06-ae89e38e26d9",
   "metadata": {},
   "source": [
    "## Loops and If statements\n",
    "\n",
    "You do not need to know about Loops and If statements for this course. But if you already know about them, feel free to use them. If you think they would be useful to you then you are also welcome to ask one of the teachers for more information during the project days.\n",
    "\n",
    "For reference, we have included examples of these items below."
   ]
  },
  {
   "cell_type": "code",
   "execution_count": null,
   "id": "647b8352-49c6-46f4-8b55-8d9494e64ea2",
   "metadata": {},
   "outputs": [],
   "source": [
    "# Loop through a list\n",
    "my_list_of_numbers = [1, 6, 9, 10]\n",
    "for n in my_list_of_numbers:\n",
    "    print(n)\n",
    "    \n",
    "\n",
    "# Check contents of variables with if statements\n",
    "name = \"John\"\n",
    "age = 17\n",
    "\n",
    "if name == \"John\" or age == 17:\n",
    "    print(\"name is %s\" %name)\n",
    "    print(\"%s is %d years old\" %(name, age))\n"
   ]
  }
 ],
 "metadata": {
  "kernelspec": {
   "display_name": "Python (Open Data Cube)",
   "language": "python",
   "name": "odc"
  },
  "language_info": {
   "codemirror_mode": {
    "name": "ipython",
    "version": 3
   },
   "file_extension": ".py",
   "mimetype": "text/x-python",
   "name": "python",
   "nbconvert_exporter": "python",
   "pygments_lexer": "ipython3",
   "version": "3.9.12"
  }
 },
 "nbformat": 4,
 "nbformat_minor": 5
}
