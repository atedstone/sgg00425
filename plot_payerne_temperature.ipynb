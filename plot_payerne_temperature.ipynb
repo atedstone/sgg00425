{
 "cells": [
  {
   "cell_type": "markdown",
   "id": "194cc714-c3de-4138-a73a-42a581e65133",
   "metadata": {},
   "source": [
    "# Plot monthly temperatures at Payerne\n",
    "***\n",
    "\n",
    "During the Data Visualisation session we discussed what good graphs can look like. We used Excel to plot monthly temperatures at Payerne. This can also be done using Python. Here we use the following packages:\n",
    "\n",
    "- `pandas` - for loading the data into a DataFrame.\n",
    "- `matplotlib` - the basic framework for plotting with Python.\n",
    "- `seaborn` - mainly a statistical plotting package, but also sets some nicer aesthetic defaults.\n",
    "- `datetime` - for setting the limits of the x axis."
   ]
  },
  {
   "cell_type": "code",
   "execution_count": null,
   "id": "223d2f96-a4d4-4164-a1d4-61137a486c3c",
   "metadata": {},
   "outputs": [],
   "source": [
    "# First download the data from switchdrive.\n",
    "txt_filename = \"climate-reports-tables-homogenized_PAY.txt\"\n",
    "import os\n",
    "if os.path.exists(txt_filename):\n",
    "    print('File already downloaded.')\n",
    "else:\n",
    "    print('Downloading...')\n",
    "    import requests\n",
    "    URL = \"https://drive.switch.ch/index.php/s/oH0RaSD9uO63n2o/download\"\n",
    "    response = requests.get(URL)\n",
    "    open(txt_filename, \"wb\").write(response.content)\n",
    "    print('Done.')"
   ]
  },
  {
   "cell_type": "code",
   "execution_count": null,
   "id": "6da6cabc-4b03-4e7e-94c5-de4621bba779",
   "metadata": {},
   "outputs": [],
   "source": [
    "# Load the necessary packages.\n",
    "import pandas as pd\n",
    "import matplotlib.pyplot as plt\n",
    "import seaborn as sns\n",
    "import datetime as dt"
   ]
  },
  {
   "cell_type": "code",
   "execution_count": null,
   "id": "efafdfec-19ff-43fa-a711-add08415399a",
   "metadata": {},
   "outputs": [],
   "source": [
    "# Load the data.\n",
    "data = pd.read_table(\n",
    "    txt_filename, \n",
    "    skiprows=27, # Skip the first 27 rows\n",
    "    sep='\\s+', # The data are separated by at least one space (\\s)\n",
    "    parse_dates=[['Year', 'Month']], # Convert Year and Month into Python dates\n",
    "    index_col='Year_Month' # Set pandas DataFrame index to the date.\n",
    "    )"
   ]
  },
  {
   "cell_type": "code",
   "execution_count": null,
   "id": "27110aa2-66d8-41d5-8941-340dab0571e0",
   "metadata": {},
   "outputs": [],
   "source": [
    "# Look at the data.\n",
    "data"
   ]
  },
  {
   "cell_type": "code",
   "execution_count": null,
   "id": "d67a8bc8-f475-4c11-8aa0-ce142a7878b3",
   "metadata": {},
   "outputs": [],
   "source": [
    "# Using seaborn, we say that we want a figure suitable for use in a paper.\n",
    "sns.set_context('paper')\n",
    "\n",
    "# Set up the figure, and the axis within the figure.\n",
    "fig = plt.figure(figsize=(6,3.5))\n",
    "ax = plt.subplot(111) # We want just a single axis.\n",
    "\n",
    "# The line commented out below is the simple way of plotting, but you \n",
    "# cannot change the xlimits after!\n",
    "#data.Temperature.plot(ax=ax)\n",
    "\n",
    "# Plot the data\n",
    "plt.plot(data.index, data.Temperature)\n",
    "\n",
    "# x axis settings\n",
    "plt.xlabel('Date')\n",
    "plt.xlim(dt.date(1965, 1, 1), dt.date(2022, 1, 1))\n",
    "\n",
    "# y axis settings\n",
    "plt.ylabel('Air Temperature (degrees C)')\n",
    "\n",
    "# I've disabled the gridlines in the background completely\n",
    "plt.grid(visible=False)\n",
    "\n",
    "# This command gets rid of more borders and ticks.\n",
    "sns.despine()\n",
    "\n",
    "plt.savefig('PAY_monthly.png', dpi=300)"
   ]
  },
  {
   "cell_type": "markdown",
   "id": "51be44ed-e8ee-4c2f-bba2-c7696921ad18",
   "metadata": {},
   "source": [
    "## Bonus material"
   ]
  },
  {
   "cell_type": "markdown",
   "id": "8e6913dd-fadd-4089-aa09-454c985542c6",
   "metadata": {},
   "source": [
    "### Summary statistics"
   ]
  },
  {
   "cell_type": "code",
   "execution_count": null,
   "id": "67785174-e3da-406a-9fb0-b8a4a89ddc22",
   "metadata": {},
   "outputs": [],
   "source": [
    "data.describe()"
   ]
  },
  {
   "cell_type": "markdown",
   "id": "4607ad95-799b-494b-af84-df73de21b37e",
   "metadata": {},
   "source": [
    "### Annual time series"
   ]
  },
  {
   "cell_type": "code",
   "execution_count": null,
   "id": "dfdd6eb7-4f3f-4988-8cc7-f669b4beb964",
   "metadata": {},
   "outputs": [],
   "source": [
    "annual_t = data.resample('1AS').mean()\n",
    "annual_t.head()"
   ]
  },
  {
   "cell_type": "code",
   "execution_count": null,
   "id": "1f8e9881-7d8f-41cc-87da-27551fa2571f",
   "metadata": {},
   "outputs": [],
   "source": [
    "plt.figure()\n",
    "plt.plot(annual_t.index, annual_t.Temperature)\n",
    "sns.despine()"
   ]
  },
  {
   "cell_type": "markdown",
   "id": "d12b013c-2159-4675-9d6a-1f8e7f536119",
   "metadata": {},
   "source": [
    "2022 is incomplete, which means we are visualising a higher annual temperature than we should. Let's remove and re-plot."
   ]
  },
  {
   "cell_type": "code",
   "execution_count": null,
   "id": "2e98e420-4f9c-4283-806d-3ff835fa8955",
   "metadata": {},
   "outputs": [],
   "source": [
    "annual_t_clean = annual_t[:'2021']\n",
    "plt.figure()\n",
    "plt.plot(annual_t_clean.index, annual_t_clean.Temperature)\n",
    "plt.ylabel('Air Temperature (degrees C)')\n",
    "sns.despine()\n",
    "plt.savefig('PAY_annual.png', dpi=300)"
   ]
  },
  {
   "cell_type": "code",
   "execution_count": null,
   "id": "4a61c407-34ee-4725-a176-bf62bb9d9e11",
   "metadata": {},
   "outputs": [],
   "source": []
  }
 ],
 "metadata": {
  "kernelspec": {
   "display_name": "Python (Open Data Cube)",
   "language": "python",
   "name": "odc"
  },
  "language_info": {
   "codemirror_mode": {
    "name": "ipython",
    "version": 3
   },
   "file_extension": ".py",
   "mimetype": "text/x-python",
   "name": "python",
   "nbconvert_exporter": "python",
   "pygments_lexer": "ipython3",
   "version": "3.9.12"
  }
 },
 "nbformat": 4,
 "nbformat_minor": 5
}
