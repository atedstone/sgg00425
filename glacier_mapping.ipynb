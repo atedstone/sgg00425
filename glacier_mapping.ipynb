{
 "cells": [
  {
   "cell_type": "code",
   "execution_count": 1,
   "metadata": {},
   "outputs": [
    {
     "data": {
      "text/html": [
       "<style>\n",
       "    .dothis{\n",
       "    font-weight: bold;\n",
       "    color: #ff7f0e;\n",
       "    font-size:large\n",
       "    }\n",
       "</style>\n"
      ],
      "text/plain": [
       "<IPython.core.display.HTML object>"
      ]
     },
     "metadata": {},
     "output_type": "display_data"
    }
   ],
   "source": [
    "%%html\n",
    "<style>\n",
    "    .dothis{\n",
    "    font-weight: bold;\n",
    "    color: #ff7f0e;\n",
    "    font-size:large\n",
    "    }\n",
    "</style>"
   ]
  },
  {
   "cell_type": "markdown",
   "metadata": {},
   "source": [
    "# Glacier mapping by means of band math\n",
    "\n",
    "*****\n",
    "\n",
    "This notebook demonstrates how we can use Python to do the same glacier mapping that we earlier carried out in QGIS.\n",
    "\n",
    "There are several points at which you will need to modify a line of code. These are identified by <span class='dothis'>bold orange text</span>.\n"
   ]
  },
  {
   "cell_type": "markdown",
   "metadata": {},
   "source": [
    "### Reading the data\n",
    "\n",
    "We start with a few preparation such as reading all the packages we use in the processing."
   ]
  },
  {
   "cell_type": "code",
   "execution_count": null,
   "metadata": {},
   "outputs": [],
   "source": [
    "# Make sure the script is using the proper kernel\n",
    "try:\n",
    "    %run ../swiss_utils/assert_env.py\n",
    "except:\n",
    "    %run ./swiss_utils/assert_env.py"
   ]
  },
  {
   "cell_type": "code",
   "execution_count": null,
   "metadata": {},
   "outputs": [],
   "source": [
    "# Import modules\n",
    "\n",
    "# reload module before executing code\n",
    "%load_ext autoreload\n",
    "%autoreload 2\n",
    "\n",
    "# define modules locations (you might have to adapt define_mod_locs.py)\n",
    "%run ./swiss_utils/define_mod_locs.py\n",
    "\n",
    "# to plot figures\n",
    "%matplotlib inline\n",
    "\n",
    "# import full general libraries\n",
    "\n",
    "# import general libraries and allocate them a specific name\n",
    "import time\n",
    "import rioxarray\n",
    "import xarray as xr\n",
    "import numpy as np # np.average\n",
    "import pandas as pd # DataFrame\n",
    "import matplotlib.pyplot as plt\n",
    "\n",
    "# import specific functions from general libraries\n",
    "from datetime import datetime\n",
    "from IPython.display import Image, display, HTML\n",
    "from matplotlib import colors\n",
    "\n",
    "# import dedicated function of general libraries\n",
    "\n",
    "# import ODC (default) functions\n",
    "from utils.data_cube_utilities.dc_mosaic import create_hdmedians_multiple_band_mosaic\n",
    "from utils.data_cube_utilities.dc_utilities import write_png_from_xr\n",
    "from utils.data_cube_utilities.dc_water_classifier import wofs_classify\n",
    "\n",
    "# import SDC functions\n",
    "from swiss_utils.data_cube_utilities.sdc_utilities import ls_qa_clean, load_multi_clean, \\\n",
    "                                                          write_geotiff_from_xr, time_list\n",
    "from swiss_utils.data_cube_utilities.sdc_advutils import oneband_fig, composite_fig\n",
    "\n",
    "# connect to DC\n",
    "import datacube\n",
    "dc = datacube.Datacube()\n",
    "\n",
    "# silence warning (not recommended during development)\n",
    "import warnings\n",
    "warnings.filterwarnings(\"ignore\")"
   ]
  },
  {
   "cell_type": "code",
   "execution_count": null,
   "metadata": {},
   "outputs": [],
   "source": [
    "# Change the size of the figures displayed in the notebooks: units are inches, order is (width, height).\n",
    "plt.rcParams['figure.figsize'] = (16,8)      "
   ]
  },
  {
   "cell_type": "markdown",
   "metadata": {},
   "source": [
    "**The next cell contains the dataset configuration information, which we have already made for you using the [config_tool](config_tool.ipynb) notebook. This ensures that you will have data well suited to map glacier extent.**\n",
    "\n",
    "**To make this notebook run you will need to use anyone of Landsat or Sentinel 2 products with the red green and blue bands, as well as at least one swir band.**"
   ]
  },
  {
   "cell_type": "code",
   "execution_count": null,
   "metadata": {},
   "outputs": [],
   "source": [
    "# %load config_cell.txt\n",
    "# Configuration\n",
    "\n",
    "product = 'ls8_lasrc_swiss'\n",
    "measurements = ['blue', 'green', 'nir', 'pixel_qa', 'red', 'swir1', 'swir2']\n",
    "\n",
    "min_lon = 7.73228\n",
    "max_lon = 7.957461\n",
    "min_lat = 45.877007\n",
    "max_lat = 46.022142\n",
    "\n",
    "start_date = datetime.strptime('2016-08-01', '%Y-%m-%d')\n",
    "end_date = datetime.strptime('2016-09-30', '%Y-%m-%d')\n"
   ]
  },
  {
   "cell_type": "markdown",
   "metadata": {},
   "source": [
    "****\n",
    "\n",
    "__In the following we are using `dc.load()` to load the data. In contrast to `load_multi_clean()`, typically used in the other examples, \n",
    "this function does not mask any cloud covered areas.__\n",
    "\n",
    "We are using `dc.load()` because the cloud masking does not work in the mountains where snow and ice get confused with clouds. \n",
    "\n",
    "**However, this means we now have to look at the scenes and manually decide which ones are cloud free.**\n",
    "\n",
    "****"
   ]
  },
  {
   "cell_type": "markdown",
   "metadata": {},
   "source": [
    "**If you see an error message when running the cell below, try running the configuration cell above again**"
   ]
  },
  {
   "cell_type": "code",
   "execution_count": null,
   "metadata": {},
   "outputs": [],
   "source": [
    "dataset_in = dc.load(product = product,\n",
    "                     time = (start_date, end_date), \n",
    "                     lon = (min_lon, max_lon), \n",
    "                     lat = (min_lat,max_lat),\n",
    "                     measurements = measurements)\n",
    "dataset_in"
   ]
  },
  {
   "cell_type": "code",
   "execution_count": null,
   "metadata": {},
   "outputs": [],
   "source": [
    "# plot the xarray.Dataset to get an overview of the different scenes along the time axis\n",
    "dataset_in.blue.plot(col='time', col_wrap=5, cmap='Greys')"
   ]
  },
  {
   "cell_type": "markdown",
   "metadata": {},
   "source": [
    "### Selecting a cloud free scene\n",
    "\n",
    "As mentioned before, we have used the `dc.load()` function which does not mask cloud covered areas. \n",
    "\n",
    "<span class='dothis'>We now have to plot all time steps again and then visually define which of the scenes is cloud free.</span>\n",
    "\n",
    "This is best done by visualizing composites, either true color or false color. In the following we first visualize the data in true color, followed by two examples of popular false color visualization for Landsat data."
   ]
  },
  {
   "cell_type": "code",
   "execution_count": null,
   "metadata": {},
   "outputs": [],
   "source": [
    "# Let's plot composites in True color (red, green, blue)\n",
    "# robust=True guesses the minimum and maximum values for each image.\n",
    "dataset_in[['red','green','blue']].to_array().plot.imshow(col='time',col_wrap=5, robust=True)"
   ]
  },
  {
   "cell_type": "code",
   "execution_count": null,
   "metadata": {},
   "outputs": [],
   "source": [
    "# Let's plot composites in False color (nir, red, green)\n",
    "dataset_in[['nir','red', 'green']].to_array().plot.imshow(col='time',col_wrap=5, robust=True)"
   ]
  },
  {
   "cell_type": "code",
   "execution_count": null,
   "metadata": {},
   "outputs": [],
   "source": [
    "# Let's plot composites in another false color combination, this time (swir1, nir, red) which is well suited to see ice and snow\n",
    "dataset_in[['swir1','nir', 'red']].to_array().plot.imshow(col='time',col_wrap=5, robust=True)"
   ]
  },
  {
   "cell_type": "markdown",
   "metadata": {},
   "source": [
    "Regardless of which visualization we work with, we see that from the seven scenes, only one appears cloud free: **2016-08-25T10:17:05**. We continue working only with that scene."
   ]
  },
  {
   "cell_type": "code",
   "execution_count": null,
   "metadata": {},
   "outputs": [],
   "source": [
    "# Let's select the image we are interested in and save it to a new variable.\n",
    "# To do this we provide the date of the image we selected above \n",
    "# The squeeze() command removes the time dimension from the DataArray, so you are left with two dimensions: latitude and longitude.\n",
    "mosaic = dataset_in.sel(time='2016-08-25').squeeze()\n",
    "mosaic"
   ]
  },
  {
   "cell_type": "markdown",
   "metadata": {},
   "source": [
    "<a id='mosaic_plot'> </a>\n",
    "Plot mosaic the default way."
   ]
  },
  {
   "cell_type": "code",
   "execution_count": null,
   "metadata": {},
   "outputs": [],
   "source": [
    "\n",
    "# To do this we need to provide the list of bands we are interested in.\n",
    "mosaic[['red','green','blue']].to_array().plot.imshow(robust=True)\n",
    "plt.gca().set_aspect('equal')"
   ]
  },
  {
   "cell_type": "code",
   "execution_count": null,
   "metadata": {},
   "outputs": [],
   "source": [
    "# Export the red, green and blue bands of the image (might become usefuly later)\n",
    "write_geotiff_from_xr(tif_path = 'glaciers.tif',\n",
    "                      dataset = mosaic[['red','green','blue']].astype('int16'),\n",
    "                      crs=dataset_in.crs,\n",
    "                      compr = 'DEFLATE')"
   ]
  },
  {
   "cell_type": "markdown",
   "metadata": {},
   "source": [
    "\n",
    "### Band math for glacier detection\n",
    "\n",
    "*****\n",
    "\n",
    "We now detect glacier surfaces using the band math: *G = Red / Swir*\n",
    "\n",
    "Thereby a threshold needs to be defined to distinguish glaciers from non-glacierized terrain."
   ]
  },
  {
   "cell_type": "code",
   "execution_count": null,
   "metadata": {},
   "outputs": [],
   "source": [
    "G = mosaic.red / mosaic.swir1"
   ]
  },
  {
   "cell_type": "code",
   "execution_count": null,
   "metadata": {},
   "outputs": [],
   "source": [
    "G.plot()"
   ]
  },
  {
   "cell_type": "markdown",
   "metadata": {},
   "source": [
    "We can faintly recognize the result but the extent of the automatically generated scale is not good. \n",
    "\n",
    "Probably, there are outliers which result in the automated choice of the data range. \n",
    "\n",
    "The easy way to visualize the data while ignoring the outliers is to pass the parameter robust=True. This will use the 2nd and 98th percentiles of the data to compute the color limits."
   ]
  },
  {
   "cell_type": "code",
   "execution_count": null,
   "metadata": {},
   "outputs": [],
   "source": [
    "G.plot(robust=True)"
   ]
  },
  {
   "cell_type": "markdown",
   "metadata": {},
   "source": [
    "**Note how the color palette has changed.** This is simply because the `DataArray.plot()` function we are using tries to automatically define the optimal colormap. \n",
    "\n",
    "We can suppress this behaviour by specifying a colormap from https://matplotlib.org/stable/gallery/color/colormap_reference.html"
   ]
  },
  {
   "cell_type": "code",
   "execution_count": null,
   "metadata": {},
   "outputs": [],
   "source": [
    "G.plot(robust=True, cmap='bwr')"
   ]
  },
  {
   "cell_type": "markdown",
   "metadata": {},
   "source": [
    "Now let's try to plot the data as a histogram"
   ]
  },
  {
   "cell_type": "code",
   "execution_count": null,
   "metadata": {},
   "outputs": [],
   "source": [
    "G.plot.hist()"
   ]
  },
  {
   "cell_type": "markdown",
   "metadata": {},
   "source": [
    "This throws an error message, telling us that the data range reaches infinity. This might also explain some of our difficulties in plotting. \n",
    "\n",
    "<span class='dothis'>Let's address the problem by the root and remove all cells that have the value \"infinte\" and then try to plot the histogram again.</span>"
   ]
  },
  {
   "cell_type": "code",
   "execution_count": null,
   "metadata": {},
   "outputs": [],
   "source": [
    "G = G.where(np.isfinite(G))  # Set all values that are not finite to NaN (Not a Number)"
   ]
  },
  {
   "cell_type": "code",
   "execution_count": null,
   "metadata": {},
   "outputs": [],
   "source": [
    "G.plot.hist()"
   ]
  },
  {
   "cell_type": "markdown",
   "metadata": {},
   "source": [
    "This works now but the results are not satisfying as we can't recognize any details. We know that the threshold is somewhere close to zero, so we would like to see the details in the vicinity of zero. \n",
    "\n",
    "* Let's look at the range of values in G\n",
    "* Let's increase the number of bins in the histogram"
   ]
  },
  {
   "cell_type": "code",
   "execution_count": null,
   "metadata": {},
   "outputs": [],
   "source": [
    "G.plot.hist(bins=40, range=(-50, 50))  # We added the \"bin\" keyword that allows specifying the number of bins to be used"
   ]
  },
  {
   "cell_type": "markdown",
   "metadata": {},
   "source": [
    "This looks even better, but there is no need to visualize all the absence of data on the left-hand side. <span class='dothis'>Adjust the parameters in the plotting command above so you achieve an optimal visualization.</span>"
   ]
  },
  {
   "cell_type": "markdown",
   "metadata": {},
   "source": [
    "### Selecting the threshold value for glacier mapping\n",
    "\n",
    "Now to the actual glacier mapping. <span class='dothis'>As we did in QGIS, we will define a threshold to distinguish between glaciers (where <i>G > threshold</i>) and non-glacierized terrain (<i>G < threshold</i>).</span>\n",
    "\n",
    "We can directly test whether the threshold is appropriate by plotting the scene, but this time telling the program to use discrete colors for all values that are within intervals that we define with the `levels` keyword. Note that we need to define at least two values for `levels`. We simply chose the first one very low, outside the range of data values.\n",
    "\n"
   ]
  },
  {
   "cell_type": "code",
   "execution_count": null,
   "metadata": {},
   "outputs": [],
   "source": [
    "# here we set the threshold - CHANGE THIS TO VARY THE THRESHOLD!\n",
    "threshold = 0  "
   ]
  },
  {
   "cell_type": "code",
   "execution_count": null,
   "metadata": {},
   "outputs": [],
   "source": [
    "# Using the \"levels\" keyword which allows specifying the boundaries between discrete classes for plotting. \n",
    "G.plot(levels=[-100, threshold])  # Here the resulting classes are (1) smaller -100, (2) between -100 and \"threshold\", (3) larger than \"Trheshold\""
   ]
  },
  {
   "cell_type": "markdown",
   "metadata": {},
   "source": [
    "This plot now shows all grid cell with values between -100 and \"threshold\" in white, all grid cells with values > threshold in red.\n",
    "\n",
    "This is excellent, **but has the disadvantage that we have no comparison with the original scene, to be able to assess how accurately our chosen threshold distinguishes glaciers from non-glacierized terrain.**\n",
    "\n",
    "We thus go more fancy and **plot the above threshold map *and* a false color composite of the original scene on top of each other.** We do this by simply calling the `plot()` function twice, the two graphics will then be plotted into the same figure. Furthermore, we use the `alpha` parameter to define how transparent the threshold map should be (`alpha = 0` fully transparent, `alpha = 1` fully opaque)."
   ]
  },
  {
   "cell_type": "code",
   "execution_count": null,
   "metadata": {},
   "outputs": [],
   "source": [
    "G.plot(levels=[-100, threshold], alpha=0.3)\n",
    "mosaic[['red','green','blue']].to_array().plot.imshow(robust=True)"
   ]
  },
  {
   "cell_type": "markdown",
   "metadata": {},
   "source": [
    "With these tools at hand, **vary the threshold to find an optimal treshold value.**"
   ]
  },
  {
   "cell_type": "markdown",
   "metadata": {},
   "source": [
    "### Basic statistics\n",
    "\n",
    "**Now to some very basic statistics: How many percent of the chosen satellite image are glacier covered?**\n",
    "\n",
    "We calculate this by taking the number of glacierized grid cells `(G.where(G > threshold)).count()` and divide them by the total number of grid cells `G.count()`. The result is again a xr.DataArray which contains just the value."
   ]
  },
  {
   "cell_type": "code",
   "execution_count": null,
   "metadata": {},
   "outputs": [],
   "source": [
    "100 * (G.where(G > threshold)).count() / G.count()"
   ]
  },
  {
   "cell_type": "markdown",
   "metadata": {},
   "source": [
    "### Export the results\n",
    "\n",
    "After we found an optimal threshold value, let's now create an array where all glacier grid cells have the value 1, and all non-glacierized cells have the value 0.\n",
    "\n",
    "We do this by using the `xr.where()` function. Its syntax is `xr.where(condition, value to use where condition is True, value to use where condition is False)`."
   ]
  },
  {
   "cell_type": "code",
   "execution_count": null,
   "metadata": {},
   "outputs": [],
   "source": [
    "G"
   ]
  },
  {
   "cell_type": "code",
   "execution_count": null,
   "metadata": {},
   "outputs": [],
   "source": [
    "glacier = xr.where(G > threshold, 1, 0)\n",
    "glacier"
   ]
  },
  {
   "cell_type": "code",
   "execution_count": null,
   "metadata": {},
   "outputs": [],
   "source": [
    "glacier.plot()  # plt it once again to see whether the result is what we want"
   ]
  },
  {
   "cell_type": "markdown",
   "metadata": {},
   "source": [
    "<span class='dothis'>If everything looks fine, then it is now time to export our glacier map. We do this by using the function `rio.to_raster()`.</span>\n",
    "\n",
    "Note that our xr.DataArray named *glacier* is of the data type `int64` (= 64 bit integer). The export function cannot handle this data type. Thus we convert *glacier* to data type `int16` (16 bit integer) during export by using `glacier.astype('int16')`.\n",
    "\n",
    "This makes a 'GeoTIFF' file which can be loaded into software like QGIS or ArcGIS. Note that GeoTIFFs are not properly understood by programs like Photos or Photoshop, so they will look quite strange if they open at all!"
   ]
  },
  {
   "cell_type": "code",
   "execution_count": null,
   "metadata": {},
   "outputs": [],
   "source": [
    "# Export of the glacier map (which is an xarray.DataArray)\n",
    "\n",
    "glacier.astype('int16').rio.to_raster(\"glacier_map.tif\")\n",
    "\n",
    "# Note: the xr.DataArray named \"glacier\" is of a data type (int64 or 64 bit integer) that the export function"
   ]
  },
  {
   "cell_type": "code",
   "execution_count": null,
   "metadata": {},
   "outputs": [],
   "source": [
    "# By default lat and lon use EPSG:4326 which is the CRS used to store SDC data.\n",
    "# Let's reproject the xarray.Dataset into (in our case Swiss CRS) CH1903+ / LV95 (EPSG:2056).\n",
    "dataset_CH = dataset_in.rio.set_crs(\"epsg:4326\").rio.reproject(\"epsg:2056\")\n",
    "\n",
    "# xarray.Dataset CRS metadata remains in previous CRS\n",
    "# let's update metadata\n",
    "dataset_CH.attrs['crs'] = 'EPSG:2056'\n",
    "dataset_CH"
   ]
  },
  {
   "cell_type": "markdown",
   "metadata": {},
   "source": [
    "Note how the dimensions have changed from `latitude, longitude, time` to `x, y, time`."
   ]
  },
  {
   "cell_type": "markdown",
   "metadata": {},
   "source": [
    "Plot the mosaic again. We will see that the coordinate axes have changed and now represent the familiar Swissgrid. <span class='dothis'>Compare it</span> to the lat/lon image we made earlier in this notebook <a href='#mosaic_plot'>(click here to be taken to it)</a> ."
   ]
  },
  {
   "cell_type": "code",
   "execution_count": null,
   "metadata": {},
   "outputs": [],
   "source": [
    "# Plot mosaic again\n",
    "plt.figure()\n",
    "ax = plt.subplot(111, aspect='equal')\n",
    "p = dataset_CH[['red','green','blue']].isel(time=2).to_array().plot.imshow(robust=True)\n",
    "# Make the x and y coordinates equally spaced.\n",
    "plt.gca().set_aspect('equal')"
   ]
  },
  {
   "cell_type": "code",
   "execution_count": null,
   "metadata": {},
   "outputs": [],
   "source": [
    "dataset_CH"
   ]
  },
  {
   "cell_type": "markdown",
   "metadata": {},
   "source": [
    "**Note how the coordinate units have changed from degrees to metres, compared to the previous plots.**"
   ]
  },
  {
   "cell_type": "markdown",
   "metadata": {},
   "source": [
    "You cannot use the `write_geotiff_from_xr()` function to export datasets that are in SwissGrid, it will cause an error. Use instead the `rio.to_raster()` function which we used already earlier."
   ]
  },
  {
   "cell_type": "code",
   "execution_count": null,
   "metadata": {},
   "outputs": [],
   "source": [
    "dataset_CH[['nir','red', 'green']].isel(time=2).to_array().astype('int16').rio.to_raster(\"glacier_CH_false_color.tif\")"
   ]
  }
 ],
 "metadata": {
  "kernelspec": {
   "display_name": "Python (Open Data Cube)",
   "language": "python",
   "name": "odc"
  },
  "language_info": {
   "codemirror_mode": {
    "name": "ipython",
    "version": 3
   },
   "file_extension": ".py",
   "mimetype": "text/x-python",
   "name": "python",
   "nbconvert_exporter": "python",
   "pygments_lexer": "ipython3",
   "version": "3.9.12"
  }
 },
 "nbformat": 4,
 "nbformat_minor": 4
}
