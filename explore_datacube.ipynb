{
 "cells": [
  {
   "cell_type": "markdown",
   "id": "dee46a05-4cd4-4249-900f-b22fb199358f",
   "metadata": {},
   "source": [
    "# What datasets are available in the SDC?\n",
    "Use this simple notebook to explore the details of the datasets available to use.\n",
    "\n",
    "You can copy/paste lines of code as needed to get the details that you are interested in."
   ]
  },
  {
   "cell_type": "code",
   "execution_count": null,
   "id": "578a0940-f30e-4642-8960-3b4589635e55",
   "metadata": {},
   "outputs": [],
   "source": [
    "# We first need to connect to the datacube.\n",
    "import datacube\n",
    "dc = datacube.Datacube()"
   ]
  },
  {
   "cell_type": "code",
   "execution_count": null,
   "id": "6b807dd5-bf2c-44e8-9fb2-dfcd230791a7",
   "metadata": {},
   "outputs": [],
   "source": [
    "# List all the datasets ('products') which are available\n",
    "dc.list_products()"
   ]
  },
  {
   "cell_type": "code",
   "execution_count": null,
   "id": "a97aac47-f7e9-44eb-81e5-3696b8d312be",
   "metadata": {},
   "outputs": [],
   "source": [
    "# The descriptions in the above get truncated, let's print a full list\n",
    "for index, row in dc.list_products().iterrows():\n",
    "    print('{i}: {d}'.format(i=index, d=row['description']))"
   ]
  },
  {
   "cell_type": "code",
   "execution_count": null,
   "id": "67e54b7b-f173-45ba-bb6e-3e79d72c5295",
   "metadata": {},
   "outputs": [],
   "source": [
    "# Each dataset/product can contain a number of measurements, let's look at what they are.\n",
    "# First get a full list of all measurements\n",
    "measurements = dc.list_measurements()"
   ]
  },
  {
   "cell_type": "code",
   "execution_count": null,
   "id": "25bccda3-f85b-4f28-a68b-ca5a7b826be3",
   "metadata": {},
   "outputs": [],
   "source": [
    "# Take a look at the whole table\n",
    "measurements"
   ]
  },
  {
   "cell_type": "code",
   "execution_count": null,
   "id": "41759e8e-a934-4373-a46b-38e37d96ce22",
   "metadata": {},
   "outputs": [],
   "source": [
    "# What measurements are available in the Landsat 8/9 dataset?\n",
    "measurements.loc['landsat_ot_c2_l2']"
   ]
  },
  {
   "cell_type": "code",
   "execution_count": null,
   "id": "dee62e9b-cff8-4b0d-badf-3bdae624fc22",
   "metadata": {},
   "outputs": [],
   "source": []
  }
 ],
 "metadata": {
  "kernelspec": {
   "display_name": "Python (Open Data Cube)",
   "language": "python",
   "name": "odc"
  },
  "language_info": {
   "codemirror_mode": {
    "name": "ipython",
    "version": 3
   },
   "file_extension": ".py",
   "mimetype": "text/x-python",
   "name": "python",
   "nbconvert_exporter": "python",
   "pygments_lexer": "ipython3",
   "version": "3.10.12"
  }
 },
 "nbformat": 4,
 "nbformat_minor": 5
}
