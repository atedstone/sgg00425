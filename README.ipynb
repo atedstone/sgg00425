{
 "cells": [
  {
   "cell_type": "markdown",
   "metadata": {
    "tags": []
   },
   "source": [
    "# Welcome to the Swiss Data Cube\n",
    "---\n",
    "## Examples folder organisation and how to start\n",
    "Freshly cloned from https://git.unepgrid.ch/bruno.chatenoux/datacube-notebooks, you should have 3 folders and this README file:\n",
    "1. __utils__ folder contains the default packages from ODC available in https://github.com/opendatacube/datacube-notebooks/tree/master/utils with a few modifications (e.g. deprecated 'import gdal')\n",
    "1. __swiss_utils__ folder contains the packages created within the frame of Swiss Data Cube project\n",
    "1. __examples__ folder contains demo notebooks to teach new users how to interact with ODC data, as well as demo notebooks 'demo_FUN_*' presenting the functionnalities from swiss_utils package:\n",
    "    - *[THE_Demo.ipynb](./examples/THE_Demo.ipynb)*: general demo notebook to help user new to ODC and Jupyter, to start interracting with dataset through Jupyter notebook.\n",
    "    - *[config_tool.ipynb](./examples/config_tool.ipynb)*: this notebook is intended to help new user or confirmed user facing an unknown ODC, to create a configuration cell (product, platform, geographical extent, time period, measurements (bands))\n",
    "    - *demo_FUN_*.ipynb*: demo notebook of a function developped in the context of the [Swiss Data Cube](https://www.swissdatacube.org) (SDC)\n",
    "    - *demo_PROD_*.ipynb*: demo notebook of a specific product.\n",
    "    - *figures* folder: containing the figures of the demo_FUN_* notebook documentation\n",
    "    \n",
    "<mark>To have notebook interact with the ODC it has use the proper kernel (you might have several kernel available). You need to set it up at least once:</mark>\n",
    "![](./examples/figures/select_kernel.gif)\n",
    "\n",
    "**It is advised to start with [THE_Demo.ipynb](./examples/THE_Demo.ipynb)**, and then have a look at demo_FUN_* notebooks.\n",
    "\n",
    "[demo_FUN_monit_sys.ipynb](./examples/demo_FUN_monit_sys.ipynb):  \n",
    "As a single DC algorithm quite easily monopolize all harware resources, the `monit_sys` function allows a user to monitor briefly CPU and memory (RAM) activity. Then the user can define the level or available resources before to run its own script.\n",
    "\n",
    "[demo_FUN_activity_loggin.ipynb](./examples/demo_FUN_activity_loggin.ipynb):  \n",
    "In order to monitor activity and better tweek parallelization parameters, the activity_logger function log RAM, Swap and CPU activity at a given interval.\n",
    "\n",
    "[demo_FUN_printandlog.ipynb](./examples/demo_FUN_printandlog.ipynb):  \n",
    "There is no way (at the time of writing this script) to re-open an updated version of a closed Jupyter script. Which does not allow the user to evaluate the progression of the running workflow once the dedicated page closed. The `printandlog` function, try to solve this issue, by printing and logging specific messages at the same time. Then even if the printed information is not anymore available, the user has access anytime to the updated log.\n",
    "\n",
    "[demo_FUN_find_ipynb.ipynb](./examples/demo_FUN_find_ipynb.ipynb):  \n",
    "Find (and link to) all *.ipynb* files containing a given `search_string`, optionally a `search_pattern` can be applied.\n",
    "\n",
    "[demo_FUN_dcload.ipynb](./examples/demo_FUN_dcload.ipynb):  \n",
    "This basic default `dc.load` function as plenty of options who worse to be explored. This script present the reprojection options.\n",
    "\n",
    "[demo_FUN_load_multi_clean.ipynb](./examples/demo_FUN_load_multi_clean.ipynb):  \n",
    "Creates a clean dataset (multi-product or not) using cleaning \"autor's recommended ways\": [demo_FUN_ls_qa_clean](./examples/demo_FUN_ls_qa_clean.ipynb) (Landsat) and [demo_FUN_create_slc_clean_mask](./examples/demo_FUN_create_slc_clean_mask.ipynb) (Sentinel 2), sorted by ascending time. Works with Landsat or Sentinel 2 (but not mixed, see [demo_FUN_mix_lss2](./examples/demo_FUN_mix_lss2.ipynb) for this purpose).\n",
    "\n",
    "[demo_FUN_ls_qa_clean.ipynb](./examples/demo_FUN_ls_qa_clean.ipynb):  \n",
    "The `ls_qa_clean` function creates a clean mask of a Landsat Collection 1 dataset using pixel_qa band and a list of valid bits. This is the Landsat Collection 1 masking function implemented in `load_multi_clean`function [demo_FUN_load_multi_clean](./examples/demo_FUN_load_multi_clean.ipynb).\n",
    "\n",
    "[demo_FUN_create_slc_clean_mask.ipynb](./examples/demo_FUN_create_slc_clean_mask.ipynb):  \n",
    "The `create_slc_clean_mask` function create a Sentinel 2 clean mask from a list of valid categories applied on slc band. This is the Sentinel 2 masking function implemented in `load_multi_clean`function [demo_FUN_load_multi_clean](./examples/demo_FUN_load_multi_clean.ipynb).\n",
    "\n",
    "[demo_FUN_mix_lss2.ipynb](./examples/demo_FUN_mix_lss2.ipynb):  \n",
    "Creates a clean dataset mixing Landsat and Sentinel 2 products (respectively with prefixs 'ls' and 's2') and using cleaning \"autor's recommended ways\": [demo_FUN_ls_qa_clean](./examples/demo_FUN_ls_qa_clean.ipynb) (Landsat) and [demo_FUN_create_slc_clean_mask](./examples/demo_FUN_create_slc_clean_mask.ipynb) (Sentinel 2), sorted by ascending time. If `resample` option is activated ('up' or 'down_mean', 'down_median') up/downsampling is performed and products output combined into a single 'lss2' prefix. `dropna` option removes time without any data. This function works as [demo_FUN_load_multi_clean](./examples/demo_FUN_load_multi_clean.ipynb) function, but with a mix of Landsat and Sentinel 2 products.\n",
    "\n",
    "[demo_FUN_new_get_query_metadata.ipynb](./examples/demo_FUN_new_get_query_metadata.ipynb):  \n",
    "Debugged version of default `api.get_query_metadata` function bugged since version 1.8 of ODC. Returns the minimum and maximum latitude, longitude, and date range of a product. This script also demonstrate how to use the `summarize_products_extents` function to return the maximum extent (in space and time) of a given list of products.\n",
    "\n",
    "[demo_FUN_display_da.ipynb](./examples/demo_FUN_display_da.ipynb):  \n",
    "Display a colored xarray.DataArray on a map and allow the user to select a given coordinates to be used later.\n",
    "\n",
    "[demo_FUN_figs.ipynb](./examples/demo_FUN_figs.ipynb):  \n",
    "Plot onscreen or create a png with a given *xarray.DataArray* (`oneband_fig`) or *xarray.Dataset* (`composite_fig`).Plot onscreen or create a png with a given xarray.DataArray (oneband\\_fig) or xarray.Dataset (composite\\_fig).\n",
    "\n",
    "[demo_FUN_write_geotiff_from_xr.ipynb](./examples/demo_FUN_write_geotiff_from_xr.ipynb):  \n",
    "This is a modified version of the original `write_geotiff_from_xr` function in */utils/data_cube_utilities/dc_utilities.py* the following improvements were done (fixed pixel shift bug, original band name added to band numbers, compression option added (`compr` argument)).\n",
    "\n",
    "[demo_FUN_ds_focus.ipynb](./examples/demo_FUN_ds_focus.ipynb):  \n",
    "In order to ease the creation of demo dataset to be used during development, the `ds_focus` function selects within an xarray.Dataset (`ds`) the AOI (size given by `dough_width`) with sum of min, max values (defined by `stat`argument). Then focus can be automatically given on a small datset with maximum or minimum of data.\n",
    "\n",
    "[demo_FUN_indices_ts_stats.ipynb](./examples/demo_FUN_indices_ts_stats.ipynb):  \n",
    "Compute statistics through time (for given period of time) for indices of given products.\n",
    "\n",
    "[demo_FUN_df_point_append_values.ipynb](./examples/demo_FUN_df_point_append_values.ipynb):\n",
    "Returns a (point) dataframe with one column with the value of each of the variables in the xarray.Dataset.\n",
    "\n",
    "[demo_PROD_DEMs.ipynb](./examples/demo_PROD_DEMs.ipynb):\n",
    "This notebook present and demonstrate how to interacte with two DEMs products covering Switzerland (swissALTI3D product named 'swissalti3d_scene' and ASTER GDEM v3 product named 'astgtmv003_scene'"
   ]
  },
  {
   "cell_type": "code",
   "execution_count": null,
   "metadata": {},
   "outputs": [],
   "source": []
  }
 ],
 "metadata": {
  "kernelspec": {
   "display_name": "Python (Open Data Cube Development)",
   "language": "python",
   "name": "odc-dev"
  },
  "language_info": {
   "codemirror_mode": {
    "name": "ipython",
    "version": 3
   },
   "file_extension": ".py",
   "mimetype": "text/x-python",
   "name": "python",
   "nbconvert_exporter": "python",
   "pygments_lexer": "ipython3",
   "version": "3.9.12"
  }
 },
 "nbformat": 4,
 "nbformat_minor": 4
}
