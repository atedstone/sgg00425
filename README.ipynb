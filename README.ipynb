{
 "cells": [
  {
   "cell_type": "markdown",
   "metadata": {
    "tags": []
   },
   "source": [
    "# SGG.00425 Data and Methods for Environmental Analysis\n",
    "---\n",
    "## Examples folder organisation and how to start\n",
    "When you first download this repository, it will contain:\n",
    "1. __examples__ folder contains demo notebooks. These ones are especially useful:\n",
    "    - *[THE_Demo.ipynb](./examples/THE_Demo.ipynb)*: General demo of the data cube.\n",
    "    - *[config_tool.ipynb](./examples/config_tool.ipynb)*: Creates a configuration file used to load data from the data cube. (i.e. product, platform, geographical extent, time period, measurements (bands))\n",
    "    - *figures* folder: containing the figures of the demo_FUN_* notebook documentation\n",
    "1. __swiss_utils__ folder contains functionality specific to the Swiss Data Cube. \n",
    "1. __utils__ folder contains the default packages from ODC available in https://github.com/opendatacube/datacube-notebooks/tree/master/utils with a few modifications     \n",
    "    \n",
    "<mark>You need to use the proper 'kernel'. You need to set it up at least once:</mark>\n",
    "![](./examples/figures/select_kernel.gif)\n",
    "\n",
    "**It is advised to start with [THE_Demo.ipynb](./examples/THE_Demo.ipynb)**, and then have a look at demo_FUN_* notebooks.\n",
    "\n",
    "[demo_FUN_load_multi_clean.ipynb](./examples/demo_FUN_load_multi_clean.ipynb):  \n",
    "Creates a clean dataset (multi-product or not): [demo_FUN_ls_qa_clean](./examples/demo_FUN_ls_qa_clean.ipynb) (Landsat) and [demo_FUN_create_slc_clean_mask](./examples/demo_FUN_create_slc_clean_mask.ipynb) (Sentinel 2), sorted by ascending time. Works with Landsat or Sentinel 2 (but not mixed, see [demo_FUN_mix_lss2](./examples/demo_FUN_mix_lss2.ipynb) for this purpose).\n",
    "\n",
    "[demo_FUN_ls_qa_clean.ipynb](./examples/demo_FUN_ls_qa_clean.ipynb):  \n",
    "The `ls_qa_clean` function creates a clean mask of a Landsat Collection 1 dataset using pixel_qa band and a list of valid bits. This is the Landsat Collection 1 masking function implemented in `load_multi_clean`function [demo_FUN_load_multi_clean](./examples/demo_FUN_load_multi_clean.ipynb).\n",
    "\n",
    "[demo_FUN_create_slc_clean_mask.ipynb](./examples/demo_FUN_create_slc_clean_mask.ipynb):  \n",
    "The `create_slc_clean_mask` function create a Sentinel 2 clean mask from a list of valid categories applied on slc band. This is the Sentinel 2 masking function implemented in `load_multi_clean`function [demo_FUN_load_multi_clean](./examples/demo_FUN_load_multi_clean.ipynb).\n",
    "\n",
    "[demo_FUN_mix_lss2.ipynb](./examples/demo_FUN_mix_lss2.ipynb):  \n",
    "Creates a clean dataset mixing Landsat and Sentinel 2 products (respectively with prefixs 'ls' and 's2'), sorted by ascending time. If `resample` option is activated ('up' or 'down_mean', 'down_median') up/downsampling is performed and products output combined into a single 'lss2' prefix. `dropna` option removes dates/times without any data. This function works as [demo_FUN_load_multi_clean](./examples/demo_FUN_load_multi_clean.ipynb) function, but with a mix of Landsat and Sentinel 2 products.\n",
    "\n",
    "[demo_FUN_display_da.ipynb](./examples/demo_FUN_display_da.ipynb):  \n",
    "Display a coloured xarray.DataArray on a map and allow the user to select a given coordinates to be used later.\n",
    "\n",
    "[demo_FUN_figs.ipynb](./examples/demo_FUN_figs.ipynb):  \n",
    "Plot onscreen or create a png with a given *xarray.DataArray* (`oneband_fig`) or *xarray.Dataset* (`composite_fig`).Plot onscreen or create a png with a given xarray.DataArray (oneband\\_fig) or xarray.Dataset (composite\\_fig).\n",
    "\n",
    "[demo_FUN_write_geotiff_from_xr.ipynb](./examples/demo_FUN_write_geotiff_from_xr.ipynb):  \n",
    "This shows how to export a GeoTIFF file from the datacube.\n",
    "\n",
    "[demo_FUN_indices_ts_stats.ipynb](./examples/demo_FUN_indices_ts_stats.ipynb):  \n",
    "Compute statistics through time (for given period of time) for indices of given products.\n",
    "\n",
    "[demo_FUN_df_point_append_values.ipynb](./examples/demo_FUN_df_point_append_values.ipynb):\n",
    "Returns a (point) dataframe with one column with the value of each of the variables in the xarray.Dataset.\n",
    "\n",
    "[demo_PROD_DEMs.ipynb](./examples/demo_PROD_DEMs.ipynb):\n",
    "This notebook demonstrates how to interact with two DEMs products covering Switzerland (swissALTI3D product named 'swissalti3d_scene' and ASTER GDEM v3 product named 'astgtmv003_scene'\n",
    "\n",
    "--\n",
    "Monitoring how much system resources are available:\n",
    "\n",
    "[demo_FUN_monit_sys.ipynb](./examples/demo_FUN_monit_sys.ipynb):  \n",
    "As a single data cube algorithm can quite easily monopolize all hardware resources, the `monit_sys` function allows a user to monitor briefly CPU and memory (RAM) activity before running their own script."
   ]
  },
  {
   "cell_type": "code",
   "execution_count": null,
   "metadata": {},
   "outputs": [],
   "source": []
  }
 ],
 "metadata": {
  "kernelspec": {
   "display_name": "Python (Open Data Cube Development)",
   "language": "python",
   "name": "odc-dev"
  },
  "language_info": {
   "codemirror_mode": {
    "name": "ipython",
    "version": 3
   },
   "file_extension": ".py",
   "mimetype": "text/x-python",
   "name": "python",
   "nbconvert_exporter": "python",
   "pygments_lexer": "ipython3",
   "version": "3.9.12"
  }
 },
 "nbformat": 4,
 "nbformat_minor": 4
}
