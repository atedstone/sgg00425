{
 "cells": [
  {
   "cell_type": "markdown",
   "id": "5bb7ea43-b49e-46e6-9b16-98253ea75333",
   "metadata": {
    "tags": []
   },
   "source": [
    "*****\n",
    "\n",
    "# Reprojection\n",
    "\n",
    "*****\n",
    "\n",
    "**BASED ON OUTPUTS OF glacier_mapping.ipynb BUT NEEDS TO BE COMPLETED**\n",
    "\n",
    "All the operations above we carried out using a CRS (coordinate reference system) of latitude and longitude called WGS84 (its code is *EPSG:4326*). You might have noticed that this CRS is displaying things with units of latitude and longitude. The images look compressed in the latitude dimension. Below is an example how you can reproject the data to CH1903+ / LV95 (EPSG:2056), also known as \"SwissGrid\".\n"
   ]
  },
  {
   "cell_type": "code",
   "execution_count": null,
   "id": "ab08138d-d1aa-49a9-bd14-e66bfe0c837c",
   "metadata": {},
   "outputs": [],
   "source": [
    "# By default lat and lon use EPSG:4326 which is the CRS used to store SDC data.\n",
    "# Let's reproject the xarray.Dataset into (in our case Swiss CRS) CH1903+ / LV95 (EPSG:2056).\n",
    "dataset_CH = dataset_in.rio.set_crs(\"epsg:4326\").rio.reproject(\"epsg:2056\")\n",
    "\n",
    "# xarray.Dataset CRS metadata remains in previous CRS\n",
    "# let's update metadata\n",
    "dataset_CH.attrs['crs'] = 'EPSG:2056'\n",
    "dataset_CH"
   ]
  },
  {
   "cell_type": "markdown",
   "id": "f33dc566-b436-439b-a266-8cc61bb54fa8",
   "metadata": {},
   "source": [
    "Note how the dimensions have changed from `latitude, longitude, time` to `x, y, time`."
   ]
  },
  {
   "cell_type": "markdown",
   "id": "6506377e-02cb-4532-968b-8bf29ff7402c",
   "metadata": {},
   "source": [
    "Plot the mosaic again. We will see that the coordinate axes have changed and now represent the familiar Swissgrid. <span class='dothis'>Compare it</span> to the lat/lon image we made earlier in this notebook <a href='#mosaic_plot'>(click here to be taken to it)</a> ."
   ]
  },
  {
   "cell_type": "code",
   "execution_count": null,
   "id": "fa9fb5e4-c2d4-4e78-ac3e-f991b4b53e64",
   "metadata": {},
   "outputs": [],
   "source": [
    "# Plot mosaic again\n",
    "plt.figure()\n",
    "ax = plt.subplot(111, aspect='equal')\n",
    "p = dataset_CH[['red','green','blue']].isel(time=2).to_array().plot.imshow(robust=True)\n",
    "# Make the x and y coordinates equally spaced.\n",
    "plt.gca().set_aspect('equal')"
   ]
  },
  {
   "cell_type": "code",
   "execution_count": null,
   "id": "4fc62f0d-333e-4ab4-8bdb-2dc3024badb5",
   "metadata": {},
   "outputs": [],
   "source": [
    "dataset_CH"
   ]
  },
  {
   "cell_type": "markdown",
   "id": "fae80461-84a2-4aa4-b2de-48e3fa5af521",
   "metadata": {},
   "source": [
    "**Note how the coordinate units have changed from degrees to metres, compared to the previous plots.**"
   ]
  },
  {
   "cell_type": "markdown",
   "id": "b39906a3-75f2-4746-b961-ec2594980904",
   "metadata": {},
   "source": [
    "You cannot use the `write_geotiff_from_xr()` function to export datasets that are in SwissGrid, it will cause an error. Use instead the `rio.to_raster()` function which we used already earlier."
   ]
  },
  {
   "cell_type": "code",
   "execution_count": null,
   "id": "071b6e2f-6002-4c80-8c6f-0ed6917acd94",
   "metadata": {},
   "outputs": [],
   "source": [
    "dataset_CH[['nir','red', 'green']].isel(time=2).to_array().astype('int16').rio.to_raster(\"glacier_CH_false_color.tif\")"
   ]
  }
 ],
 "metadata": {
  "kernelspec": {
   "display_name": "Python (Open Data Cube)",
   "language": "python",
   "name": "odc"
  },
  "language_info": {
   "codemirror_mode": {
    "name": "ipython",
    "version": 3
   },
   "file_extension": ".py",
   "mimetype": "text/x-python",
   "name": "python",
   "nbconvert_exporter": "python",
   "pygments_lexer": "ipython3",
   "version": "3.9.12"
  }
 },
 "nbformat": 4,
 "nbformat_minor": 5
}
