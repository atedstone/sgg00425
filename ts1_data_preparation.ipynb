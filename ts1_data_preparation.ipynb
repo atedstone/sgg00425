{
 "cells": [
  {
   "cell_type": "markdown",
   "metadata": {},
   "source": [
    "# TS-1: Data preparation\n",
    "\n",
    "*****\n",
    "\n",
    "This notebook allows you to load and pre-process an SDC dataset, which you can then save into a NetCDF (.nc) file to be reused quickly in other Notebooks where you do your analysis.\n",
    "\n",
    "Things you should change:\n",
    "\n",
    "* The config_cell variables\n",
    "* The output filename of the netcdf file (see the last cell).\n",
    "\n",
    "*****\n"
   ]
  },
  {
   "cell_type": "code",
   "execution_count": null,
   "metadata": {},
   "outputs": [],
   "source": [
    "# Make sure the script is using the proper kernel\n",
    "try:\n",
    "    %run ../swiss_utils/assert_env.py\n",
    "except:\n",
    "    %run ./swiss_utils/assert_env.py"
   ]
  },
  {
   "cell_type": "code",
   "execution_count": null,
   "metadata": {},
   "outputs": [],
   "source": [
    "# Import modules\n",
    "\n",
    "# reload module before executing code\n",
    "%load_ext autoreload\n",
    "%autoreload 2\n",
    "\n",
    "# define modules locations (you might have to adapt define_mod_locs.py)\n",
    "%run swiss_utils/define_mod_locs.py\n",
    "\n",
    "import os\n",
    "import shutil\n",
    "\n",
    "import numpy as np\n",
    "\n",
    "from datetime import datetime\n",
    "\n",
    "from swiss_utils.data_cube_utilities.sdc_utilities import load_multi_clean\n",
    "\n",
    "import datacube\n",
    "dc = datacube.Datacube()\n",
    "\n",
    "# silence warning\n",
    "import warnings\n",
    "warnings.filterwarnings(\"ignore\")"
   ]
  },
  {
   "cell_type": "markdown",
   "metadata": {},
   "source": [
    "The next cell contains the dataset configuration information:\n",
    "- product\n",
    "- geographical extent\n",
    "- time period\n",
    "- bands\n",
    "\n",
    "You can generate it in three ways:\n",
    "1. manually from scratch,\n",
    "2. by manually copy/pasting the final cell content of the [config_tool](config_tool.ipynb) notebook,\n",
    "3. by loading the final cell content of the [config_tool](config_tool.ipynb) notebook using the magic `# %load config_cell.txt`."
   ]
  },
  {
   "cell_type": "code",
   "execution_count": null,
   "metadata": {},
   "outputs": [],
   "source": [
    "%load \"config_cell.txt\""
   ]
  },
  {
   "cell_type": "code",
   "execution_count": null,
   "metadata": {
    "tags": []
   },
   "outputs": [],
   "source": [
    "# Load the dataset and clean it\n",
    "\n",
    "ds_in, clean_mask = load_multi_clean(dc = dc, products = product,\n",
    "                                     time = [start_date, end_date],\n",
    "                                     lon = [min_lon, max_lon], lat = [min_lat, max_lat],\n",
    "                                     measurements = measurements)\n",
    "del clean_mask\n",
    "ds_in = ds_in.where(ds_in >= 0) # keep only positive values\n",
    "ds_in = ds_in.dropna('time', how='all') # drop scenes without data"
   ]
  },
  {
   "cell_type": "code",
   "execution_count": null,
   "metadata": {},
   "outputs": [],
   "source": [
    "ds_in"
   ]
  },
  {
   "cell_type": "code",
   "execution_count": null,
   "metadata": {},
   "outputs": [],
   "source": [
    "# OPTIONAL CELL TO CALCULATE NDIs\n",
    "# You can already calculate normalised difference indexes here to be saved with the measurements.\n",
    "# To do this, uncomment the relevant line(s) below and/or add your own.\n",
    "\n",
    "#ds_in['ndvi'] = (ds_in.nir - ds_in.red) / (ds_in.nir + ds_in.red)\n",
    "#ds_in['ndwi'] = (ds_in.green - ds_in.nir) / (ds_in.green + ds_in.nir)\n",
    "\n",
    "# 'NDWI': '(ds.green - ds.nir) / (ds.green + ds.nir)',\n",
    "# 'NDBI': '(ds.swir2 - ds.nir) / (ds.swir2 + ds.nir)'"
   ]
  },
  {
   "cell_type": "code",
   "execution_count": null,
   "metadata": {},
   "outputs": [],
   "source": [
    "## Some necessary small changes so that we can save this dataset to a NetCDF (.nc) file.\n",
    "\n",
    "# Remove quality info attributes\n",
    "if 'pixel_qa' in measurements:\n",
    "    ds_in.pixel_qa.attrs['flags_definition'] = []\n",
    "elif 'slc' in measurements:\n",
    "    ds_in.slc.attrs['flags_definition'] = []\n",
    "    \n",
    "# Remove time attributes.\n",
    "ds_in.ndvi.time.attrs = {}\n"
   ]
  },
  {
   "cell_type": "code",
   "execution_count": null,
   "metadata": {},
   "outputs": [],
   "source": [
    "# Save the file. Change the output filename to something useful!\n",
    "output_filename = 'myfile.nc'\n",
    "ds_in.to_netcdf(output_filename)\n"
   ]
  }
 ],
 "metadata": {
  "kernelspec": {
   "display_name": "Python (Open Data Cube Development)",
   "language": "python",
   "name": "odc-dev"
  },
  "language_info": {
   "codemirror_mode": {
    "name": "ipython",
    "version": 3
   },
   "file_extension": ".py",
   "mimetype": "text/x-python",
   "name": "python",
   "nbconvert_exporter": "python",
   "pygments_lexer": "ipython3",
   "version": "3.9.12"
  }
 },
 "nbformat": 4,
 "nbformat_minor": 4
}
