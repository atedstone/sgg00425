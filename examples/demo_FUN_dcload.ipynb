{
 "cells": [
  {
   "cell_type": "markdown",
   "metadata": {},
   "source": [
    "# Demo of default functions dc.load\n",
    "\n",
    "*****\n",
    "\n",
    "__This script is the \"official demo\" of a function. Please if you want to modify it, work on your own copy__\n",
    "\n",
    "Load data as an ``xarray`` object.  Each measurement will be a data variable in the :class:`xarray.Dataset`.\n",
    "\n",
    "This basic default `dc.load` function as plenty of options who worse to be explored. This script present the reprojection options:\n",
    "* `output_crs`\n",
    "* `resolution`\n",
    "\n",
    "Keeping dfault `resampling` option ('nearest neighboor').\n",
    "\n",
    "Documentation for a given function can be accessed simply by adding ? at the end of the function in a cell. e.g. `dc.load?` or by selecting the function and pressing `Shift-Tab`."
   ]
  },
  {
   "cell_type": "code",
   "execution_count": null,
   "metadata": {},
   "outputs": [],
   "source": [
    "# Make sure the script is using the proper kernel\n",
    "try:\n",
    "    %run ../swiss_utils/assert_env.py\n",
    "except:\n",
    "    %run ./swiss_utils/assert_env.py"
   ]
  },
  {
   "cell_type": "code",
   "execution_count": null,
   "metadata": {},
   "outputs": [],
   "source": [
    "# Import modules\n",
    "\n",
    "# reload module before executing code\n",
    "%load_ext autoreload\n",
    "%autoreload 2\n",
    "\n",
    "# define modules locations (you might have to adapt define_mod_locs.py)\n",
    "%run ../swiss_utils/define_mod_locs.py\n",
    "\n",
    "# to plot figures\n",
    "%matplotlib inline\n",
    "\n",
    "import time\n",
    "import rioxarray # !pip3 install rioxarray\n",
    "import numpy as np\n",
    "import pandas as pd\n",
    "\n",
    "from datetime import datetime\n",
    "from pyproj import Proj\n",
    "from pyproj import Transformer\n",
    "from itertools import product as iterprod\n",
    "\n",
    "from swiss_utils.data_cube_utilities.sdc_utilities import write_geotiff_from_xr\n",
    "\n",
    "import datacube\n",
    "dc = datacube.Datacube()"
   ]
  },
  {
   "cell_type": "markdown",
   "metadata": {},
   "source": [
    "The next cell contains the dataset configuration information:\n",
    "- product\n",
    "- geographical extent\n",
    "- time period\n",
    "- bands\n",
    "\n",
    "You can generate it in three ways:\n",
    "1. manually from scratch,\n",
    "2. by manually copy/pasting the final cell content of the [config_tool](config_tool.ipynb) notebook,\n",
    "3. by loading the final cell content of the [config_tool](config_tool.ipynb) notebook using the magic `%load config_cell.txt`.\n",
    "\n",
    "**To make this notebook run without modification you will need to use anyone of Landsat or Sentinel 2 products with the single blue band.**"
   ]
  },
  {
   "cell_type": "code",
   "execution_count": null,
   "metadata": {},
   "outputs": [],
   "source": [
    "%load config_cell.txt"
   ]
  },
  {
   "cell_type": "markdown",
   "metadata": {},
   "source": [
    "__Let's use the function with the minimum of options__"
   ]
  },
  {
   "cell_type": "code",
   "execution_count": null,
   "metadata": {},
   "outputs": [],
   "source": [
    "start_time = time.time()\n",
    "dataset_in = dc.load(product = product,\n",
    "                     time = (start_date, end_date), lon = (min_lon, max_lon), lat = (min_lat,max_lat),\n",
    "                     measurements = measurements)\n",
    "dif_time = time.time() - start_time\n",
    "dataset_in"
   ]
  },
  {
   "cell_type": "code",
   "execution_count": null,
   "metadata": {},
   "outputs": [],
   "source": [
    "# plot the xarray.Dataset to select an appropriate time to export\n",
    "dataset_in.blue.plot(col='time', col_wrap=5)"
   ]
  },
  {
   "cell_type": "code",
   "execution_count": null,
   "metadata": {},
   "outputs": [],
   "source": [
    "# Export a given time for comparison\n",
    "t = 1\n",
    "write_geotiff_from_xr(tif_path = 'default.tif',\n",
    "                      dataset = dataset_in.isel(time = 1).astype('int16'),\n",
    "                      compr = 'DEFLATE')"
   ]
  },
  {
   "cell_type": "code",
   "execution_count": null,
   "metadata": {},
   "outputs": [],
   "source": [
    "# And store characteristics for comparison\n",
    "default_min_lat = dataset_in.latitude.values.min()\n",
    "default_max_lat = dataset_in.latitude.values.max()\n",
    "default_min_lon = dataset_in.longitude.values.min()\n",
    "default_max_lon = dataset_in.longitude.values.max()\n",
    "default_crs = dataset_in.crs\n",
    "default_res_lon = (dataset_in.longitude.values.max() - dataset_in.longitude.values.min()) / (len(dataset_in.longitude) - 1)\n",
    "default_res_lat = (dataset_in.latitude.values.max() - dataset_in.latitude.values.min()) / (len(dataset_in.latitude) - 1)\n",
    "default_x_dim = len(dataset_in.longitude)\n",
    "default_y_dim = len(dataset_in.latitude)\n",
    "\n",
    "\n",
    "dt = [['default',\n",
    "       '{:.5f}'.format(default_min_lat), '{:.5f}'.format(default_max_lat),\n",
    "       '{:.5f}'.format(default_min_lon), '{:.5f}'.format(default_max_lon),\n",
    "       str(default_crs), '{:.5f}'.format(default_res_lat), '{:.5f}'.format(default_res_lon),\n",
    "       default_x_dim, default_y_dim, len(dataset_in.time),\n",
    "       '{:.5f}'.format(dif_time)]]\n",
    "pd.DataFrame(dt, columns=['type',\n",
    "                          'min_lat', 'max_lat', 'min_lon', 'max_lon',\n",
    "                          'crs', 'res_lat', 'res_lon',\n",
    "                          'x_dim', 'y_dim', 't_dim', 'proc_time'])"
   ]
  },
  {
   "cell_type": "code",
   "execution_count": null,
   "metadata": {},
   "outputs": [],
   "source": [
    "# By default lat and lon use EPSG:4326 which is the CRS used to store SDC data.\n",
    "# Let's reproject the xarray.Dataset into (in our case Swiss CRS) CH1903+ / LV95 (EPSG:2056).\n",
    "start_time = time.time()\n",
    "dataset_in = dataset_in.rio.set_crs(\"epsg:4326\").rio.reproject(\"epsg:2056\")\n",
    "dif_time += time.time() - start_time\n",
    "dataset_in"
   ]
  },
  {
   "cell_type": "code",
   "execution_count": null,
   "metadata": {},
   "outputs": [],
   "source": [
    "# xarray.Dataset CRS metadata remains in previous CRS\n",
    "# let's update metadata\n",
    "start_time = time.time()\n",
    "dataset_in.attrs['crs'] = 'EPSG:2056'\n",
    "dif_time += time.time() - start_time\n",
    "dataset_in"
   ]
  },
  {
   "cell_type": "code",
   "execution_count": null,
   "metadata": {},
   "outputs": [],
   "source": [
    "# Notice how latitude and longitude where converted into y and x\n",
    "# Even if the majority of function will work as it is, some might bug\n",
    "# then lets set them back to \"normal\"\n",
    "start_time = time.time()\n",
    "dataset_in = dataset_in.rename({'x': 'longitude', 'y': 'latitude'})\n",
    "dif_time += time.time() - start_time"
   ]
  },
  {
   "cell_type": "code",
   "execution_count": null,
   "metadata": {},
   "outputs": [],
   "source": [
    "# Export same time for comparison\n",
    "write_geotiff_from_xr(tif_path = 'riorepro.tif',\n",
    "                      dataset = dataset_in.isel(time = 1).astype('int16'),\n",
    "                      compr = 'DEFLATE')"
   ]
  },
  {
   "cell_type": "code",
   "execution_count": null,
   "metadata": {},
   "outputs": [],
   "source": [
    "# Store characteristics and compare\n",
    "res_lon = (dataset_in.longitude.values.max() - dataset_in.longitude.values.min()) / (len(dataset_in.longitude) - 1)\n",
    "res_lat = (dataset_in.latitude.values.max() - dataset_in.latitude.values.min()) / (len(dataset_in.latitude) - 1)\n",
    "\n",
    "dt.append(['riorepro',\n",
    "           '{:.1f}'.format(dataset_in.latitude.values.min()), '{:.1f}'.format(dataset_in.latitude.values.max()),\n",
    "           '{:.1f}'.format(dataset_in.longitude.values.min()), '{:.1f}'.format(dataset_in.longitude.values.max()),\n",
    "           str(dataset_in.crs), '{:.1f}'.format(res_lat), '{:.1f}'.format(res_lon),\n",
    "           len(dataset_in.longitude), len(dataset_in.latitude), len(dataset_in.time),\n",
    "           '{:.5f}'.format(dif_time)])\n",
    "pd.DataFrame(dt, columns=['type',\n",
    "                          'min_lat', 'max_lat', 'min_lon', 'max_lon',\n",
    "                          'crs', 'res_lat', 'res_lon',\n",
    "                          'x_dim', 'y_dim', 't_dim', 'proc_time'])"
   ]
  },
  {
   "cell_type": "markdown",
   "metadata": {},
   "source": [
    "__Notice how reprojection changed the x/y ratio !__\n",
    "\n",
    "__The \"same\" result can be obtained by directly using the `output_crs`option, but`resolution` option needs to be entered. Let's estimate it reprojecting the default bbox.__"
   ]
  },
  {
   "cell_type": "code",
   "execution_count": null,
   "metadata": {},
   "outputs": [],
   "source": [
    "# get the real bbox of the default dataset (as by default extent is given to the center of corner pixels)\n",
    "real_min_lon = default_min_lon - (default_res_lon / 2)\n",
    "real_max_lon = default_max_lon + (default_res_lon / 2)\n",
    "real_min_lat = default_min_lat - (default_res_lat / 2)\n",
    "real_max_lat = default_max_lat + (default_res_lat / 2)\n",
    "\n",
    "# reproject real bbox corners from default to riorepro CRSs\n",
    "# source: https://hatarilabs.com/ih-en/how-to-translate-coordinate-systems-for-xy-point-data-tables-with-python-pandas-and-pyproj\n",
    "transformer = Transformer.from_crs(default_crs.lower(), dataset_in.crs.lower(),always_xy=True)\n",
    "corners = list(iterprod([real_min_lon, real_max_lon], [real_min_lat, real_max_lat]))\n",
    "trans_corners = np.array(list(transformer.itransform(corners)))\n",
    "\n",
    "repr_res_lon = (np.max(trans_corners[:, 0]) - np.min(trans_corners[:, 0])) / default_x_dim\n",
    "repr_res_lat = (np.max(trans_corners[:, 1]) - np.min(trans_corners[:, 1])) / default_y_dim\n",
    "\n",
    "print('Estimated reprojected resolution: {:.1f}, {:.1f}'.format(repr_res_lat, repr_res_lon))"
   ]
  },
  {
   "cell_type": "markdown",
   "metadata": {},
   "source": [
    "__You will probably get quite different values. Let's use an average value.__"
   ]
  },
  {
   "cell_type": "code",
   "execution_count": null,
   "metadata": {},
   "outputs": [],
   "source": [
    "# Then we can load again using output_crs and resolution options to directly get a reprojected\n",
    "# xarray.Dataset\n",
    "start_time = time.time()\n",
    "repr_res = (repr_res_lat + repr_res_lon) / 2\n",
    "dataset_in = dc.load(product = product,\n",
    "                     time = (start_date, end_date), lon = (min_lon, max_lon), lat = (min_lat,max_lat),\n",
    "                     measurements = measurements,\n",
    "                     output_crs = 'EPSG:2056', resolution = (-repr_res, repr_res))\n",
    "dif_time += time.time() - start_time\n",
    "dataset_in"
   ]
  },
  {
   "cell_type": "code",
   "execution_count": null,
   "metadata": {},
   "outputs": [],
   "source": [
    "# As previously\n",
    "start_time = time.time()\n",
    "dataset_in = dataset_in.rename({'x': 'longitude', 'y': 'latitude'})\n",
    "dif_time += time.time() - start_time\n",
    "dataset_in"
   ]
  },
  {
   "cell_type": "code",
   "execution_count": null,
   "metadata": {},
   "outputs": [],
   "source": [
    "# Export same time for comparison\n",
    "write_geotiff_from_xr(tif_path = 'output_crs.tif',\n",
    "                      dataset = dataset_in.isel(time = 1).astype('int16'),\n",
    "                      compr = 'DEFLATE')"
   ]
  },
  {
   "cell_type": "code",
   "execution_count": null,
   "metadata": {},
   "outputs": [],
   "source": [
    "# Store characteristics and compare\n",
    "res_lon = (dataset_in.longitude.values.max() - dataset_in.longitude.values.min()) / (len(dataset_in.longitude) - 1)\n",
    "res_lat = (dataset_in.latitude.values.max() - dataset_in.latitude.values.min()) / (len(dataset_in.latitude) - 1)\n",
    "\n",
    "dt.append(['outputcrs',\n",
    "           '{:.1f}'.format(dataset_in.latitude.values.min()), '{:.1f}'.format(dataset_in.latitude.values.max()),\n",
    "           '{:.1f}'.format(dataset_in.longitude.values.min()), '{:.1f}'.format(dataset_in.longitude.values.max()),\n",
    "           str(dataset_in.crs), '{:.1f}'.format(res_lat), '{:.1f}'.format(res_lon),\n",
    "           len(dataset_in.longitude), len(dataset_in.latitude), len(dataset_in.time),\n",
    "           '{:.5f}'.format(dif_time)])\n",
    "pd.DataFrame(dt, columns=['type',\n",
    "                          'min_lat', 'max_lat', 'min_lon', 'max_lon',\n",
    "                          'crs', 'res_lat', 'res_lon',\n",
    "                          'x_dim', 'y_dim', 't_dim', 'proc_time'])"
   ]
  },
  {
   "cell_type": "markdown",
   "metadata": {},
   "source": [
    "__Reprojected dataset differ greatly !__"
   ]
  },
  {
   "cell_type": "code",
   "execution_count": null,
   "metadata": {},
   "outputs": [],
   "source": [
    "# Let's compare riorepro and outputcrs dataset\n",
    "df = pd.DataFrame(dt, columns=['type',\n",
    "                          'min_lat', 'max_lat', 'min_lon', 'max_lon',\n",
    "                          'crs', 'res_lat', 'res_lon',\n",
    "                          'x_dim', 'y_dim', 't_dim', 'proc_time'])\n",
    "\n",
    "dif_min_lat = float(df.query('type == \"riorepro\"')['min_lat']) - float(df.query('type == \"outputcrs\"')['min_lat'])\n",
    "dif_max_lat = float(df.query('type == \"riorepro\"')['max_lat']) - float(df.query('type == \"outputcrs\"')['max_lat'])\n",
    "dif_min_lon = float(df.query('type == \"riorepro\"')['min_lon']) - float(df.query('type == \"outputcrs\"')['min_lon'])\n",
    "dif_max_lon = float(df.query('type == \"riorepro\"')['max_lon']) - float(df.query('type == \"outputcrs\"')['max_lon'])\n",
    "print('latitude min/max differences: {:.1f}/{:.1f}'.format(dif_min_lat, dif_max_lat))\n",
    "print('longitude min/max differences: {:.1f}/{:.1f}'.format(dif_min_lon, dif_max_lon))\n",
    "\n",
    "dif_res_lat = float(df.query('type == \"riorepro\"')['res_lat']) - float(df.query('type == \"outputcrs\"')['res_lat'])\n",
    "dif_res_lon = float(df.query('type == \"riorepro\"')['res_lon']) - float(df.query('type == \"outputcrs\"')['res_lon'])\n",
    "print('resolution lat/lon differences: {:.1f}/{:.1f}'.format(dif_res_lat, dif_res_lon))"
   ]
  },
  {
   "cell_type": "markdown",
   "metadata": {},
   "source": [
    "__Obviously estimated resolution (*outputcrs*) is far from reality. Even more using `gdal_warp` and `gdalinfo` gives same result as *riorepro*.__\n",
    "\n",
    "__Lets use a theoretical but realistic value (30 m resolution).__"
   ]
  },
  {
   "cell_type": "code",
   "execution_count": null,
   "metadata": {},
   "outputs": [],
   "source": [
    "start_time = time.time()\n",
    "# Then we can use load again using output_crs and resolution options to get a reprojected xarray.Dataset\n",
    "dataset_in = dc.load(product = product,\n",
    "                     time = (start_date, end_date), lon = (min_lon, max_lon), lat = (min_lat,max_lat),\n",
    "                     measurements = measurements,\n",
    "                     output_crs = 'EPSG:2056', resolution = (-30, 30))\n",
    "dataset_in = dataset_in.rename({'x': 'longitude', 'y': 'latitude'})\n",
    "dif_time = time.time() - start_time"
   ]
  },
  {
   "cell_type": "code",
   "execution_count": null,
   "metadata": {},
   "outputs": [],
   "source": [
    "# Export same time for comparison\n",
    "write_geotiff_from_xr(tif_path = 'roundres.tif',\n",
    "                      dataset = dataset_in.isel(time = 1).astype('int16'),\n",
    "                      compr = 'DEFLATE')"
   ]
  },
  {
   "cell_type": "code",
   "execution_count": null,
   "metadata": {},
   "outputs": [],
   "source": [
    "# Store characteristics and compare\n",
    "res_lon = (dataset_in.longitude.values.max() - dataset_in.longitude.values.min()) / (len(dataset_in.longitude) - 1)\n",
    "res_lat = (dataset_in.latitude.values.max() - dataset_in.latitude.values.min()) / (len(dataset_in.latitude) - 1)\n",
    "\n",
    "dt.append(['roundres',\n",
    "           '{:.1f}'.format(dataset_in.latitude.values.min()), '{:.1f}'.format(dataset_in.latitude.values.max()),\n",
    "           '{:.1f}'.format(dataset_in.longitude.values.min()), '{:.1f}'.format(dataset_in.longitude.values.max()),\n",
    "           str(dataset_in.crs), '{:.1f}'.format(res_lat), '{:.1f}'.format(res_lon),\n",
    "           len(dataset_in.longitude), len(dataset_in.latitude), len(dataset_in.time),\n",
    "           '{:.5f}'.format(dif_time)])\n",
    "pd.DataFrame(dt, columns=['type',\n",
    "                          'min_lat', 'max_lat', 'min_lon', 'max_lon',\n",
    "                          'crs', 'res_lat', 'res_lon',\n",
    "                          'x_dim', 'y_dim', 't_dim', 'proc_time'])"
   ]
  },
  {
   "cell_type": "code",
   "execution_count": null,
   "metadata": {},
   "outputs": [],
   "source": []
  }
 ],
 "metadata": {
  "kernelspec": {
   "display_name": "Python (Open Data Cube Development)",
   "language": "python",
   "name": "odc-dev"
  },
  "language_info": {
   "codemirror_mode": {
    "name": "ipython",
    "version": 3
   },
   "file_extension": ".py",
   "mimetype": "text/x-python",
   "name": "python",
   "nbconvert_exporter": "python",
   "pygments_lexer": "ipython3",
   "version": "3.9.12"
  }
 },
 "nbformat": 4,
 "nbformat_minor": 4
}
