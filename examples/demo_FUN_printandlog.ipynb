{
 "cells": [
  {
   "cell_type": "markdown",
   "metadata": {},
   "source": [
    "# Demo of function printandlog from *./swiss_utils/data_cube_utilities/sdc_advutils.py*\n",
    "\n",
    "*****\n",
    "\n",
    "__This script is the \"official demo\" of a function. Please if you want to modify it, work on your own copy__\n",
    "\n",
    "There is no way (at the time of writing this script) to re-open an updated version of a closed Jupyter script. Which does not allow the user to evaluate the progression of the running workflow once the dedicated page closed. The printandlog function, try to solve this issue, by printing and logging specific messages at the same time. Then even if the printed information is not anymore available, the user has access anytime to the updated log.\n",
    "\n",
    "- **message**: Message to print and log\n",
    "- **logname**: (OPTIONAL) Name of the logfile (_default.log_ by default)\n",
    "- **reset**: (OPTIONAL) Reset the existing log if True, or append to existing log if False (default)\n",
    "\n",
    "\n",
    "![](figures/printandlog_figure.png)\n",
    "\n",
    "Documentation for a given function can be accessed simply by adding ? at the end of the function in a cell. e.g. `printandlog?` or by selecting the function and pressing `Shift-Tab`.\n",
    "\n",
    "In this demo Jupyter script, the user can either use the in-script function (below) or import it from *./swiss_utils/data_cube_utilities/sdc_advutils.py*."
   ]
  },
  {
   "cell_type": "code",
   "execution_count": null,
   "metadata": {},
   "outputs": [],
   "source": [
    "# Make sure the script is using the proper kernel\n",
    "try:\n",
    "    %run ../swiss_utils/assert_env.py\n",
    "except:\n",
    "    %run ./swiss_utils/assert_env.py"
   ]
  },
  {
   "cell_type": "code",
   "execution_count": null,
   "metadata": {},
   "outputs": [],
   "source": [
    "# Import modules\n",
    "\n",
    "# reload module before executing code\n",
    "%load_ext autoreload\n",
    "%autoreload 2\n",
    "\n",
    "# define modules locations (you might have to adapt define_mod_locs.py)\n",
    "%run ../swiss_utils/define_mod_locs.py\n",
    "\n",
    "import time # for the demo only\n",
    "\n",
    "# AND THE FUNCTION\n",
    "from swiss_utils.data_cube_utilities.sdc_advutils import printandlog"
   ]
  },
  {
   "cell_type": "raw",
   "metadata": {},
   "source": [
    "# In-script function\n",
    "# DO NOT RUN THIS CELL IF YOU WANT TO USE THE IMPORTED FUNCTION (LAST LINE OF CELL ABOVE)\n",
    "# To make sure to not run inadvertently this cell convert it to Raw NBConvert\n",
    "\n",
    "import os\n",
    "import logging\n",
    "from datetime import datetime\n",
    "\n",
    "def printandlog(msg, logname = 'default.log', reset = False):\n",
    "    \"\"\"\n",
    "    Description:\n",
    "      Function to print and write in a log file any info\n",
    "    -----\n",
    "    Input:\n",
    "      message: Message to print and log\n",
    "      logname: Name of the logfile (defult.log by default)\n",
    "      reset: Reset the existing log if True, or append to existing log if False (default)\n",
    "    Output:\n",
    "      Print message in page and logname after date and time\n",
    "    -----\n",
    "    Usage:\n",
    "      printandlog('Started computing', 'any_name.log', reset = True)\n",
    "    \"\"\"\n",
    "    logging.basicConfig(filename=logname,\n",
    "                        level=logging.INFO,\n",
    "                        format='%(asctime)s | %(message)s',\n",
    "                        datefmt='%Y-%m-%d %H:%M:%S')\n",
    "    if reset:\n",
    "        open(logname, 'w').close()\n",
    "    print('%s | %s' % (datetime.now(), msg))\n",
    "    logging.info(msg)\n",
    "    return"
   ]
  },
  {
   "cell_type": "code",
   "execution_count": null,
   "metadata": {},
   "outputs": [],
   "source": [
    "# First section to monitor\n",
    "\n",
    "logname = 'demo_printandlog.log'\n",
    "\n",
    "printandlog('STARTED sleeping (and reset log)', logname, reset = True)\n",
    "time.sleep(10)\n",
    "printandlog('End of first sleep', logname)\n",
    "time.sleep(5)\n",
    "printandlog('DONE after second sleep\\n', logname)"
   ]
  },
  {
   "cell_type": "code",
   "execution_count": null,
   "metadata": {},
   "outputs": [],
   "source": [
    "# Second section to monitor\n",
    "time.sleep(2)\n",
    "printandlog('RE-DONE after a third sleep\\n', logname) # Appended without reseting the log"
   ]
  },
  {
   "cell_type": "code",
   "execution_count": null,
   "metadata": {},
   "outputs": [],
   "source": []
  }
 ],
 "metadata": {
  "kernelspec": {
   "display_name": "Python (Open Data Cube Development)",
   "language": "python",
   "name": "odc-dev"
  },
  "language_info": {
   "codemirror_mode": {
    "name": "ipython",
    "version": 3
   },
   "file_extension": ".py",
   "mimetype": "text/x-python",
   "name": "python",
   "nbconvert_exporter": "python",
   "pygments_lexer": "ipython3",
   "version": "3.9.12"
  },
  "widgets": {
   "state": {
    "41cf9b5ae99f431f8c32da0cf0c287b5": {
     "views": [
      {
       "cell_index": 8
      }
     ]
    },
    "50e23ba816ef41b2830b01c34ab8c5d3": {
     "views": [
      {
       "cell_index": 8
      }
     ]
    },
    "70527fca43254781ae53895c28d6f4e1": {
     "views": [
      {
       "cell_index": 8
      }
     ]
    },
    "d8303e34f746450494aea0fec5f6849a": {
     "views": [
      {
       "cell_index": 8
      }
     ]
    }
   },
   "version": "1.2.0"
  }
 },
 "nbformat": 4,
 "nbformat_minor": 4
}
