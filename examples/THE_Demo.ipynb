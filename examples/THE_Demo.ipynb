{
 "cells": [
  {
   "cell_type": "markdown",
   "metadata": {},
   "source": [
    "## THE Demo <a name=\"top\"></a>\n",
    "\n",
    "This script has two goal:\n",
    "- Introduce new users to the [Open Data Cube](https://www.opendatacube.org/) through [Jupyter notebook](https://jupyter.org/), manipulating passive sensors (Landsat or Sentinel 2, depending on DC availability).\n",
    "- Present the **last version** of functions developped by [Swiss Data Cube](https://www.swissdatacube.org/) (SDC) team, and also presented in demo_FUN_* notebooks in current folder.\n",
    "\n",
    "The script is structured as follows:\n",
    "- **[standard script beginning](#standbeg)**: cells generally found at the beginning of a script. To run cells from other sections you need to run all cells of this section.\n",
    "\n",
    "- **[load DC (Option A)](#loaddcopta)**: load required DC information on memory based on configuration parameters, using default DC function. \n",
    "\n",
    "- **[load DC (Option B)](#loaddcoptb)**: load required DC information on memory based on configuration parameters, using SDC function. \n",
    "    \n",
    "- **[explore created xarray.Dataset](#explorexr)**: explore the created xarray.Dataset variable (dataset_clean).\n",
    "\n",
    "- **[create, plot and export mosaic figure using default DC functions](#pngdef)**\n",
    "\n",
    "- **[plot and export mosaic figure using SDC functions](#pngsdc)**\n",
    "\n",
    "- **[export xarray.Dataset](#exportds)**\n",
    "\n",
    "- **[create, plot and export xarray.DataArray](#dataarray)**\n",
    "\n",
    "- **[single time water time serie analysis](#waterts)**\n",
    "    \n",
    "\n",
    "---\n"
   ]
  },
  {
   "cell_type": "markdown",
   "metadata": {},
   "source": [
    "### Standard script beginning <a name=\"standbeg\"></a>\n",
    "\n",
    "The cells in this section are generally found at the beginning of a script (and it is advised to apply this template).\n",
    "\n",
    "To run cells from above sections you need to run all cells of this section.\n",
    "\n",
    "- **import dependencies**: import libraries, connect to dc and silence warning if required.\n",
    "- **Configuration**: all variable you might need to change. Keep in mind the bigger it will be (in term of geograhical extent, time period and number of measurements (bands)), the slower the demo will go.\n",
    "- **Functions**: all functions written in-script\n",
    "[<div style=\"text-align: right; font-size: 24px\"> &#x1F51D; </div>](#top)"
   ]
  },
  {
   "cell_type": "code",
   "execution_count": null,
   "metadata": {},
   "outputs": [],
   "source": [
    "# Make sure the script is using the proper kernel\n",
    "try:\n",
    "    %run ../swiss_utils/assert_env.py\n",
    "except:\n",
    "    %run ./swiss_utils/assert_env.py"
   ]
  },
  {
   "cell_type": "code",
   "execution_count": null,
   "metadata": {},
   "outputs": [],
   "source": [
    "# Import modules\n",
    "\n",
    "# reload module before executing code\n",
    "%load_ext autoreload\n",
    "%autoreload 2\n",
    "\n",
    "# define modules locations (you might have to adapt define_mod_locs.py)\n",
    "%run ../swiss_utils/define_mod_locs.py\n",
    "\n",
    "# to plot figures\n",
    "%matplotlib inline\n",
    "\n",
    "# import full general libraries\n",
    "\n",
    "# import general libraries and allocate them a specific name\n",
    "import numpy as np # np.average\n",
    "import pandas as pd # DataFrame\n",
    "import matplotlib.pyplot as plt\n",
    "\n",
    "# import specific functions from general libraries\n",
    "from datetime import datetime\n",
    "from IPython.display import Image, display, HTML\n",
    "from matplotlib import colors\n",
    "\n",
    "# import dedicated function of general libraries\n",
    "\n",
    "# import ODC (default) functions\n",
    "from utils.data_cube_utilities.dc_mosaic import create_hdmedians_multiple_band_mosaic\n",
    "from utils.data_cube_utilities.dc_utilities import write_png_from_xr\n",
    "from utils.data_cube_utilities.dc_water_classifier import wofs_classify\n",
    "\n",
    "# import SDC functions\n",
    "from swiss_utils.data_cube_utilities.sdc_utilities import ls_qa_clean, load_multi_clean, \\\n",
    "                                                          write_geotiff_from_xr, time_list\n",
    "from swiss_utils.data_cube_utilities.sdc_advutils import oneband_fig, composite_fig\n",
    "\n",
    "# connect to DC\n",
    "import datacube\n",
    "dc = datacube.Datacube()\n",
    "\n",
    "# silence warning (not recommended during development)\n",
    "import warnings\n",
    "warnings.filterwarnings(\"ignore\")"
   ]
  },
  {
   "cell_type": "markdown",
   "metadata": {},
   "source": [
    "# The next cell contains the dataset configuration information:\n",
    "- product\n",
    "- geographical extent\n",
    "- time period\n",
    "- bands\n",
    "\n",
    "You can generate it in three ways:\n",
    "1. manually from scratch,\n",
    "2. by manually copy/pasting the final cell content of the [config_tool](config_tool.ipynb) notebook,\n",
    "3. by loading the final cell content of the [config_tool](config_tool.ipynb) notebook using the magic `# %load config_cell.txt`.\n",
    "\n",
    "In order to have a sweet running demo it is advised to apply the following rules when generating the configuration cell:\n",
    "- select a **small dataset** (geograhical extent, time period and number of measurements (bands)) for faster processing,\n",
    "- use **landsat, but not Landsat 7 product** (as it contains large part of nodata since 2003),\n",
    "- select an **area covering only a small parts of mountains** (as snow is generally confused with clouds and then considered as nodata),\n",
    "- for the previous reason, **avoid to select winter period**.\n",
    "\n",
    "Finally **the following measurements are required**: `red, green, blue, nir, swir2 and pixel_qa`; and the geographical extent should contain some surface with a water body as water detection tools will be used."
   ]
  },
  {
   "cell_type": "code",
   "execution_count": null,
   "metadata": {},
   "outputs": [],
   "source": [
    "%load config_cell.txt"
   ]
  },
  {
   "cell_type": "markdown",
   "metadata": {},
   "source": [
    "### Load DC (option A)<a name=\"loaddcopta\"></a>\n",
    "\n",
    "Load requested DC information on memory (meaning an [xarray.Dataset](http://xarray.pydata.org/en/stable/index.html) variable will be created) based on configuration parameters, using default DC function [dc_load](https://datacube-core.readthedocs.io/en/latest/dev/api/generate/datacube.Datacube.load.html).\n",
    "\n",
    "This function simply load a single product and does not clean it by applying a mask. Then we will have to use the `ls_qa_clean` function dedicated to clean Landsat xarray.Dataset (see [demo_FUN_ls_qa_clean.ipynb](demo_FUN_ls_qa_clean.ipynb) fro more details.\n",
    "[<div style=\"text-align: right; font-size: 24px\"> &#x1F51D; </div>](#top)"
   ]
  },
  {
   "cell_type": "code",
   "execution_count": null,
   "metadata": {},
   "outputs": [],
   "source": [
    "# Load DC the default way (notice this function deals with a single product only)\n",
    "\n",
    "dataset_in = dc.load(latitude = (min_lat, max_lat),\n",
    "                     longitude = (min_lon, max_lon),\n",
    "                     product = product,\n",
    "                     time = [start_date, end_date],\n",
    "                     measurements = measurements)"
   ]
  },
  {
   "cell_type": "code",
   "execution_count": null,
   "metadata": {},
   "outputs": [],
   "source": [
    "# visualize the DC\n",
    "print(dataset_in)"
   ]
  },
  {
   "cell_type": "code",
   "execution_count": null,
   "metadata": {},
   "outputs": [],
   "source": [
    "# visualize the green band of the first time (remember indexation starts at 0)\n",
    "\n",
    "print(dataset_in.isel(time = 0).green)"
   ]
  },
  {
   "cell_type": "code",
   "execution_count": null,
   "metadata": {},
   "outputs": [],
   "source": [
    "# to illustrate how the mask is used, let's plot an histogram of green band\n",
    "dataset_in.green.plot.hist()"
   ]
  },
  {
   "cell_type": "code",
   "execution_count": null,
   "metadata": {},
   "outputs": [],
   "source": [
    "# let's generate and apply a mask on dataset_in by using ls_qa_clean function from and compare with what\n",
    "# we add before cleaning\n",
    "\n",
    "clean_mask = ls_qa_clean(dataset_in.pixel_qa)\n",
    "dataset_clean = dataset_in.where(clean_mask)\n",
    "\n",
    "print(dataset_clean)\n",
    "dataset_clean.green.plot.hist()"
   ]
  },
  {
   "cell_type": "code",
   "execution_count": null,
   "metadata": {},
   "outputs": [],
   "source": [
    "# Let's plot green band for all time\n",
    "\n",
    "dataset_clean.green.plot(x='longitude', y='latitude', col='time', col_wrap=5)"
   ]
  },
  {
   "cell_type": "code",
   "execution_count": null,
   "metadata": {},
   "outputs": [],
   "source": [
    "# You might notice several issues let's get rid of them and plot again the green band\n",
    "\n",
    "# 1. many plot are empty meaning the full scene doesn't contains any data, let's remove them\n",
    "dataset_clean = dataset_clean.dropna('time', how='all')\n",
    "\n",
    "# 2. a few pixels have negative values (which shoulln't be the case with Landsat SR), let's remove them\n",
    "dataset_clean = dataset_clean.where(dataset_clean >= 0)\n",
    "\n",
    "# Let's replot using appropriate colors\n",
    "dataset_clean.green.plot(x='longitude', y='latitude', col='time', col_wrap=5, cmap = 'Greens')"
   ]
  },
  {
   "cell_type": "code",
   "execution_count": null,
   "metadata": {},
   "outputs": [],
   "source": [
    "# Re-compute clean_mask as the number of time of dataset_clean was reduced\n",
    "print(f\"Original clean_mask shape: {clean_mask.shape}\")\n",
    "\n",
    "clean_mask = ~np.isnan(dataset_clean[measurements[0]].values)\n",
    "\n",
    "print(f\"Updated clean_mask shape: {clean_mask.shape}\")"
   ]
  },
  {
   "cell_type": "code",
   "execution_count": null,
   "metadata": {},
   "outputs": [],
   "source": [
    "# in the case dataset_in is not anymore necessary and in order free data stored in memory\n",
    "# let's remove dataset_in\n",
    "\n",
    "del(dataset_in)\n",
    "\n",
    "# for the demo, check the variable does not exists anymore.\n",
    "print(dataset_in)\n",
    "# You should get an error message as the dataset_in variable does not exists anymore"
   ]
  },
  {
   "cell_type": "markdown",
   "metadata": {},
   "source": [
    "### Load DC (option B)<a name=\"loaddcoptb\"></a>\n",
    "\n",
    "Load requested DC information on memory (meaning an [xarray.Dataset](http://xarray.pydata.org/en/stable/index.html) variable will be created) based on configuration parameters, using [load_multi_clean](demo_FUN_load_multi_clean.ipynb) function developped within the frame of the SDC.\n",
    "\n",
    "This function load several products (in the same xarray.Dataset), automaticaly clean it and generate a mask.\n",
    "\n",
    "Various function are available from default libraries and function within notebooks to mask a **Landsat xarray.Dataset**, each one giving slighly different results. The function load_multi_clean was developped within SDC context with several purpose:\n",
    "\n",
    "- ability to process Landsat as well as **Sentinel 2** xarray.Dataset\n",
    "- give **priority to snow** in case of low probability of clouds in Landsat xarray.Dataset\n",
    "- load at once **several products**\n",
    "\n",
    "**load_multi_clean** generate two output:\n",
    "\n",
    "- a clean xarray.Dataset\n",
    "- a boolean mask numpy.ndarray\n",
    "\n",
    "Documentation for a given function can be accessed simply by adding ? at the end of the function in a cell. e.g. `load_multi_clean?` or by selecting the function and pressing `Shift-Tab`.\n",
    "[<div style=\"text-align: right; font-size: 24px\"> &#x1F51D; </div>](#top)"
   ]
  },
  {
   "cell_type": "code",
   "execution_count": null,
   "metadata": {},
   "outputs": [],
   "source": [
    "# Load DC using SDC load_multi_clean function which will immediately generate a clean dataset\n",
    "\n",
    "dataset_clean, clean_mask = load_multi_clean(dc = dc,\n",
    "                                             products = product ,\n",
    "                                             time = [start_date, end_date],\n",
    "                                             lon = (min_lon, max_lon),\n",
    "                                             lat = (min_lat, max_lat),\n",
    "                                             measurements = measurements)\n",
    "print(dataset_clean)\n",
    "print(clean_mask)"
   ]
  },
  {
   "cell_type": "code",
   "execution_count": null,
   "metadata": {},
   "outputs": [],
   "source": [
    "# let's plot an histogram of green band again\n",
    "\n",
    "dataset_clean.green.plot.hist()"
   ]
  },
  {
   "cell_type": "markdown",
   "metadata": {},
   "source": [
    "### Explore the created xarray.Dataset variable (dataset_clean) <a name=\"explorexr\"></a>\n",
    "[<div style=\"text-align: right; font-size: 24px\"> &#x1F51D; </div>](#top)"
   ]
  },
  {
   "cell_type": "code",
   "execution_count": null,
   "metadata": {},
   "outputs": [],
   "source": [
    "# # visualize dataset_clean\n",
    "# by adding , '\\n' we add an empty line between print functions\n",
    "print(dataset_clean, '\\n')\n",
    "\n",
    "# visualize dimensions\n",
    "print('dimensions: %s\\n' % (list(dataset_clean.dims)))\n",
    "\n",
    "# visualize time\n",
    "print('time: %s\\n' % (dataset_clean.time))\n",
    "\n",
    "# get the number of time\n",
    "print('time count: %s\\n' % (len(dataset_clean.time)))"
   ]
  },
  {
   "cell_type": "code",
   "execution_count": null,
   "metadata": {},
   "outputs": [],
   "source": [
    "# nicely display time values using pandas library\n",
    "pd.DataFrame(dataset_clean.time.values, columns = ['date'])"
   ]
  },
  {
   "cell_type": "code",
   "execution_count": null,
   "metadata": {},
   "outputs": [],
   "source": [
    "# visualize specific red band\n",
    "# an xarray.Dataset variable consists in an xarray.DataArray\n",
    "print(dataset_clean.red)"
   ]
  },
  {
   "cell_type": "code",
   "execution_count": null,
   "metadata": {},
   "outputs": [],
   "source": [
    "# visualize specific red band for a given time index\n",
    "# remember in Python indexing starts at 0\n",
    "print(dataset_clean.red.isel(time=0))"
   ]
  },
  {
   "cell_type": "code",
   "execution_count": null,
   "metadata": {},
   "outputs": [],
   "source": [
    "# Let's plot green band for all time\n",
    "\n",
    "dataset_clean.green.plot(x='longitude', y='latitude', col='time', col_wrap=5, cmap='Greens')"
   ]
  },
  {
   "cell_type": "code",
   "execution_count": null,
   "metadata": {},
   "outputs": [],
   "source": [
    "# let's do it again but this time removing negative values\n",
    "\n",
    "dataset_clean = dataset_clean.where(dataset_clean >= 0)\n",
    "dataset_clean.green.dropna('time', how='all').plot(x='longitude', y='latitude', col='time',\n",
    "                                                  col_wrap=5, cmap = \"Greens\")"
   ]
  },
  {
   "cell_type": "code",
   "execution_count": null,
   "metadata": {},
   "outputs": [],
   "source": [
    "# Let's plot composites in True color (red, green, blue)\n",
    "\n",
    "dataset_clean[['red','green','blue']].isel(time = time_list(dataset_clean)).to_array().plot.imshow(x='longitude', y='latitude',col='time',col_wrap=5)"
   ]
  },
  {
   "cell_type": "markdown",
   "metadata": {},
   "source": [
    "### Create, plot and export mosaic figure using default DC functions<a name=\"pngdef\"></a>[<div style=\"text-align: right; font-size: 24px\"> &#x1F51D; </div>](#top)"
   ]
  },
  {
   "cell_type": "code",
   "execution_count": null,
   "metadata": {},
   "outputs": [],
   "source": [
    "# Create a mosaic\n",
    "# several mosaic function (and options) are available:\n",
    "# - create_mosaic(dataset_in, clean_mask)\n",
    "# - create_mosaic(dataset_in.sortby('time', ascending = False)\n",
    "# - create_mean_mosaic(dataset_in)\n",
    "# - create_median_mosaic(dataset_in)\n",
    "# - create_min_ndvi_mosaic(dataset_in, clean_mask)\n",
    "# - create_max_ndvi_mosaic(dataset_in, clean_mask)\n",
    "# - create_hdmedians_multiple_band_mosaic(dataset_in, clean_mask, operation='median')\n",
    "# - create_hdmedians_multiple_band_mosaic(dataset_in, clean_mask, operation='medoid')\n",
    "\n",
    "# we will apply the last one at it seems to be the best balance betwee visual result an processing time\n",
    "mosaic = create_hdmedians_multiple_band_mosaic(dataset_clean, clean_mask, operation='medoid')\n",
    "mosaic"
   ]
  },
  {
   "cell_type": "code",
   "execution_count": null,
   "metadata": {
    "scrolled": true
   },
   "outputs": [],
   "source": [
    "# Plot mosaic the default DC way\n",
    "\n",
    "mosaic[['red','green','blue']].to_array().plot.imshow(x='longitude', y='latitude', robust=True)"
   ]
  },
  {
   "cell_type": "code",
   "execution_count": null,
   "metadata": {},
   "outputs": [],
   "source": [
    "# Export mosaic as composite png the default way\n",
    "\n",
    "write_png_from_xr('demo_mosaic.png', mosaic ,['red', 'green', 'blue'])\n",
    "\n",
    "# png can be downloaded and visualized through the Home page of the Jupyter interface\n",
    "# but it can be visualized in the notebook\n",
    "Image('demo_mosaic.png')"
   ]
  },
  {
   "cell_type": "code",
   "execution_count": null,
   "metadata": {},
   "outputs": [],
   "source": [
    "# You might find the image a bit lighter (or darker), then let's find dataset values distribution\n",
    "\n",
    "kwargs = dict(bins = 50, alpha = 0.3)\n",
    "\n",
    "mosaic.red.plot.hist(color='red', **kwargs)\n",
    "mosaic.green.plot.hist(color='green', **kwargs, stacked = True)\n",
    "mosaic.blue.plot.hist(color='blue', **kwargs, stacked = True)\n",
    "plt.xlabel('Value')"
   ]
  },
  {
   "cell_type": "code",
   "execution_count": null,
   "metadata": {},
   "outputs": [],
   "source": [
    "# improve rendering using scale option\n",
    "# and display the png\n",
    "\n",
    "write_png_from_xr('demo_mosaic_scaled.png', mosaic ,['red', 'green', 'blue'], scale = [(0,1000),(0,1000),(0,1000)])\n",
    "\n",
    "Image('demo_mosaic_scaled.png')"
   ]
  },
  {
   "cell_type": "markdown",
   "metadata": {},
   "source": [
    "### Plot and export mosaic figure using SDC functions<a name=\"pngsdc\"></a>\n",
    "\n",
    "In the contect of the SDC a function [composite_fig](https://sdc.unepgrid.ch:8080/notebooks/demo_FUN_figs.ipynb) was created to plot or export 3 band composite png, plus a few bonus (title, scalebar,...).\n",
    "\n",
    "For documentation run a cell containing:\n",
    "\n",
    "`composite_fig?`\n",
    "[<div style=\"text-align: right; font-size: 24px\"> &#x1F51D; </div>](#top)"
   ]
  },
  {
   "cell_type": "code",
   "execution_count": null,
   "metadata": {},
   "outputs": [],
   "source": [
    "# Export previous mosaic as composite png the SDC way\n",
    "\n",
    "composite_fig(mosaic,\n",
    "              bands = ['red', 'green', 'blue'],\n",
    "              title = 'Demo composite',\n",
    "              scalebar_color = 'white',\n",
    "              max_size = 16)"
   ]
  },
  {
   "cell_type": "code",
   "execution_count": null,
   "metadata": {},
   "outputs": [],
   "source": [
    "# for the demo let's reduce the figure size and stretch the image histogram\n",
    "\n",
    "composite_fig(mosaic,\n",
    "              bands = ['red', 'green', 'blue'],\n",
    "              title = 'Demo composite',\n",
    "              scalebar_color = 'white',\n",
    "              max_size = 10,\n",
    "              hist_str = 'contr')"
   ]
  },
  {
   "cell_type": "code",
   "execution_count": null,
   "metadata": {},
   "outputs": [],
   "source": [
    "# to export the composite as png, simply add the fig_name parameter\n",
    "\n",
    "composite_fig(mosaic,\n",
    "              bands = ['red', 'green', 'blue'],\n",
    "              title = 'Demo composite',\n",
    "              scalebar_color = 'white',\n",
    "              max_size = 10,\n",
    "              hist_str = 'contr',\n",
    "              fig_name = 'demo_composite.png')\n",
    "\n",
    "# when a png is created the composite is not displayed, but it can be downloaded and visualized\n",
    "# through the Home page of the Jupyter interface or added to the notebook with the command:\n",
    "Image('demo_composite.png')"
   ]
  },
  {
   "cell_type": "markdown",
   "metadata": {
    "tags": []
   },
   "source": [
    "### Export xarray.Dataset <a name=\"exportds\"></a>[<div style=\"text-align: right; font-size: 24px\"> &#x1F51D; </div>](#top)"
   ]
  },
  {
   "cell_type": "code",
   "execution_count": null,
   "metadata": {},
   "outputs": [],
   "source": [
    "# Export mosaic (xarray.Dataset) as a multi-band (containing all bands) NetCDF using default DC function\n",
    "\n",
    "mosaic.to_netcdf('mosaic.nc')\n",
    "\n",
    "# as NetCDF file is created the composite and can be downloaded through the Home page of the Jupyter\n",
    "# interface. A direct link can also be added to the notebook with the command. But user might have to use\n",
    "# Shift + Right click to save the link.\n",
    "display(HTML(\"\"\"<a href=\"mosaic.nc\" target=\"_blank\" >download NetCDF</a>\"\"\"))"
   ]
  },
  {
   "cell_type": "code",
   "execution_count": null,
   "metadata": {},
   "outputs": [],
   "source": [
    "# As the default DC export_xarray_to_geotiff function as several weakness, in the contect of the SDC a \n",
    "# write_geotiff_from_xr function was created to improve and facilitate xarray.Dataset export by:\n",
    "# - fixing pixel shift bug of the default function\n",
    "# - keeping original band name\n",
    "# - adding a compression option\n",
    "\n",
    "# For documentation run a cell containing: `write_geotiff_from_xr?`\n",
    "\n",
    "# As the CRS information was lots during mosaic creation it has to be precised in the next function\n",
    "\n",
    "write_geotiff_from_xr('mosaic.tif', mosaic, crs = dataset_clean.crs, compr = 'DEFLATE')\n",
    "\n",
    "# add a direct link (user might have to use Shift + Right click to save the link).\n",
    "display(HTML(\"\"\"<a href=\"mosaic.tif\" target=\"_blank\" >download geotiff</a>\"\"\"))"
   ]
  },
  {
   "cell_type": "markdown",
   "metadata": {},
   "source": [
    "### Create, plot and export xarray.DataArray <a name=\"dataarray\"></a>\n",
    "\n",
    "dataArray will be presented and manipulated using Normalized Difference Indexes\n",
    "[<div style=\"text-align: right; font-size: 24px\"> &#x1F51D; </div>](#top)"
   ]
  },
  {
   "cell_type": "code",
   "execution_count": null,
   "metadata": {},
   "outputs": [],
   "source": [
    "# Let's start computing NDVI for each time\n",
    "\n",
    "ndvi = (dataset_clean.nir - dataset_clean.red) / (dataset_clean.nir + dataset_clean.red)\n",
    "print(ndvi)"
   ]
  },
  {
   "cell_type": "code",
   "execution_count": null,
   "metadata": {},
   "outputs": [],
   "source": [
    "# then compute mean NDVI through time\n",
    "ndvi_mean = ndvi.mean(dim=['time'])\n",
    "# delete the variable we do not need anymore\n",
    "del ndvi\n",
    "# replace +-Inf by nan\n",
    "ndvi_mean = ndvi_mean.where(np.isfinite(ndvi_mean))\n",
    "ndvi_mean"
   ]
  },
  {
   "cell_type": "code",
   "execution_count": null,
   "metadata": {},
   "outputs": [],
   "source": [
    "# plot ndvi_mean the default DC way (as in previous sections, but by using custom NDVI colors\n",
    "# and fixed extrem colors/values)\n",
    "\n",
    "ndvi_mean.plot.imshow(x='longitude', y='latitude', vmin=-1, vmax=1,\n",
    "                      cmap = colors.LinearSegmentedColormap.from_list('ndvi', ['darkblue','blue','lightblue', \\\n",
    "                                                                               'lightgreen','darkgreen'], N=256))\n"
   ]
  },
  {
   "cell_type": "code",
   "execution_count": null,
   "metadata": {},
   "outputs": [],
   "source": [
    "# equivalent plot the SDC way (oneband_fig function)\n",
    "\n",
    "oneband_fig(ndvi_mean,\n",
    "            leg = colors.LinearSegmentedColormap.from_list('ndvi', ['darkblue','blue','lightblue',\n",
    "                                                                    'lightgreen','darkgreen'], N=256),\n",
    "            title = 'NDVI mean with a gold scalebar',\n",
    "            scalebar_color = 'gold',\n",
    "            max_size = 16,\n",
    "            v_min = -1,\n",
    "            v_max = 1)\n",
    "\n",
    "# this is the occasion to compare figure widht/height ratio for default DC and SDC way output,\n",
    "# notice how the x and y resolution differ in the above figure."
   ]
  },
  {
   "cell_type": "code",
   "execution_count": null,
   "metadata": {},
   "outputs": [],
   "source": [
    "# as the composite_fig function you can save the figure simply by adding the fig_name parameter\n",
    "\n",
    "oneband_fig(ndvi_mean,\n",
    "            leg = colors.LinearSegmentedColormap.from_list('ndvi', ['darkblue','blue','lightblue',\n",
    "                                                                    'lightgreen','darkgreen'], N=256),\n",
    "            title = 'NDVI mean without scalebar',\n",
    "            fig_name = 'ndvi_mean_without_scalebar.png',\n",
    "            max_size = 12,\n",
    "            v_min = -1,\n",
    "            v_max = 1)\n",
    "\n",
    "# and diplay the figure (as well available through the home page of Jupyter):\n",
    "Image('ndvi_mean_without_scalebar.png')"
   ]
  },
  {
   "cell_type": "code",
   "execution_count": null,
   "metadata": {},
   "outputs": [],
   "source": [
    "# Export as NetCDF\n",
    "\n",
    "ndvi_mean.to_netcdf('ndvi_mean.nc')\n",
    "display(HTML(\"\"\"<a href=\"ndvi_mean.nc\" target=\"_blank\" >download NetCDF</a>\"\"\"))\n",
    "\n",
    "# Export as geotiff\n",
    "# xarray.DataArray need to be converted to xarray.Dataset and the CRS to be defined\n",
    "\n",
    "write_geotiff_from_xr('ndvi_mean.tif', ndvi_mean.to_dataset(name = 'NDVI'), ['NDVI'],\n",
    "                      crs = dataset_clean.crs, compr = 'DEFLATE')\n",
    "display(HTML(\"\"\"<a href=\"ndvi_mean.tif\" target=\"_blank\" >download geotiff</a>\"\"\"))"
   ]
  },
  {
   "cell_type": "code",
   "execution_count": null,
   "metadata": {},
   "outputs": [],
   "source": [
    "# compute NDWI and NDBI by combining the 2 commands (then we do not need to delete intermediate index)\n",
    "\n",
    "ndwi_mean = ((dataset_clean.green - dataset_clean.nir) / (dataset_clean.green + dataset_clean.nir)).mean(dim=['time'])\n",
    "ndwi_mean = ndwi_mean.where(np.isfinite(ndwi_mean)) # replace +-Inf by nan\n",
    "ndbi_mean = ((dataset_clean.swir2 - dataset_clean.nir) / (dataset_clean.swir2 + dataset_clean.nir)).mean(dim=['time'])\n",
    "ndbi_mean = ndbi_mean.where(np.isfinite(ndbi_mean)) # replace +-Inf by nan"
   ]
  },
  {
   "cell_type": "code",
   "execution_count": null,
   "metadata": {},
   "outputs": [],
   "source": [
    "# for fun let's create a false color composite using Built, Vegetation and Water indexes\n",
    "\n",
    "# create a dataset with the 3 bands\n",
    "bvw_ds = ndbi_mean.to_dataset(name = 'ndbi').merge(ndvi_mean.to_dataset(name = 'ndvi')).merge(ndwi_mean.to_dataset(name = 'ndwi'))\n",
    "# delete the variable we do not need anymore\n",
    "del ndbi_mean\n",
    "del ndvi_mean\n",
    "del ndwi_mean\n",
    "# fix nan issues\n",
    "bvw_ds = bvw_ds.fillna(bvw_ds.min())\n",
    "bvw_ds"
   ]
  },
  {
   "cell_type": "code",
   "execution_count": null,
   "metadata": {},
   "outputs": [],
   "source": [
    "bvw_ds.ndbi.plot.hist(bins = 50, color='red', alpha = 0.3)\n",
    "bvw_ds.ndvi.plot.hist(bins = 50, color='green', alpha = 0.3, stacked = True)\n",
    "bvw_ds.ndwi.plot.hist(bins = 50, color='blue', alpha = 0.3, stacked = True)"
   ]
  },
  {
   "cell_type": "code",
   "execution_count": null,
   "metadata": {},
   "outputs": [],
   "source": [
    "# finally create a figure with fixed display range (-1 to +1 as we are dealing with normalized indexes)\n",
    "composite_fig(bvw_ds,\n",
    "              bands = ['ndbi', 'ndvi', 'ndwi'],\n",
    "              title = 'Demo BVW composite (with color range fixed to -1 to 1)',\n",
    "              scalebar_color = 'white',\n",
    "              max_size = 14,\n",
    "              v_min = -1,\n",
    "              v_max = 1,\n",
    "              fig_name = 'demo_BVW_composite.png')\n",
    "\n",
    "# and diplay it\n",
    "Image('demo_BVW_composite.png')"
   ]
  },
  {
   "cell_type": "markdown",
   "metadata": {},
   "source": [
    "### Single time water time serie analysis <a name=\"waterts\"></a>[<div style=\"text-align: right; font-size: 24px\"> &#x1F51D; </div>](#top)"
   ]
  },
  {
   "cell_type": "code",
   "execution_count": null,
   "metadata": {
    "scrolled": true
   },
   "outputs": [],
   "source": [
    "# run the \"Water Observation From Space\" algorithme\n",
    "# replace nodata values (-9999) by nan\n",
    "# compute percentage of time a pixel was detected as water\n",
    "\n",
    "# by default this fucntion display a lot of warning\n",
    "# if not already done let's switch them off\n",
    "import warnings\n",
    "warnings.filterwarnings(\"ignore\")\n",
    "\n",
    "ts_water_classification = wofs_classify(dataset_clean, clean_mask = clean_mask)\n",
    "ts_water_classification = ts_water_classification.where(ts_water_classification != -9999)\n",
    "water_classification_percentages = (ts_water_classification.mean(dim = ['time']) * 100).wofs.rename('water_classification_percentages')\n",
    "del ts_water_classification\n",
    "\n",
    "# display water percentage\n",
    "water_classification_percentages.plot()"
   ]
  },
  {
   "cell_type": "code",
   "execution_count": null,
   "metadata": {},
   "outputs": [],
   "source": [
    "# display values distribution\n",
    "\n",
    "water_classification_percentages.plot.hist(bins = 20)"
   ]
  },
  {
   "cell_type": "code",
   "execution_count": null,
   "metadata": {},
   "outputs": [],
   "source": []
  }
 ],
 "metadata": {
  "kernelspec": {
   "display_name": "Python (Open Data Cube Development)",
   "language": "python",
   "name": "odc-dev"
  },
  "language_info": {
   "codemirror_mode": {
    "name": "ipython",
    "version": 3
   },
   "file_extension": ".py",
   "mimetype": "text/x-python",
   "name": "python",
   "nbconvert_exporter": "python",
   "pygments_lexer": "ipython3",
   "version": "3.9.12"
  }
 },
 "nbformat": 4,
 "nbformat_minor": 4
}
