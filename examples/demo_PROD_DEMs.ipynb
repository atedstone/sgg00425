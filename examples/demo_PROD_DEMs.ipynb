{
 "cells": [
  {
   "cell_type": "markdown",
   "metadata": {},
   "source": [
    "# Demo of DEMs products<a name=\"top\"></a>\n",
    "\n",
    "*****\n",
    "\n",
    "__This script is present products available through the [config_tool.ipynb](config_tool.ipynb) notebook__\n",
    "\n",
    "This notebook present and demonstrate how to interacte with two DEMs products covering Switzerland:\n",
    "\n",
    "**swissALTI3D** product named 'swissalti3d_scene' is restricted to Switzerland boundaries and is available at 2 m resolution (see https://www.swisstopo.admin.ch/en/geodata/height/alti3d.html for further information).\n",
    "\n",
    "**ASTER GDEM v3** product named 'astgtmv003_scene' cover Switzerland geographical extent plus part of neighbouring countries at 30 m resolution. You will be able to visualize it in the next cells.\n",
    "\n",
    "The script is structured as follows:\n",
    "- **[ASTER GDEM v3](#ds_aster)**: Presenting how to interact with Aster GDEM v3.\n",
    "- **[swissALTI3D](#ds_swiss)**: Presenting how to interact with swissALTI3D.\n",
    "- **[reprojecting and resampling](#rere)**: Presenting how to reproject and resample high resolution swissALTI3D to medium resolution ASTER GDEM v3."
   ]
  },
  {
   "cell_type": "code",
   "execution_count": null,
   "metadata": {},
   "outputs": [],
   "source": [
    "# Make sure the script is using the proper kernel\n",
    "try:\n",
    "    %run ../swiss_utils/assert_env.py\n",
    "except:\n",
    "    %run ./swiss_utils/assert_env.py"
   ]
  },
  {
   "cell_type": "code",
   "execution_count": null,
   "metadata": {},
   "outputs": [],
   "source": [
    "# Import modules\n",
    "\n",
    "# reload module before executing code\n",
    "%load_ext autoreload\n",
    "%autoreload 2\n",
    "\n",
    "# define modules locations (you might have to adapt define_mod_locs.py)\n",
    "%run ../swiss_utils/define_mod_locs.py\n",
    "\n",
    "import os\n",
    "import glob\n",
    "\n",
    "import numpy as np\n",
    "import xarray as xr\n",
    "import matplotlib.pyplot as plt\n",
    "import ipywidgets as widgets\n",
    "import richdem as rd\n",
    "\n",
    "from datetime import datetime, timedelta\n",
    "from shapely.geometry import Polygon\n",
    "from math import radians, cos, sin, asin, sqrt\n",
    "from IPython.display import display, HTML\n",
    "from scipy.stats import linregress\n",
    "\n",
    "from swiss_utils.data_cube_utilities.sdc_utilities import new_get_query_metadata\n",
    "from swiss_utils.data_cube_utilities.sdc_advutils import draw_map, oneband_fig, natural_sort, make_contact_sheet\n",
    "\n",
    "import datacube\n",
    "dc = datacube.Datacube()"
   ]
  },
  {
   "cell_type": "code",
   "execution_count": null,
   "metadata": {},
   "outputs": [],
   "source": [
    "# Functions\n",
    "\n",
    "def haversine(lon1, lat1, lon2, lat2):\n",
    "    \"\"\"\n",
    "    Calculate the great circle distance in kilometers between two points \n",
    "    on the earth (specified in decimal degrees)\n",
    "    \"\"\"\n",
    "    # convert decimal degrees to radians \n",
    "    lon1, lat1, lon2, lat2 = map(radians, [lon1, lat1, lon2, lat2])\n",
    "\n",
    "    # haversine formula \n",
    "    dlon = lon2 - lon1 \n",
    "    dlat = lat2 - lat1 \n",
    "    a = sin(dlat/2)**2 + cos(lat1) * cos(lat2) * sin(dlon/2)**2\n",
    "    c = 2 * asin(sqrt(a)) \n",
    "    r = 6371 # Radius of earth in kilometers. Use 3956 for miles. Determines return value units.\n",
    "    return c * r"
   ]
  },
  {
   "cell_type": "code",
   "execution_count": null,
   "metadata": {},
   "outputs": [],
   "source": [
    "# First select a mountainous  AOI on Swiss border with France and Italy\n",
    "# (to see the differences between the two DEM products and have nice visuals)\n",
    "\n",
    "min_lon = 6.970808\n",
    "max_lon = 7.119154\n",
    "min_lat = 45.881054\n",
    "max_lat = 45.967029\n",
    "\n",
    "m, poly = draw_map((min_lat, max_lat), (min_lon, max_lon))\n",
    "m"
   ]
  },
  {
   "cell_type": "code",
   "execution_count": null,
   "metadata": {},
   "outputs": [],
   "source": [
    "# If you want, you can draw a different AOI by using the buttons on the above map and then run this cell\n",
    "\n",
    "try:\n",
    "    coords = poly.last_draw['geometry']['coordinates']\n",
    "    geo_extent = Polygon(coords[0]).bounds\n",
    "\n",
    "    min_lon = geo_extent[0]\n",
    "    min_lat = geo_extent[1]\n",
    "    max_lon = geo_extent[2]\n",
    "    max_lat = geo_extent[3]\n",
    "except:\n",
    "    pass"
   ]
  },
  {
   "cell_type": "markdown",
   "metadata": {},
   "source": [
    "## ASTER GDEM V3<a name=\"ds_aster\"></a>\n",
    "[<div style=\"text-align: right; font-size: 24px\"> &#x1F51D; </div>](#top)"
   ]
  },
  {
   "cell_type": "code",
   "execution_count": null,
   "metadata": {},
   "outputs": [],
   "source": [
    "# Identify product\n",
    "\n",
    "product = 'astgtmv003_scene'"
   ]
  },
  {
   "cell_type": "code",
   "execution_count": null,
   "metadata": {},
   "outputs": [],
   "source": [
    "# Visualize measurements available and use them all\n",
    "\n",
    "measurement_list = dc.list_measurements(with_pandas=False)\n",
    "measurements_for_product = filter(lambda x: x['product'] == product, measurement_list)\n",
    "valid_measurements_name_array = set(map(lambda x: x['name'], measurements_for_product))\n",
    "measurements = list(valid_measurements_name_array)\n",
    "\n",
    "print(measurements)\n",
    "print(\"\"\"\n",
    "elevation: elevation in meter\\n\\\n",
    "slope: slope in degree\\n\\\n",
    "aspect: orientation in degree (North == 0°)\"\"\")"
   ]
  },
  {
   "cell_type": "code",
   "execution_count": null,
   "metadata": {},
   "outputs": [],
   "source": [
    "# Note on product CRS and resolution\n",
    "\n",
    "products = dc.list_products()\n",
    "crs = products[products['name'] == product].default_crs.values[0].crs_str\n",
    "res_aster = products[products['name'] == product].default_resolution.values[0][1]\n",
    "\n",
    "mtd = new_get_query_metadata(dc, product)\n",
    "res_aster_m = haversine(np.mean(mtd['lat_extents']),\n",
    "                  np.mean(mtd['lon_extents']) - (res_aster / 2),\n",
    "                  np.mean(mtd['lat_extents']),\n",
    "                  np.mean(mtd['lon_extents']) + (res_aster / 2)) * 1000\n",
    "\n",
    "display(HTML(f\"\"\"As you can see <a href=\"https://epsg.io/{crs.split(':')[1]}\" target=\"_blank\" >here</a> \\\n",
    "             the CRS units are in degree meaning the resolution of this product is {res_aster} degree, \\\n",
    "             corresponding to around {int(res_aster_m)} meter.\"\"\"))"
   ]
  },
  {
   "cell_type": "code",
   "execution_count": null,
   "metadata": {},
   "outputs": [],
   "source": [
    "# Note on time\n",
    "# As all products based on a \"one time\" dataset, the 'time = [start_date, end_date]' parameter is not\n",
    "# required in dc.load function. But you can use this parameter as long as it includes the product date range.\n",
    "\n",
    "min_max_dates = mtd['time_extents']\n",
    "\n",
    "print(min_max_dates)"
   ]
  },
  {
   "cell_type": "code",
   "execution_count": null,
   "metadata": {},
   "outputs": [],
   "source": [
    "# Load the product into an xarray.Dataset\n",
    "\n",
    "ds_aster = dc.load(product = product,\n",
    "                   time = [min_max_dates[0],                      # start_date is inclusive (<=)\n",
    "                           min_max_dates[1] + timedelta(days=1)], # end_date is not inclusive (<)\n",
    "                   lon = (min_lon, max_lon), lat = (min_lat, max_lat),\n",
    "                   measurements = measurements)\n",
    "# remove nodata\n",
    "ds_aster = ds_aster.where(ds_aster != ds_aster[list(ds_aster.data_vars)[0]].nodata)\n",
    "if len(set(ds_aster.dims).intersection(['x', 'y'])) >= 1:\n",
    "    ds_aster = ds_aster.rename({'x': 'longitude', 'y': 'latitude'})\n",
    "\n",
    "print(ds_aster)"
   ]
  },
  {
   "cell_type": "code",
   "execution_count": null,
   "metadata": {},
   "outputs": [],
   "source": [
    "# Display dataset\n",
    "\n",
    "tmp_prfx = 'tmp_fig_'\n",
    "\n",
    "for filename in glob.glob(f\"{tmp_prfx}*.png\"):\n",
    "    os.remove(filename) \n",
    "\n",
    "for m in ds_aster.data_vars:\n",
    "    oneband_fig(ds_aster.isel(time=0)[m],\n",
    "            leg = 'gist_rainbow',\n",
    "            title = m,\n",
    "            fig_name = f\"{tmp_prfx}{m}.png\",\n",
    "            max_size = 7)\n",
    "    \n",
    "make_contact_sheet(natural_sort(glob.glob(f\"{tmp_prfx}*.png\")), ncols = 2, photow = 700,\n",
    "                   title = product, size = 24)"
   ]
  },
  {
   "cell_type": "markdown",
   "metadata": {},
   "source": [
    "## swissALTI3D<a name=\"ds_swiss\"></a>\n",
    "[<div style=\"text-align: right; font-size: 24px\"> &#x1F51D; </div>](#top)"
   ]
  },
  {
   "cell_type": "code",
   "execution_count": null,
   "metadata": {},
   "outputs": [],
   "source": [
    "# Identify product\n",
    "\n",
    "product = 'swissalti3d_scene'"
   ]
  },
  {
   "cell_type": "code",
   "execution_count": null,
   "metadata": {},
   "outputs": [],
   "source": [
    "# Visualize measurements available and use them all\n",
    "\n",
    "measurement_list = dc.list_measurements(with_pandas=False)\n",
    "measurements_for_product = filter(lambda x: x['product'] == product, measurement_list)\n",
    "valid_measurements_name_array = set(map(lambda x: x['name'], measurements_for_product))\n",
    "measurements = list(valid_measurements_name_array)\n",
    "\n",
    "print(measurements)\n",
    "print(\"\"\"\n",
    "elevation: elevation in meter\\n\\\n",
    "slope: slope in degree\\n\\\n",
    "aspect: orientation in degree (North == 0°)\"\"\")"
   ]
  },
  {
   "cell_type": "code",
   "execution_count": null,
   "metadata": {},
   "outputs": [],
   "source": [
    "# Note on product CRS and resolution\n",
    "\n",
    "products = dc.list_products()\n",
    "crs = str(products[products['name'] == product].default_crs.values[0])\n",
    "res_swiss = products[products['name'] == product].default_resolution.values[0][1]\n",
    "\n",
    "display(HTML(f\"\"\"As you can see <a href=\"https://epsg.io/{crs.split(':')[1]}\" target=\"_blank\" >here</a> \\\n",
    "             the CRS units are in metre meaning the resolution of this product is {res_swiss} metre. \\\n",
    "             Meaning it will quickly use a lot of memory and time to load. \\\n",
    "             <br>This is the reason why we are using a small AOI.\"\"\"))"
   ]
  },
  {
   "cell_type": "code",
   "execution_count": null,
   "metadata": {},
   "outputs": [],
   "source": [
    "# Load the product into an xarray.Dataset, this time without using the time parameter\n",
    "\n",
    "ds_swiss = dc.load(product = product,\n",
    "                   lon = (min_lon, max_lon), lat = (min_lat, max_lat),\n",
    "                   measurements = measurements)\n",
    "# remove nodata\n",
    "ds_swiss = ds_swiss.where(ds_swiss != ds_swiss[list(ds_swiss.data_vars)[0]].nodata)\n",
    "if len(set(ds_swiss.dims).intersection(['x', 'y'])) >= 1:\n",
    "    ds_swiss = ds_swiss.rename({'x': 'longitude', 'y': 'latitude'})\n",
    "\n",
    "print(ds_swiss)\n",
    "\n",
    "# This time remove the single time dimension\n",
    "ds_swiss = ds_swiss.isel(time=0)"
   ]
  },
  {
   "cell_type": "code",
   "execution_count": null,
   "metadata": {},
   "outputs": [],
   "source": [
    "# Display dataset\n",
    "\n",
    "tmp_prfx = 'tmp_fig_'\n",
    "\n",
    "for filename in glob.glob(f\"{tmp_prfx}*.png\"):\n",
    "    os.remove(filename) \n",
    "\n",
    "for m in ds_swiss.data_vars:\n",
    "    oneband_fig(ds_swiss[m],\n",
    "            leg = 'gist_rainbow',\n",
    "            title = m,\n",
    "            fig_name = f\"{tmp_prfx}{m}.png\",\n",
    "            max_size = 7)\n",
    "    \n",
    "make_contact_sheet(natural_sort(glob.glob(f\"{tmp_prfx}*.png\")), ncols = 2, photow = 700,\n",
    "                   title = product, size = 24)"
   ]
  },
  {
   "cell_type": "markdown",
   "metadata": {},
   "source": [
    "## Reprojecting and resampling<a name=\"rere\"></a>\n",
    "\n",
    "Let's imagine we need to compare or combine the swissALTI3d product with the ASTER GDEM product by reprojecting and resampling the first one.\n",
    "\n",
    "As presented in [demo_FUN_dcload.pynb](demo_FUN_dcload.ipynb) there are several way to change the initial projection and resolution of a given product, but in any GIR/RS context reprojection need to be handled carefully. Here follow some possible attemps from worse to best.\n",
    "\n",
    "### 1. Directly load using the like option\n",
    "[<div style=\"text-align: right; font-size: 24px\"> &#x1F51D; </div>](#top)"
   ]
  },
  {
   "cell_type": "code",
   "execution_count": null,
   "metadata": {},
   "outputs": [],
   "source": [
    "# Load the product into an xarray.Dataset, this time without using the time parameter\n",
    "\n",
    "ds_like = dc.load(product = product,\n",
    "#                   resampling = 'med',\n",
    "                  like = ds_aster)\n",
    "# remove nodata\n",
    "ds_like = ds_like.where(ds_like != ds_like[list(ds_like.data_vars)[0]].nodata)\n",
    "if len(set(ds_like.dims).intersection(['x', 'y'])) >= 1:\n",
    "    ds_like = ds_like.rename({'x': 'longitude', 'y': 'latitude'})\n",
    "\n",
    "print(ds_like)\n",
    "\n",
    "# remove the single time dimension\n",
    "ds_like = ds_like.isel(time=0)"
   ]
  },
  {
   "cell_type": "code",
   "execution_count": null,
   "metadata": {},
   "outputs": [],
   "source": [
    "# Display dataset\n",
    "\n",
    "tmp_prfx = 'tmp_fig_'\n",
    "\n",
    "for filename in glob.glob(f\"{tmp_prfx}*.png\"):\n",
    "    os.remove(filename) \n",
    "\n",
    "for m in ds_like.data_vars:\n",
    "    oneband_fig(ds_like[m],\n",
    "            leg = 'gist_rainbow',\n",
    "            title = m,\n",
    "            fig_name = f\"{tmp_prfx}{m}.png\",\n",
    "            max_size = 7)\n",
    "    \n",
    "make_contact_sheet(natural_sort(glob.glob(f\"{tmp_prfx}*.png\")), ncols = 2, photow = 700,\n",
    "                   title = product, size = 24)"
   ]
  },
  {
   "cell_type": "markdown",
   "metadata": {},
   "source": [
    "If you compare the contact sheet you just created with the ASTER GDEM v3 contact sheet above (you can add a `fig_name` parameter in each `make_contact_sheet` and re-run the two related cells to save a figure for easier comparison) you will see the `ds_like`one is less smooth. You can look at the scatter plot of each variable of both dataset using the two cells below."
   ]
  },
  {
   "cell_type": "code",
   "execution_count": null,
   "metadata": {},
   "outputs": [],
   "source": [
    "# Select one variable and run the next cell to visualize how they respectivelly correlate\n",
    "\n",
    "var_sel = widgets.RadioButtons(options=list(ds_aster.data_vars), disabled=False)\n",
    "display(widgets.Label('Select a product and run the next cell: '), var_sel)"
   ]
  },
  {
   "cell_type": "code",
   "execution_count": null,
   "metadata": {},
   "outputs": [],
   "source": [
    "varx = ds_aster[var_sel.value].values.flatten()\n",
    "vary = ds_like[var_sel.value].values.flatten()\n",
    "mask = ~np.isnan(varx) & ~np.isnan(vary)\n",
    "slope, intercept, r_value, p_value, std_err = linregress(varx[mask], vary[mask])\n",
    "print(f\"{var_sel.value}:\\nslope = {slope}\\nintercept = {intercept}\\nr_value = {r_value}\")\n",
    "\n",
    "plt.scatter(varx, vary)\n",
    "plt.show()"
   ]
  },
  {
   "cell_type": "markdown",
   "metadata": {},
   "source": [
    "You probably notice elevation is quite well correlated (r_value should be 0.999 if you did not modified the demo AOI), but it gets worse with slope (0.668) and really bad with aspect (0.593).\n",
    "This is due to the fact the default resampling method used by dc.load is 'nearest'. Meaning the value of the 30 m resampled pixel will correspond to the value of the original 2 m pixel at its center !\n",
    "\n",
    "Create and run a cell with `dc.load?` to access the documentation of `dc.load`function, and have a look at it. Then move back at [the beginning of this chapter](#rere), uncomment the `resampling = 'med',` parameter in dc.load function, then go through the cells. This time you should get a smoother result with slighly better correlations (r_value for elevation still at 0.999, slope at 0.734 and aspect at 0.690) as resampled 30 m values will correspond to the median value of all overlaping 2 m values.\n",
    "\n",
    "But correlations of slope and aspect are still very weak. Then we need more complex processing."
   ]
  },
  {
   "cell_type": "markdown",
   "metadata": {},
   "source": [
    "### 2. Computing slope and aspect from elevation\n",
    "As the units of elevation value is meter, we need to stay in meter for latitude and longitude to calculate slope. Then the most logical way would be to resample and compute in the original CRS (in meter) and then reproject in the `ds_aster` CRS (in decimal degree). Which would be fine if we would not need to perfectly overlay the two DEM dataset (then requiring the exact same resolution and AOI) for comparison.\n",
    "\n",
    "Then an inverse approach will be more easy to implement by first reprojecting and resampling the original elevation, and then compute slope and aspect using richdem package (https://richdem.readthedocs.io/en/latest/python_api.html#richdem.TerrainAttribute) appying a conversion factor `zscale` based on the center of the AOI (as we prviously did to convert the ASTED GDEM v3 resolution from dd to m at the beginning of this notebook). Keeping in mind such approach is only valid in a small AOI.\n",
    "[<div style=\"text-align: right; font-size: 24px\"> &#x1F51D; </div>](#top)"
   ]
  },
  {
   "cell_type": "code",
   "execution_count": null,
   "metadata": {},
   "outputs": [],
   "source": [
    "# Load the product into an xarray.Dataset, this time loading elevation only with a median resampling\n",
    "\n",
    "ds_like = dc.load(product = product,\n",
    "                  measurements = ['elevation'],\n",
    "                  resampling = 'med',\n",
    "                  like = ds_aster)\n",
    "# remove nodata\n",
    "ds_like = ds_like.where(ds_like != ds_like[list(ds_like.data_vars)[0]].nodata)\n",
    "if len(set(ds_like.dims).intersection(['x', 'y'])) >= 1:\n",
    "    ds_like = ds_like.rename({'x': 'longitude', 'y': 'latitude'})\n",
    "\n",
    "print(ds_like)\n",
    "\n",
    "# remove the single time dimension\n",
    "ds_like = ds_like.isel(time=0)"
   ]
  },
  {
   "cell_type": "code",
   "execution_count": null,
   "metadata": {},
   "outputs": [],
   "source": [
    "# Then compute slope and aspect\n",
    "\n",
    "rd_tmp = xr.DataArray(rd.TerrainAttribute(rd.rdarray(ds_like.elevation, no_data = -9999),\n",
    "                                          attrib='slope_degrees',\n",
    "                                          zscale = res_aster * res_aster_m),\n",
    "                      coords={'latitude': ds_like.latitude.values,\n",
    "                              'longitude': ds_like.longitude.values},\n",
    "                      dims=('latitude', 'longitude'))\n",
    "ds_like = ds_like.merge(rd_tmp.to_dataset(name = 'slope'))\n",
    "\n",
    "rd_tmp = xr.DataArray(rd.TerrainAttribute(rd.rdarray(ds_like.elevation, no_data = -9999),\n",
    "                                          attrib='aspect',\n",
    "                                          zscale = res_aster * res_aster_m),\n",
    "                      coords={'latitude': ds_like.latitude.values,\n",
    "                              'longitude': ds_like.longitude.values},\n",
    "                      dims=('latitude', 'longitude'))\n",
    "ds_like = ds_like.merge(rd_tmp.to_dataset(name = 'aspect'))\n"
   ]
  },
  {
   "cell_type": "code",
   "execution_count": null,
   "metadata": {},
   "outputs": [],
   "source": [
    "# Display dataset\n",
    "\n",
    "tmp_prfx = 'tmp_fig_'\n",
    "\n",
    "for filename in glob.glob(f\"{tmp_prfx}*.png\"):\n",
    "    os.remove(filename) \n",
    "\n",
    "for i, m in enumerate(ds_like.data_vars):\n",
    "    oneband_fig(ds_like[m],\n",
    "            leg = 'gist_rainbow',\n",
    "            title = m,\n",
    "            fig_name = f\"{tmp_prfx}{i}.png\",\n",
    "            max_size = 7)\n",
    "    \n",
    "make_contact_sheet(natural_sort(glob.glob(f\"{tmp_prfx}*.png\")), ncols = 2, photow = 700,\n",
    "                   title = product)"
   ]
  },
  {
   "cell_type": "code",
   "execution_count": null,
   "metadata": {},
   "outputs": [],
   "source": [
    "# Select one variable and run the next cell to visualize how they respectivelly correlate\n",
    "\n",
    "var_sel = widgets.RadioButtons(options=list(ds_aster.data_vars), disabled=False)\n",
    "display(widgets.Label('Select a product and run the next cell: '), var_sel)"
   ]
  },
  {
   "cell_type": "code",
   "execution_count": null,
   "metadata": {},
   "outputs": [],
   "source": [
    "varx = ds_aster[var_sel.value].values.flatten()\n",
    "vary = ds_like[var_sel.value].values.flatten()\n",
    "mask = ~np.isnan(varx) & ~np.isnan(vary)\n",
    "slope, intercept, r_value, p_value, std_err = linregress(varx[mask], vary[mask])\n",
    "print(f\"{var_sel.value}:\\nslope = {slope}\\nintercept = {intercept}\\nr_value = {r_value}\")\n",
    "\n",
    "plt.scatter(varx, vary)\n",
    "plt.show()\n"
   ]
  },
  {
   "cell_type": "markdown",
   "metadata": {},
   "source": [
    "As you can see correlations are a bit better still approximative for slope and aspect, which is normal as we are smoothing the elevation layer by applying the median method.\n",
    "\n",
    "Moreover you can see we created string artefacts in the computed slope layer."
   ]
  },
  {
   "cell_type": "code",
   "execution_count": null,
   "metadata": {},
   "outputs": [],
   "source": []
  },
  {
   "cell_type": "code",
   "execution_count": null,
   "metadata": {},
   "outputs": [],
   "source": []
  },
  {
   "cell_type": "code",
   "execution_count": null,
   "metadata": {},
   "outputs": [],
   "source": []
  },
  {
   "cell_type": "code",
   "execution_count": null,
   "metadata": {},
   "outputs": [],
   "source": []
  },
  {
   "cell_type": "code",
   "execution_count": null,
   "metadata": {},
   "outputs": [],
   "source": []
  },
  {
   "cell_type": "code",
   "execution_count": null,
   "metadata": {},
   "outputs": [],
   "source": []
  }
 ],
 "metadata": {
  "kernelspec": {
   "display_name": "Python (Open Data Cube Development)",
   "language": "python",
   "name": "odc-dev"
  },
  "language_info": {
   "codemirror_mode": {
    "name": "ipython",
    "version": 3
   },
   "file_extension": ".py",
   "mimetype": "text/x-python",
   "name": "python",
   "nbconvert_exporter": "python",
   "pygments_lexer": "ipython3",
   "version": "3.9.12"
  }
 },
 "nbformat": 4,
 "nbformat_minor": 4
}
