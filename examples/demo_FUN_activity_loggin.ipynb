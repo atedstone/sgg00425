{
 "cells": [
  {
   "cell_type": "markdown",
   "metadata": {},
   "source": [
    "# Demo of function activity_logger from*./swiss_utils/data_cube_utilities/sdc_monit.py*\n",
    "\n",
    "*****\n",
    "\n",
    "__This script is the \"official demo\" of a function. Please if you want to modify it, work on your own copy__\n",
    "\n",
    "In order to monitor activity and better tweek parallelization parameters, the *activity_logger* function log RAM, Swap and CPU activity at a given interval. As the cell will run until the user interrupt the kernel, this function need to be run from a **dedicated notebook**.\n",
    "\n",
    "__activity_logger__:\n",
    "- **log_name**: (OPTIONAL) name of log file to create (_activity.log_ by default)\n",
    "- **interval_s**: (OPTIONAL) loggin interval in seconds (10 seconds per default)\n",
    "\n",
    "You might have to install psutil module: `!pip install psutil`\n",
    "\n",
    "Documentation for a given function can be accessed simply by adding ? at the end of the function in a cell. e.g. `activity_logger?` or by selecting the function and pressing `Shift-Tab`.\n",
    "\n",
    "In this demo Jupyter script, the user can either use the in-script function (below) or import it from *./swiss_utils/data_cube_utilities/sdc_monit.py*."
   ]
  },
  {
   "cell_type": "code",
   "execution_count": null,
   "metadata": {},
   "outputs": [],
   "source": [
    "# Make sure the script is using the proper kernel\n",
    "try:\n",
    "    %run ../swiss_utils/assert_env.py\n",
    "except:\n",
    "    %run ./swiss_utils/assert_env.py"
   ]
  },
  {
   "cell_type": "code",
   "execution_count": null,
   "metadata": {},
   "outputs": [],
   "source": [
    "# Import modules\n",
    "\n",
    "# reload module before executing code\n",
    "%load_ext autoreload\n",
    "%autoreload 2\n",
    "\n",
    "# define modules locations (you might have to adapt define_mod_locs.py)\n",
    "%run ../swiss_utils/define_mod_locs.py\n",
    "\n",
    "# AND THE FUNCTION\n",
    "from swiss_utils.data_cube_utilities.sdc_monit import activity_logger"
   ]
  },
  {
   "cell_type": "raw",
   "metadata": {},
   "source": [
    "# In-script function\n",
    "# DO NOT RUN THIS CELL IF YOU WANT TO USE THE IMPORTED FUNCTION (LAST LINE OF CELL ABOVE)\n",
    "# To make sure to not run inadvertently this cell convert it to Raw\n",
    "\n",
    "import time\n",
    "import datetime\n",
    "import psutil\n",
    "\n",
    "def activity_logger(log_name = 'activity.log', interval_s = 10):\n",
    "    \"\"\"\n",
    "    Description:\n",
    "      Loggin RAM, Swap and CPU activity at a given interval until kernel is interrupted\n",
    "    -----\n",
    "    Input:\n",
    "      log_name: (OPTIONAL) name of log file to create  (activity.log by default)\n",
    "      interval_s: (OPTIONAL) loggin interval in seconds (10 seconds per default)\n",
    "    Output:\n",
    "      log file\n",
    "    \"\"\"\n",
    "\n",
    "    f = open(log_name,'w')\n",
    "    f.write('date,hour,ram_used_Mb,swap_used_Mb,cpu_pc\\n')\n",
    "\n",
    "    print('Logging activity until kernel is interrupted')\n",
    "    try:\n",
    "        while True:\n",
    "            currentDT = datetime.datetime.now()\n",
    "            ram_used = (psutil.virtual_memory().total - psutil.virtual_memory().available)\n",
    "            swap_used = psutil.swap_memory().used\n",
    "            cpu_pc = psutil.cpu_percent()\n",
    "            f.write('%s,%s,%s,%s\\n' %\n",
    "                    (currentDT.strftime(\"%d/%m/%Y,%H:%M:%S\"),\n",
    "                     int(ram_used / 1024 / 1024),\n",
    "                     int(swap_used / 1024 / 1024),\n",
    "                     round(cpu_pc, 1)))\n",
    "            time.sleep(interval_s)\n",
    "    except KeyboardInterrupt:\n",
    "        pass\n",
    "\n",
    "    f.close()\n",
    "\n",
    "    return 0"
   ]
  },
  {
   "cell_type": "code",
   "execution_count": null,
   "metadata": {},
   "outputs": [],
   "source": [
    "# Loggin of RAM, Swap and CPU activity at a given interval\n",
    "# UNTIL USER INTERRUPT THE KERNEL\n",
    "\n",
    "activity_logger()\n",
    "print('Log file is now available in this script folder')"
   ]
  },
  {
   "cell_type": "code",
   "execution_count": null,
   "metadata": {},
   "outputs": [],
   "source": [
    "# giving a name and a defined interval\n",
    "\n",
    "activity_logger(log_name = 'mylog_at_5s_interval.log', interval_s = 5)\n",
    "print('Log file is now available in this script folder')"
   ]
  },
  {
   "cell_type": "code",
   "execution_count": null,
   "metadata": {},
   "outputs": [],
   "source": []
  }
 ],
 "metadata": {
  "kernelspec": {
   "display_name": "Python (Open Data Cube Development)",
   "language": "python",
   "name": "odc-dev"
  },
  "language_info": {
   "codemirror_mode": {
    "name": "ipython",
    "version": 3
   },
   "file_extension": ".py",
   "mimetype": "text/x-python",
   "name": "python",
   "nbconvert_exporter": "python",
   "pygments_lexer": "ipython3",
   "version": "3.9.12"
  }
 },
 "nbformat": 4,
 "nbformat_minor": 4
}
