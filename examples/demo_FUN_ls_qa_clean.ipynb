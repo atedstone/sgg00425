{
 "cells": [
  {
   "cell_type": "markdown",
   "metadata": {},
   "source": [
    "# Demo of functions ls\\_qa\\_clean from*./swiss_utils/data_cube_utilities/sdc_utilities.py*\n",
    "\n",
    "*****\n",
    "\n",
    "__This script is the \"official demo\" of a function. Please if you want to modify it, work on your own copy__\n",
    "\n",
    "The `ls_qa_clean` function creates a clean mask of a Landsat Collection 1 dataset using pixel_qa band and a list of valid bits.\n",
    "\n",
    "* dc_qa: pixel_qa band of a Landast Collection 1 xarray.DataArray\n",
    "* valid_bits: array of ints representing which bit should be considered as valid (default: clear, water, snow).\n",
    "      \n",
    "      * category selected by default\n",
    "      #############################################\n",
    "      # BITS : CATEGORIES                         #\n",
    "      #    0 : Fill                               #\n",
    "      #    1 * Clear                              #\n",
    "      #    2 * Water                              #\n",
    "      #    3 : Cloud shadow                       #\n",
    "      #    4 * Snow                               #\n",
    "      #    5 : Cloud                              #\n",
    "      #   10 : Terrain occlusion (Landsat 8 only) #\n",
    "      #############################################\n",
    "\n",
    "This is the Landsat Collection 1 masking function implemented in `load_multi_clean`function [demo_FUN_load_multi_clean](demo_FUN_load_multi_clean.ipynb)\n",
    "\n",
    "Documentation for a given function can be accessed simply by adding ? at the end of the function in a cell. e.g. `ls_qa_clean?` or by selecting the function and pressing `Shift-Tab`.\n",
    "\n",
    "In this demo Jupyter script, the user can either use the in-script function (below) or import it from ./swiss_utils/data_cube_utilities/sdc_utilities.py."
   ]
  },
  {
   "cell_type": "code",
   "execution_count": null,
   "metadata": {},
   "outputs": [],
   "source": [
    "# Make sure the script is using the proper kernel\n",
    "try:\n",
    "    %run ../swiss_utils/assert_env.py\n",
    "except:\n",
    "    %run ./swiss_utils/assert_env.py"
   ]
  },
  {
   "cell_type": "code",
   "execution_count": null,
   "metadata": {},
   "outputs": [],
   "source": [
    "# Import modules\n",
    "\n",
    "# reload module before executing code\n",
    "%load_ext autoreload\n",
    "%autoreload 2\n",
    "\n",
    "# define modules locations (you might have to adapt define_mod_locs.py)\n",
    "%run ../swiss_utils/define_mod_locs.py\n",
    "\n",
    "# to plot figures\n",
    "%matplotlib inline\n",
    "\n",
    "from datetime import datetime\n",
    "\n",
    "import datacube\n",
    "dc = datacube.Datacube()\n",
    "\n",
    "# AND THE FUNCTION\n",
    "from swiss_utils.data_cube_utilities.sdc_utilities import ls_qa_clean"
   ]
  },
  {
   "cell_type": "raw",
   "metadata": {},
   "source": [
    "import numpy as np\n",
    "import xarray as xr\n",
    "\n",
    "# Return unique values and count\n",
    "def unik_count(vals):\n",
    "    bc = vals.flatten()\n",
    "    bc = np.bincount(bc)\n",
    "    unik = np.nonzero(bc)[0]\n",
    "    cnt = bc[unik] * 100\n",
    "    return (unik, cnt)\n",
    "\n",
    "# Return bit length\n",
    "def bit_length(int_type):\n",
    "    length = 0\n",
    "    while (int_type):\n",
    "        int_type >>= 1\n",
    "        length += 1\n",
    "    return(length)\n",
    "\n",
    "def ls_qa_clean(dc_qa, valid_bits = [1, 2, 4]):\n",
    "    \"\"\"\n",
    "    Description:\n",
    "      create a clean mask of a Landsat Collection 1 dataset using pixel_qa band and a list of valid bits\n",
    "    Args:\n",
    "      dc_qa: pixel_qa band of a Landast Collection 1 xarray.DataArray\n",
    "      valid_bits: array of ints representing which bit should be considered as valid (default: clear, water, snow)\n",
    "      * category selected by default\n",
    "      #############################################\n",
    "      # BITS : CATEGORIES                         #\n",
    "      #    0 : Fill                               #\n",
    "      #    1 * Clear                              #\n",
    "      #    2 * Water                              #\n",
    "      #    3 : Cloud shadow                       #\n",
    "      #    4 * Snow                               #\n",
    "      #    5 : Cloud                              #\n",
    "      #   10 : Terrain occlusion (Landsat 8 only) #\n",
    "      #############################################\n",
    "    Output:\n",
    "      clean_mask (boolean numpy array)\n",
    "    \"\"\"\n",
    "\n",
    "    # Check submitted input\n",
    "    if str(type(dc_qa)) != \"<class 'xarray.core.dataarray.DataArray'>\":\n",
    "        sys.exit(\"SCRIPT INTERRUPTED: dc_qa should be an xarray.DataArray\")\n",
    "    if dc_qa.name != \"pixel_qa\":\n",
    "        sys.exit(\"SCRIPT INTERRUPTED: dc_qa name  should be pixel_qa\")\n",
    "\n",
    "    # List and count all dc_qa unique values\n",
    "    dc_qas, dc_cnt = unik_count(dc_qa.values)\n",
    "    # Return bit encoding\n",
    "    bit_len = bit_length(max(dc_qas))\n",
    "\n",
    "    # First keep only low confidence cloud (and cirrus)\n",
    "    ok_qas = []\n",
    "    ko_qas = []\n",
    "\n",
    "    if bit_len == 8: # Landsat 5 and 7\n",
    "        for v in sorted(dc_qas):\n",
    "            b = str(bin(v))[2:].zfill(bit_len)[::-1]\n",
    "            if b[6] == '1' and b[7] == '0':\n",
    "                ok_qas.append(v)\n",
    "            else:\n",
    "                ko_qas.append(v)\n",
    "\n",
    "    if bit_len >= 10: # Landsat 8 (>= as sometimes pixel_qa become 11 bit !!!)\n",
    "        for v in sorted(dc_qas):\n",
    "            b = str(bin(v))[2:].zfill(bit_len)[::-1]\n",
    "            if b[6] == '1' and b[7] == '0' and b[8] == '1' and b[9] == '0':\n",
    "                ok_qas.append(v)\n",
    "            else:\n",
    "                ko_qas.append(v)\n",
    "\n",
    "    # Second keep only valid_bits\n",
    "    data_qas = []\n",
    "    nodata_qas = []\n",
    "    for v in sorted(ok_qas):\n",
    "        b = str(bin(v))[2:].zfill(bit_len)[::-1]\n",
    "        for c in valid_bits:\n",
    "            if b[c] == '1':\n",
    "                data_qas.append(v)\n",
    "                break\n",
    "\n",
    "    return xr.apply_ufunc(np.isin, dc_qa, data_qas, dask = 'allowed').values"
   ]
  },
  {
   "cell_type": "markdown",
   "metadata": {},
   "source": [
    "The next cell contains the dataset configuration information:\n",
    "- product (**for this demo LANDSAT data are required**)\n",
    "- geographical extent\n",
    "- time period\n",
    "- bands\n",
    "\n",
    "You can generate it in three ways:\n",
    "1. manually from scratch,\n",
    "2. by manually copy/pasting the final cell content of the [config_tool](config_tool.ipynb) notebook,\n",
    "3. by loading the final cell content of the [config_tool](config_tool.ipynb) notebook using the magic `# %load config_cell.txt`."
   ]
  },
  {
   "cell_type": "code",
   "execution_count": null,
   "metadata": {},
   "outputs": [],
   "source": [
    "%load config_cell.txt"
   ]
  },
  {
   "cell_type": "code",
   "execution_count": null,
   "metadata": {},
   "outputs": [],
   "source": [
    "# Let's load and clean a demo dasatet\n",
    "\n",
    "dataset_in = dc.load(product = product,\n",
    "                     time = (start_date, end_date),\n",
    "                     lon = (min_lon, max_lon),\n",
    "                     lat = (min_lat, max_lat),\n",
    "                     measurements = measurements)"
   ]
  },
  {
   "cell_type": "code",
   "execution_count": null,
   "metadata": {},
   "outputs": [],
   "source": [
    "# Generate a mask and apply it on the demo dataset using default valid_cats\n",
    "\n",
    "clean_mask = ls_qa_clean(dataset_in.pixel_qa)\n",
    "dataset_clean = dataset_in.where(clean_mask)"
   ]
  },
  {
   "cell_type": "code",
   "execution_count": null,
   "metadata": {},
   "outputs": [],
   "source": [
    "# Let's plot blue band for all time\n",
    "\n",
    "dataset_clean.blue.plot(x='longitude', y='latitude', col='time', col_wrap=5)"
   ]
  },
  {
   "cell_type": "code",
   "execution_count": null,
   "metadata": {},
   "outputs": [],
   "source": []
  }
 ],
 "metadata": {
  "kernelspec": {
   "display_name": "Python (Open Data Cube)",
   "language": "python",
   "name": "odc"
  },
  "language_info": {
   "codemirror_mode": {
    "name": "ipython",
    "version": 3
   },
   "file_extension": ".py",
   "mimetype": "text/x-python",
   "name": "python",
   "nbconvert_exporter": "python",
   "pygments_lexer": "ipython3",
   "version": "3.9.12"
  }
 },
 "nbformat": 4,
 "nbformat_minor": 4
}
