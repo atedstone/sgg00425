{
 "cells": [
  {
   "cell_type": "markdown",
   "metadata": {},
   "source": [
    "# Demo of functions create\\_slc\\_clean\\_mask from*./swiss_utils/data_cube_utilities/sdc_utilities.py*\n",
    "\n",
    "*****\n",
    "\n",
    "__This script is the \"official demo\" of a function. Please if you want to modify it, work on your own copy__\n",
    "\n",
    "The `create_slc_clean_mask` function create a Sentinel 2 clean mask from a list of valid categories applied on slc band.\n",
    "\n",
    "* slc: xarray data array to extract clean categories from.\n",
    "* valid_cats: array of ints representing what category should be considered valid.\n",
    "      \n",
    "      * category selected by default\n",
    "      ###################################\n",
    "      # slc categories:                 #\n",
    "      #   0 - no data                   #\n",
    "      #   1 - saturated or defective    #\n",
    "      #   2 - dark area pixels          #\n",
    "      #   3 - cloud_shadows             #\n",
    "      #   4 * vegetation                #\n",
    "      #   5 * not vegetated             #\n",
    "      #   6 * water                     #\n",
    "      #   7 * unclassified              #\n",
    "      #   8 - cloud medium probability  #\n",
    "      #   9 - cloud high probability    #\n",
    "      #  10 - thin cirrus               #\n",
    "      #  11 * snow                      #\n",
    "      ###################################\n",
    "\n",
    "This is the Sentinel 2 masking function implemented in `load_multi_clean`function [demo_FUN_load_multi_clean](demo_FUN_load_multi_clean.ipynb).\n",
    "\n",
    "Documentation for a given function can be accessed simply by adding ? at the end of the function in a cell. e.g. `create_slc_clean_mask?` or by selecting the function and pressing `Shift-Tab`.\n",
    "\n",
    "In this demo Jupyter script, the user can either use the in-script function (below) or import it from ./swiss_utils/data_cube_utilities/sdc_utilities.py."
   ]
  },
  {
   "cell_type": "code",
   "execution_count": null,
   "metadata": {},
   "outputs": [],
   "source": [
    "# Make sure the script is using the proper kernel\n",
    "try:\n",
    "    %run ../swiss_utils/assert_env.py\n",
    "except:\n",
    "    %run ./swiss_utils/assert_env.py"
   ]
  },
  {
   "cell_type": "code",
   "execution_count": null,
   "metadata": {},
   "outputs": [],
   "source": [
    "# Import modules\n",
    "\n",
    "# reload module before executing code\n",
    "%load_ext autoreload\n",
    "%autoreload 2\n",
    "\n",
    "# define modules locations (you might have to adapt define_mod_locs.py)\n",
    "%run ../swiss_utils/define_mod_locs.py\n",
    "\n",
    "# to plot figures\n",
    "%matplotlib inline\n",
    "\n",
    "from datetime import datetime\n",
    "\n",
    "import datacube\n",
    "dc = datacube.Datacube()\n",
    "\n",
    "# AND THE FUNCTION\n",
    "from swiss_utils.data_cube_utilities.sdc_utilities import create_slc_clean_mask"
   ]
  },
  {
   "cell_type": "raw",
   "metadata": {},
   "source": [
    "\n",
    "import numpy as np\n",
    "import xarray as xr\n",
    "\n",
    "def create_slc_clean_mask(slc, valid_cats = [4, 5, 6, 7, 11]):\n",
    "    \"\"\"\n",
    "    Description:\n",
    "      Create a Sentinel 2 clean mask from a list of valid categories applied on slc band\n",
    "    Input:\n",
    "      slc (xarray) - Sentinel 2 slc band\n",
    "    Args:\n",
    "      slc: xarray data array to extract clean categories from.\n",
    "      valid_cats: array of ints representing what category should be considered valid.\n",
    "      * category selected by default\n",
    "      ###################################\n",
    "      # slc categories:                 #\n",
    "      #   0 - no data                   #\n",
    "      #   1 - saturated or defective    #\n",
    "      #   2 - dark area pixels          #\n",
    "      #   3 - cloud_shadows             #\n",
    "      #   4 * vegetation                #\n",
    "      #   5 * not vegetated             #\n",
    "      #   6 * water                     #\n",
    "      #   7 * unclassified              #\n",
    "      #   8 - cloud medium probability  #\n",
    "      #   9 - cloud high probability    #\n",
    "      #  10 - thin cirrus               #\n",
    "      #  11 * snow                      #\n",
    "      ###################################\n",
    "    Output:\n",
    "      clean_mask (boolean numpy array)\n",
    "    \"\"\"\n",
    "\n",
    "    return xr.apply_ufunc(np.isin, slc, valid_cats).values"
   ]
  },
  {
   "cell_type": "markdown",
   "metadata": {},
   "source": [
    "The next cell contains the dataset configuration information:\n",
    "- product (**for this demo SENTINEL 2 data are required**)\n",
    "- geographical extent\n",
    "- time period\n",
    "- bands (**for this demo `['blue', 'slc']` are required**)\n",
    "\n",
    "You can generate it in three ways:\n",
    "1. manually from scratch,\n",
    "2. by manually copy/pasting the final cell content of the [config_tool](config_tool.ipynb) notebook,\n",
    "3. by loading the final cell content of the [config_tool](config_tool.ipynb) notebook using the magic `# %load config_cell.txt`."
   ]
  },
  {
   "cell_type": "code",
   "execution_count": null,
   "metadata": {},
   "outputs": [],
   "source": [
    "%load config_cell.txt"
   ]
  },
  {
   "cell_type": "code",
   "execution_count": null,
   "metadata": {},
   "outputs": [],
   "source": [
    "# Let's load and clean a demo dasatet\n",
    "\n",
    "dataset_in = dc.load(product = product,\n",
    "                     time = (start_date, end_date),\n",
    "                     lon = (min_lon, max_lon),\n",
    "                     lat = (min_lat, max_lat),\n",
    "                     measurements = measurements)"
   ]
  },
  {
   "cell_type": "code",
   "execution_count": null,
   "metadata": {},
   "outputs": [],
   "source": [
    "# Generate a mask and apply it on the demo dataset using default valid_cats\n",
    "\n",
    "clean_mask = create_slc_clean_mask(dataset_in.slc)\n",
    "dataset_clean = dataset_in.where(clean_mask)"
   ]
  },
  {
   "cell_type": "code",
   "execution_count": null,
   "metadata": {},
   "outputs": [],
   "source": [
    "# Let's plot blue band for all time\n",
    "\n",
    "dataset_clean.blue.plot(x='longitude', y='latitude', col='time', col_wrap=5)"
   ]
  },
  {
   "cell_type": "code",
   "execution_count": null,
   "metadata": {},
   "outputs": [],
   "source": []
  }
 ],
 "metadata": {
  "kernelspec": {
   "display_name": "Python (Open Data Cube Development)",
   "language": "python",
   "name": "odc-dev"
  },
  "language_info": {
   "codemirror_mode": {
    "name": "ipython",
    "version": 3
   },
   "file_extension": ".py",
   "mimetype": "text/x-python",
   "name": "python",
   "nbconvert_exporter": "python",
   "pygments_lexer": "ipython3",
   "version": "3.9.12"
  }
 },
 "nbformat": 4,
 "nbformat_minor": 4
}
