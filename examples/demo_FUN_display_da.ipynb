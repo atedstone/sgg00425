{
 "cells": [
  {
   "cell_type": "markdown",
   "metadata": {},
   "source": [
    "# Demo of function *display_da* from *./swiss_utils/data_cube_utilities/sdc_advutils.py*\n",
    "\n",
    "*****\n",
    "\n",
    "__This script is the \"official demo\" of a function. Please if you want to modify it, work on your own copy.__\n",
    "\n",
    "Display a colored xarray.DataArray on a map and allow the user to select a given coordinates to be used later. By creating a 64 bits encoded png (the only identified way to convert a numpy array into a png without blurring it (left picture)), keeping data at pixel level (right image).\n",
    "\n",
    "![](figures/pixelate_effect.png)\n",
    "\n",
    "The function takes two arguments:\n",
    "- **da**: xarray.DataArray to to be displayed\n",
    "- **cm**: matplotlib colormap\n",
    "\n",
    "Two objects will be created:\n",
    "- **m**: map to interact with\n",
    "- **dc**: draw control  to point a location (using the dedicated circlemarker button on the left of the map) to be used later on\n",
    "\n",
    "__Warning !__\n",
    "By default web browser will add blur to displayed images faster. Then we need to apply a dedicated css parameter to the present jupyter notebook by running a cell located at the beginning of the notebook and containing the following code:\n",
    "*****\n",
    "```html\n",
    "# css tweek to avoid browser blurry png (need to be run before function cell)\n",
    "# source: https://github.com/python-visualization/folium/blob/master/folium/raster_layers.py\n",
    "from IPython.core.display import HTML\n",
    "HTML(\"\"\"\n",
    "<style>\n",
    "    .leaflet-image-layer {\n",
    "        /* old android/safari*/\n",
    "        image-rendering: -webkit-optimize-contrast;\n",
    "        image-rendering: crisp-edges; /* safari */\n",
    "        image-rendering: pixelated; /* chrome */\n",
    "        image-rendering: -moz-crisp-edges; /* firefox */\n",
    "        image-rendering: -o-crisp-edges; /* opera */\n",
    "        -ms-interpolation-mode: nearest-neighbor; /* ie */\n",
    "    }\n",
    "</style>\n",
    "\"\"\")\n",
    "```\n",
    "*****\n",
    "\n",
    "Documentation for a given function can be accessed simply by adding ? at the end of the function in a cell. e.g. `display_da?` or by selecting the function and pressing `Shift-Tab`.\n",
    "\n",
    "In this demo Jupyter script, the user can either use the in-script function (below) or import it from ./swiss_utils/data_cube_utilities/sdc_advutils.py."
   ]
  },
  {
   "cell_type": "code",
   "execution_count": null,
   "metadata": {},
   "outputs": [],
   "source": [
    "# Make sure the script is using the proper kernel\n",
    "try:\n",
    "    %run ../swiss_utils/assert_env.py\n",
    "except:\n",
    "    %run ./swiss_utils/assert_env.py"
   ]
  },
  {
   "cell_type": "code",
   "execution_count": null,
   "metadata": {},
   "outputs": [],
   "source": [
    "# Import modules\n",
    "\n",
    "# reload module before executing code\n",
    "%load_ext autoreload\n",
    "%autoreload 2\n",
    "\n",
    "# define modules locations (you might have to adapt define_mod_locs.py)\n",
    "%run ../swiss_utils/define_mod_locs.py\n",
    "\n",
    "import numpy as np\n",
    "import xarray as xr\n",
    "\n",
    "from datetime import datetime\n",
    "\n",
    "import datacube\n",
    "dc = datacube.Datacube()\n",
    "\n",
    "from swiss_utils.data_cube_utilities.sdc_utilities import load_multi_clean\n",
    "from swiss_utils.data_cube_utilities.sdc_advutils import draw_map\n",
    "\n",
    "# AND THE FUNCTION\n",
    "from swiss_utils.data_cube_utilities.sdc_advutils import display_da"
   ]
  },
  {
   "cell_type": "code",
   "execution_count": null,
   "metadata": {},
   "outputs": [],
   "source": [
    "# Cell mentionned in the documentation above\n",
    "\n",
    "# css tweek to avoid browser blurry png (need to be run before function cell)\n",
    "# source: https://github.com/python-visualization/folium/blob/master/folium/raster_layers.py\n",
    "from IPython.core.display import HTML\n",
    "HTML(\"\"\"\n",
    "<style>\n",
    "    .leaflet-image-layer {\n",
    "        /* old android/safari*/\n",
    "        image-rendering: -webkit-optimize-contrast;\n",
    "        image-rendering: crisp-edges; /* safari */\n",
    "        image-rendering: pixelated; /* chrome */\n",
    "        image-rendering: -moz-crisp-edges; /* firefox */\n",
    "        image-rendering: -o-crisp-edges; /* opera */\n",
    "        -ms-interpolation-mode: nearest-neighbor; /* ie */\n",
    "    }\n",
    "</style>\n",
    "\"\"\")"
   ]
  },
  {
   "cell_type": "raw",
   "metadata": {},
   "source": [
    "# In-script function\n",
    "# DO NOT RUN THIS CELL IF YOU WANT TO USE THE IMPORTED FUNCTION (LAST LINE OF CELL ABOVE)\n",
    "# To make sure to not run inadvertently this cell convert it to Raw\n",
    "\n",
    "import os\n",
    "import uuid\n",
    "import PIL\n",
    "import matplotlib.pyplot as plt\n",
    "from utils.data_cube_utilities.dc_display_map import _degree_to_zoom_level\n",
    "from base64 import b64encode\n",
    "from io import BytesIO\n",
    "from ipyleaflet import (Map, basemaps, basemap_to_tiles, ImageOverlay, DrawControl, LayersControl)\n",
    "\n",
    "def da_to_png64(da, cm):\n",
    "    \"\"\"\n",
    "    The function takes in a data array and a color map, and returns a base64 encoded string\n",
    "    of the image\n",
    "    \n",
    "    :param da: the data array\n",
    "    :param cm: The colormap to use\n",
    "    :return: a string of the image encoded in base64.\n",
    "    \n",
    "    source: https://github.com/jupyter-widgets/ipyleaflet/blob/master/examples/Numpy.ipynb\n",
    "    but without reprojection:\n",
    "    - seems to have an issue with bounds still in WGS84 and array reprojected\n",
    "    - reprojection create more problems than solve them\n",
    "    \"\"\"\n",
    "    arr = da.values\n",
    "    arr_norm = arr - np.nanmin(arr)\n",
    "    arr_norm = arr_norm / np.nanmax(arr_norm)\n",
    "    arr_norm = np.where(np.isfinite(arr), arr_norm, 0)\n",
    "    arr_im = PIL.Image.fromarray(np.uint8(cm(arr_norm)*255))\n",
    "    arr_mask = np.where(np.isfinite(arr), 255, 0)\n",
    "    mask = PIL.Image.fromarray(np.uint8(arr_mask), mode='L')\n",
    "    im = PIL.Image.new('RGBA', arr_norm.shape[::-1], color=None)\n",
    "    im.paste(arr_im, mask=mask)\n",
    "    f = BytesIO()\n",
    "    im.save(f, 'png')\n",
    "    data = b64encode(f.getvalue())\n",
    "    data = data.decode('ascii')\n",
    "    imgurl = 'data:image/png;base64,' + data\n",
    "    return imgurl\n",
    "    \n",
    "def display_da(da, cm, tool = 'point'):\n",
    "    \"\"\"\n",
    "    Display a colored dataarray on a map and allow the user to select a point\n",
    "    or a recangular region\n",
    "    \n",
    "    :param da: the DataArray you want to plot\n",
    "    :param cm: colormap\n",
    "    :param tool: 'point' or 'rectangle', defaults to point (optional)\n",
    "    :return: a map, a drawcontrol, and an imageoverlay.\n",
    "    \"\"\"    \n",
    "    # Check inputs\n",
    "    assert 'dataarray.DataArray' in str(type(da)), \"da must be an xarray.DataArray\"\n",
    "    assert tool in ['point', 'rectangle'], \"<tool> must be either point (default) or rectangle\"\n",
    "    \n",
    "    # convert DataArray to png64\n",
    "    imgurl = da_to_png64(da, cm)\n",
    "    \n",
    "    \n",
    "    # Display\n",
    "    latitude = (da.latitude.values.min(), da.latitude.values.max())\n",
    "    longitude = (da.longitude.values.min(), da.longitude.values.max())\n",
    "    \n",
    "    margin = -0.5\n",
    "    zoom_bias = 0\n",
    "    lat_zoom_level = _degree_to_zoom_level(margin = margin, *latitude ) + zoom_bias\n",
    "    lon_zoom_level = _degree_to_zoom_level(margin = margin, *longitude) + zoom_bias\n",
    "    zoom = min(lat_zoom_level, lon_zoom_level) - 1\n",
    "    center = [np.mean(latitude), np.mean(longitude)]\n",
    "    m = Map(center=center, zoom=zoom)\n",
    "    \n",
    "    # http://leaflet-extras.github.io/leaflet-providers/preview/\n",
    "    esri = basemap_to_tiles(basemaps.Esri.WorldImagery)\n",
    "    m.add_layer(esri)\n",
    "    \n",
    "    io = ImageOverlay(name = 'DataArray', url=imgurl, bounds=[(latitude[0],longitude[0]),(latitude[1], longitude[1])])\n",
    "    m.add_layer(io)\n",
    "    \n",
    "    if tool == 'point':\n",
    "        dc = DrawControl(circlemarker={'color': 'yellow'}, polygon={}, polyline={})\n",
    "    else:\n",
    "        dc = DrawControl(rectangle={'color': 'yellow'}, circlemarker={}, polygon={}, polyline={})\n",
    "    m.add_control(dc)\n",
    "    \n",
    "    m.add_control(LayersControl())\n",
    "    \n",
    "    return m, dc, io"
   ]
  },
  {
   "cell_type": "markdown",
   "metadata": {},
   "source": [
    "The next cell contains the dataset configuration information:\n",
    "- product\n",
    "- geographical extent\n",
    "- time period\n",
    "- bands __(as this notebook will compute NDVI you will need nir, red and the mask)__\n",
    "\n",
    "You can generate it in three ways:\n",
    "1. manually from scratch,\n",
    "2. by manually copy/pasting the final cell content of the [config_tool](config_tool.ipynb) notebook,\n",
    "3. by loading the final cell content of the [config_tool](config_tool.ipynb) notebook using the magic `# %load config_cell.txt`."
   ]
  },
  {
   "cell_type": "code",
   "execution_count": null,
   "metadata": {},
   "outputs": [],
   "source": [
    "%load config_cell.txt"
   ]
  },
  {
   "cell_type": "code",
   "execution_count": null,
   "metadata": {},
   "outputs": [],
   "source": [
    "draw_map([min_lat, max_lat], [min_lon, max_lon], draw = False)[0]"
   ]
  },
  {
   "cell_type": "code",
   "execution_count": null,
   "metadata": {},
   "outputs": [],
   "source": [
    "# Create an average NDVI to display\n",
    "\n",
    "dataset_clean, clean_mask = load_multi_clean(dc = dc, products = product, time = [start_date, end_date],\n",
    "                                          lon = [min_lon, max_lon], lat = [min_lat, max_lat],\n",
    "                                          measurements = measurements)\n",
    "\n",
    "ndvi = (dataset_clean.nir - dataset_clean.red) / (dataset_clean.nir + dataset_clean.red)\n",
    "# del dataset_clean\n",
    "del clean_mask\n",
    "ndvi_mean = np.nanmean(ndvi.values, axis=0)\n",
    "ndvi_mean = xr.DataArray(ndvi_mean, dims=['latitude', 'longitude']).astype(np.float64)\n",
    "ndvi_mean = ndvi_mean.assign_coords(latitude=ndvi.latitude, longitude=ndvi.longitude)\n",
    "\n",
    "# replace +-Inf by nan\n",
    "ndvi_mean = ndvi_mean.where(np.isfinite(ndvi_mean))\n",
    "\n",
    "# keep the range of values within +-1\n",
    "ndvi_mean = ndvi_mean.where(ndvi_mean.values > -1, -1). \\\n",
    "                 where(ndvi_mean.values < 1, 1)"
   ]
  },
  {
   "cell_type": "code",
   "execution_count": null,
   "metadata": {},
   "outputs": [],
   "source": [
    "ndvi_mean = ndvi_mean.where(ndvi_mean.values > -1, -1). \\\n",
    "                 where(ndvi_mean.values < 1, 1)"
   ]
  },
  {
   "cell_type": "code",
   "execution_count": null,
   "metadata": {},
   "outputs": [],
   "source": [
    "# Let's first use a default matplotlib colormap ('_r' invert the colormap)\n",
    "# catalog at https://matplotlib.org/3.1.0/tutorials/colors/colormaps.html\n",
    "\n",
    "from matplotlib import cm\n",
    "\n",
    "m1, pos1, io1 = display_da(ndvi_mean,\n",
    "                        cm = cm.get_cmap('ocean_r', 256))\n",
    "m1"
   ]
  },
  {
   "cell_type": "code",
   "execution_count": null,
   "metadata": {},
   "outputs": [],
   "source": [
    "# As no default colormap fits NDVI display, let's create one manually\n",
    "\n",
    "from matplotlib import colors\n",
    "\n",
    "m2, pos2, io2 = display_da(ndvi_mean,\n",
    "                    cm = colors.LinearSegmentedColormap.from_list('ndvi', ['darkblue','blue','lightblue','lightgreen','darkgreen'], N=256))\n",
    "m2"
   ]
  },
  {
   "cell_type": "code",
   "execution_count": null,
   "metadata": {},
   "outputs": [],
   "source": [
    "# Just for fun, link the two map (pan and zoom will apply on both maps)\n",
    "\n",
    "from traitlets import link\n",
    "\n",
    "map_center_link = link((m1, 'center'), (m2, 'center'))\n",
    "map_zoom_link = link((m1, 'zoom'), (m2, 'zoom'))"
   ]
  },
  {
   "cell_type": "code",
   "execution_count": null,
   "metadata": {},
   "outputs": [],
   "source": [
    "# You can also combine the two maps (they will still be linked as well with the two previous map)\n",
    "\n",
    "import ipywidgets\n",
    " \n",
    "ipywidgets.HBox([m1, m2])"
   ]
  },
  {
   "cell_type": "code",
   "execution_count": null,
   "metadata": {},
   "outputs": [],
   "source": [
    "# You can also control the first map opacity from this cell (for fun we will also link maps opacity)\n",
    "\n",
    "map_opacity_link = link((io1, 'opacity'), (io2, 'opacity'))\n",
    "io1.interact(opacity=(0.0,1.0,0.01))"
   ]
  },
  {
   "cell_type": "code",
   "execution_count": null,
   "metadata": {},
   "outputs": [],
   "source": [
    "# Use the circlemarker button of the second map (right) to select a location and\n",
    "# run this cell to get its coordinates\n",
    "location = pos2.last_draw['geometry']['coordinates']\n",
    "print(location)"
   ]
  },
  {
   "cell_type": "code",
   "execution_count": null,
   "metadata": {},
   "outputs": [],
   "source": []
  },
  {
   "cell_type": "code",
   "execution_count": null,
   "metadata": {},
   "outputs": [],
   "source": []
  }
 ],
 "metadata": {
  "kernelspec": {
   "display_name": "Python (Open Data Cube Development)",
   "language": "python",
   "name": "odc-dev"
  },
  "language_info": {
   "codemirror_mode": {
    "name": "ipython",
    "version": 3
   },
   "file_extension": ".py",
   "mimetype": "text/x-python",
   "name": "python",
   "nbconvert_exporter": "python",
   "pygments_lexer": "ipython3",
   "version": "3.9.12"
  }
 },
 "nbformat": 4,
 "nbformat_minor": 4
}
