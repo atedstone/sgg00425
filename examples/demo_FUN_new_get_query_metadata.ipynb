{
 "cells": [
  {
   "cell_type": "markdown",
   "metadata": {},
   "source": [
    "# Demo of functions new\\_get_query_metadata from*./swiss_utils/data_cube_utilities/sdc_utilities.py*\n",
    "\n",
    "*****\n",
    "\n",
    "__This script is the \"official demo\" of a function. Please if you want to modify it, work on your own copy__\n",
    "\n",
    "Debugged version of default `api.get_query_metadata` function bugged since version 1.8 of ODC. Returns the minimum and maximum latitude, longitude, and date range of a product.\n",
    "- dc: The Datacube instance to load data with\n",
    "- product (string): The name of the product associated with the desired dataset..\n",
    "\n",
    "Returns\n",
    "- scene_metadata (dict): Dictionary containing a variety of data that can later be accessed.\n",
    "\n",
    "This scripts also demonstrate how to use the `summarize_products_extents`function, who returns the maximum extent (in space and time) of a given list of `products`.\n",
    "\n",
    "Documentation for a given function can be accessed simply by adding ? at the end of the function in a cell. e.g. `new_get_product_extents?` or by selecting the function and pressing `Shift-Tab`.\n",
    "\n",
    "In this demo Jupyter script, the user can either use the in-script function (below) or import it from ./swiss_utils/data_cube_utilities/sdc_utilities.py."
   ]
  },
  {
   "cell_type": "code",
   "execution_count": null,
   "metadata": {},
   "outputs": [],
   "source": [
    "# Make sure the script is using the proper kernel\n",
    "try:\n",
    "    %run ../swiss_utils/assert_env.py\n",
    "except:\n",
    "    %run ./swiss_utils/assert_env.py"
   ]
  },
  {
   "cell_type": "code",
   "execution_count": null,
   "metadata": {},
   "outputs": [],
   "source": [
    "# Import modules\n",
    "\n",
    "# reload module before executing code\n",
    "%load_ext autoreload\n",
    "%autoreload 2\n",
    "\n",
    "# define modules locations (you might have to adapt define_mod_locs.py)\n",
    "%run ../swiss_utils/define_mod_locs.py\n",
    "\n",
    "from datetime import datetime # in case you import a full configuration cell\n",
    "\n",
    "from swiss_utils.data_cube_utilities.sdc_advutils import draw_map\n",
    "\n",
    "# AND THE FUNCTION\n",
    "from swiss_utils.data_cube_utilities.sdc_utilities import new_get_query_metadata, summarize_products_extents"
   ]
  },
  {
   "cell_type": "raw",
   "metadata": {},
   "source": [
    "# In-script function\n",
    "# DO NOT RUN THIS CELL IF YOU WANT TO USE THE IMPORTED FUNCTION (LAST LINE OF CELL ABOVE)\n",
    "# To make sure to not run inadvertently this cell convert it to Raw NBConvert\n",
    "\n",
    "def new_get_query_metadata(dc, product, quick = False):\n",
    "    \"\"\"\n",
    "    Gets a descriptor based on a request.\n",
    "\n",
    "    Args:\n",
    "        dc: The Datacube instance to load data with.\n",
    "        product (string): The name of the product associated with the desired dataset.\n",
    "        quick (boolean): Attempt to quickly get metadata from a small dataset, and process\n",
    "                         the full dataset if not possible. tile_count will not be evaluated\n",
    "                         with this option.\n",
    "\n",
    "    Returns:\n",
    "        scene_metadata (dict): Dictionary containing a variety of data that can later be\n",
    "                               accessed.\n",
    "    \"\"\"\n",
    "    todo = True\n",
    "    if quick:\n",
    "        limit = 10\n",
    "        ds = dc.load(product, measurements = [], limit = limit)\n",
    "        if len(ds.time) == limit:\n",
    "            todo = False\n",
    "            tile_count = 'not calculated with quick option'\n",
    "    if todo:\n",
    "        ds = dc.load(product, measurements = [])\n",
    "        tile_count = ds.time.size\n",
    "    \n",
    "    if len(set(ds.dims).intersection(['x', 'y'])) >= 1:\n",
    "        ds = ds.rename({'x': 'longitude', 'y': 'latitude'})\n",
    "    \n",
    "    resx = (max(ds.longitude.values) - min(ds.longitude.values)) / (len(ds.longitude) - 1)\n",
    "    resy = (max(ds.latitude.values) - min(ds.latitude.values)) / (len(ds.latitude) - 1)\n",
    "    minx = min(ds.longitude.values) - resx / 2\n",
    "    miny = min(ds.latitude.values) - resy / 2\n",
    "    maxx = max(ds.longitude.values) + resx / 2\n",
    "    maxy = max(ds.latitude.values) + resy / 2\n",
    "    \n",
    "    return {'lon_extents': (minx, maxx),\n",
    "            'lat_extents': (miny, maxy),\n",
    "            'lon_res': resx,\n",
    "            'lat_res': resy,\n",
    "            'crs': ds.crs,\n",
    "            'time_extents': (ds.time[0].values.astype('M8[ms]').tolist(),\n",
    "                             ds.time[-1].values.astype('M8[ms]').tolist()),\n",
    "            'tile_count': tile_count,\n",
    "            'pixel_count': len(ds.longitude) * len(ds.latitude)}\n",
    "\n",
    "def summarize_products_extents(dc, products):\n",
    "    \"\"\"\n",
    "    Returns the maximum extent (in space and time) of a given list of products.\n",
    "    Args:\n",
    "        dc: The Datacube instance to load data with\n",
    "        products (list): List of products to get metadata from.\n",
    "\n",
    "    Returns:\n",
    "        scene_metadata (dict): Dictionary of min and max extents.\n",
    "    \"\"\"\n",
    "    miny, maxy = 1E27, -1E27\n",
    "    minx, maxx = 1E27, -1E27\n",
    "    start_date, end_date = datetime.strptime('2050-12-31', '%Y-%m-%d'), datetime.strptime('1970-01-01', '%Y-%m-%d')\n",
    "    for product in products:\n",
    "        mt = new_get_query_metadata(dc, product)\n",
    "        miny = mt['lat_extents'][0] if mt['lat_extents'][0] < miny else miny\n",
    "        maxy = mt['lat_extents'][1] if mt['lat_extents'][1] > maxy else maxy\n",
    "        minx = mt['lon_extents'][0] if mt['lon_extents'][0] < minx else minx\n",
    "        maxx = mt['lon_extents'][1] if mt['lon_extents'][1] > maxx else maxx\n",
    "        start_date = mt['time_extents'][0] if mt['time_extents'][0] < start_date else start_date\n",
    "        end_date = mt['time_extents'][1] if mt['time_extents'][1] > end_date else end_date\n",
    "    \n",
    "    return {'lat_extents': (miny, maxy),\n",
    "            'lon_extents': (minx, maxx),\n",
    "            'time_extents': (start_date, end_date)}"
   ]
  },
  {
   "cell_type": "markdown",
   "metadata": {},
   "source": [
    "The next cell contains the dataset configuration information:\n",
    "- product\n",
    "- geographical extent\n",
    "- time period\n",
    "- bands\n",
    "\n",
    "You can generate it in three ways:\n",
    "1. manually from scratch (for this function only the product is required),\n",
    "2. by manually copy/pasting the final cell content of the [config_tool](config_tool.ipynb) notebook,\n",
    "3. by loading the final cell content of the [config_tool](config_tool.ipynb) notebook using the magic `# %load config_cell.txt`.\n",
    "\n",
    "**But for this function you will only need the product information.**"
   ]
  },
  {
   "cell_type": "code",
   "execution_count": null,
   "metadata": {},
   "outputs": [],
   "source": [
    "# %load config_cell.txt\n",
    "\n",
    "product = 'ls8_lasrc_swiss'"
   ]
  },
  {
   "cell_type": "markdown",
   "metadata": {},
   "source": [
    "Let's first use the default DC function (**will not works since ODC version 1.8 !** You can get the installed version by running a cell containing `!datacube --version`)."
   ]
  },
  {
   "cell_type": "code",
   "execution_count": null,
   "metadata": {},
   "outputs": [],
   "source": [
    "import utils.data_cube_utilities.data_access_api as dc_api  \n",
    "api = dc_api.DataAccessApi()\n",
    "\n",
    "api.get_query_metadata(product = product, measurements=[])"
   ]
  },
  {
   "cell_type": "markdown",
   "metadata": {},
   "source": [
    "And now the replacement function !"
   ]
  },
  {
   "cell_type": "code",
   "execution_count": null,
   "metadata": {},
   "outputs": [],
   "source": [
    "import datacube\n",
    "dc = datacube.Datacube()\n",
    "\n",
    "mtd = new_get_query_metadata(dc, product)\n",
    "mtd"
   ]
  },
  {
   "cell_type": "code",
   "execution_count": null,
   "metadata": {},
   "outputs": [],
   "source": [
    "# Let's visualize the geographical extent\n",
    "\n",
    "draw_map(mtd['lat_extents'], mtd['lon_extents'],\n",
    "         crs = mtd['crs'], draw = False)[0]"
   ]
  },
  {
   "cell_type": "markdown",
   "metadata": {},
   "source": [
    "The `summarize_products_extents` return the maximum extent (in space and time) of a given list of products (**you might have to adapt it manually, depending on your DC**)."
   ]
  },
  {
   "cell_type": "code",
   "execution_count": null,
   "metadata": {},
   "outputs": [],
   "source": [
    "summarize_products_extents(dc, ['ls7_ledaps_swiss', 'ls8_lasrc_swiss'])"
   ]
  },
  {
   "cell_type": "markdown",
   "metadata": {},
   "source": [
    "Let's run again the `new_get_query_metadata` with the product we just added (**again, you might have to adapt it manually, depending on your DC**) to check how the summarize function works."
   ]
  },
  {
   "cell_type": "code",
   "execution_count": null,
   "metadata": {},
   "outputs": [],
   "source": [
    "new_get_query_metadata(dc, 'ls7_ledaps_swiss')"
   ]
  },
  {
   "cell_type": "markdown",
   "metadata": {},
   "source": [
    "The `quick` option attempt to get metadata by using a small dataset and define is the dataset is tiled or composed of single scenes.\n",
    "- In case of tiles it will use the full dataset\n",
    "- In case of single scenes he will compute metadata except the `tile_count` variable\n",
    "\n",
    "The `quick` option is required to quickly (compared to severa tens of minutes) get metadata from for example hourly dataset composed of thousand non ingested single scene."
   ]
  },
  {
   "cell_type": "code",
   "execution_count": null,
   "metadata": {},
   "outputs": [],
   "source": [
    "product = 'combiprecip_scene'\n",
    "mtd = new_get_query_metadata(dc, product, quick = True)\n",
    "mtd"
   ]
  },
  {
   "cell_type": "code",
   "execution_count": null,
   "metadata": {},
   "outputs": [],
   "source": [
    "draw_map(mtd['lat_extents'],\n",
    "         mtd['lon_extents'],\n",
    "         crs = mtd['crs'], draw = False)[0]"
   ]
  },
  {
   "cell_type": "code",
   "execution_count": null,
   "metadata": {},
   "outputs": [],
   "source": []
  }
 ],
 "metadata": {
  "kernelspec": {
   "display_name": "Python (Open Data Cube Development)",
   "language": "python",
   "name": "odc-dev"
  },
  "language_info": {
   "codemirror_mode": {
    "name": "ipython",
    "version": 3
   },
   "file_extension": ".py",
   "mimetype": "text/x-python",
   "name": "python",
   "nbconvert_exporter": "python",
   "pygments_lexer": "ipython3",
   "version": "3.9.12"
  }
 },
 "nbformat": 4,
 "nbformat_minor": 4
}
