{
 "cells": [
  {
   "cell_type": "markdown",
   "metadata": {},
   "source": [
    "# Demo of functions find\\_ipynb from*./swiss_utils/data_cube_utilities/sdc_devtools.py*\n",
    "\n",
    "*****\n",
    "\n",
    "__This script is the \"official demo\" of a function. Please if you want to modify it, work on your own copy__\n",
    "\n",
    "Find (and link to) all _.ipynb_ files containing a given `search_string`, optionally a `search_pattern` can be applied.\n",
    "\n",
    "e.g.\n",
    "\n",
    "`find_ipynb(search_string = 'ndvi =')` will list all scripts containing the string 'ndvi =' in the current directory\n",
    "\n",
    "`find_ipynb(search_string = 'ndvi =', search_dir = '../../', search_pattern = 'BC_')` will list all scripts containing 'BC_' in their name and containing the string 'ndvi =' in starting in 2nd level parent directory\n",
    "\n",
    "\n",
    "Documentation for a given function can be accessed simply by adding ? at the end of the function in a cell. e.g. `find_ipynb?` or by selecting the function and pressing `Shift-Tab`.\n",
    "\n",
    "In this demo Jupyter script, the user can either use the in-script function (below) or import it from ./swiss_utils/data_cube_utilities/sdc_devtools.py."
   ]
  },
  {
   "cell_type": "code",
   "execution_count": null,
   "metadata": {},
   "outputs": [],
   "source": [
    "# Make sure the script is using the proper kernel\n",
    "try:\n",
    "    %run ../swiss_utils/assert_env.py\n",
    "except:\n",
    "    %run ./swiss_utils/assert_env.py"
   ]
  },
  {
   "cell_type": "code",
   "execution_count": null,
   "metadata": {},
   "outputs": [],
   "source": [
    "# Import modules\n",
    "\n",
    "# reload module before executing code\n",
    "%load_ext autoreload\n",
    "%autoreload 2\n",
    "\n",
    "# define modules locations (you might have to adapt define_mod_locs.py)\n",
    "%run ../swiss_utils/define_mod_locs.py\n",
    "\n",
    "# AND THE FUNCTION\n",
    "from swiss_utils.data_cube_utilities.sdc_devtools import find_ipynb"
   ]
  },
  {
   "cell_type": "raw",
   "metadata": {},
   "source": [
    "# In-script function\n",
    "# DO NOT RUN THIS CELL IF YOU WANT TO USE THE IMPORTED FUNCTION (LAST LINE OF CELL ABOVE)\n",
    "# To make sure to not run inadvertently this cell convert it to Raw NBConvert\n",
    "\n",
    "import os\n",
    "import glob\n",
    "\n",
    "from IPython.display import HTML\n",
    "\n",
    "def find_ipynb(search_string, search_dir = './', search_pattern=''):\n",
    "    \"\"\"\n",
    "    Description:\n",
    "      Search (and link to) all .ipynb files containing a given <search_string>, optionally a <search_pattern> can be applied.\n",
    "      e.g. find_ipynb(search_string = 'ndvi =')\n",
    "             will list all scripts containing the string 'ndvi =' in the current directory\n",
    "           find_ipynb(search_string = 'ndvi =', search_dir = '../../', search_pattern = 'BC_')\n",
    "             will list all scripts containing 'BC_' in their name and containing the string 'ndvi ='\n",
    "             in starting in 2nd level parent directory\n",
    "    -----\n",
    "    Input:\n",
    "      search_string: string to search for example\n",
    "      search_dir (OPTIONAL): search path (current folder by default)\n",
    "      search_pattern (OPTIONAL): string to filter result\n",
    "    Output:\n",
    "      List of scripts with a direct link (do not forget to 'Close and halt' the script after reading), and the first line containing the <search_string>)\n",
    "    \"\"\"\n",
    "    for root, dirs, files in os.walk(search_dir):\n",
    "        for file in files:\n",
    "            if (file.endswith('.ipynb')) and \\\n",
    "            not(file.endswith('-checkpoint.ipynb')) and \\\n",
    "            (search_pattern in file):\n",
    "                fname = os.path.join(root,file)\n",
    "                with open(fname) as f:\n",
    "                    for line in f:\n",
    "                        if search_string in line:\n",
    "                            display(HTML('<a href=\"%s\" target=\"_blank\">%s</a><br /> %s' % (fname, fname, line.replace(\"\\\"\",\"\").strip())))\n",
    "                            break"
   ]
  },
  {
   "cell_type": "code",
   "execution_count": null,
   "metadata": {},
   "outputs": [],
   "source": [
    "# Search notebooks containing a string in working directory\n",
    "\n",
    "find_ipynb(search_string = 'DataAccessApi')"
   ]
  },
  {
   "cell_type": "code",
   "execution_count": null,
   "metadata": {},
   "outputs": [],
   "source": [
    "# Search notebooks containing a string and with a name containing another string\n",
    "# starting one folder above the working directory\n",
    "\n",
    "find_ipynb(search_string = 'Welcome', search_dir = '../', search_pattern = 'READ')"
   ]
  },
  {
   "cell_type": "code",
   "execution_count": null,
   "metadata": {},
   "outputs": [],
   "source": []
  }
 ],
 "metadata": {
  "kernelspec": {
   "display_name": "Python (Open Data Cube Development)",
   "language": "python",
   "name": "odc-dev"
  },
  "language_info": {
   "codemirror_mode": {
    "name": "ipython",
    "version": 3
   },
   "file_extension": ".py",
   "mimetype": "text/x-python",
   "name": "python",
   "nbconvert_exporter": "python",
   "pygments_lexer": "ipython3",
   "version": "3.9.12"
  }
 },
 "nbformat": 4,
 "nbformat_minor": 4
}
