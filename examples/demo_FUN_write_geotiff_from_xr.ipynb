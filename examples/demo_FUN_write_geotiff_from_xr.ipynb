{
 "cells": [
  {
   "cell_type": "markdown",
   "metadata": {},
   "source": [
    "# Demo of function *write_geotiff_from_xr* from *./swiss_utils/data_cube_utilities/sdc_utilities.py*\n",
    "\n",
    "*****\n",
    "\n",
    "__This script is the \"official demo\" of a function. Please if you want to modify it, work on your own copy.__\n",
    "\n",
    "This is a modified version of the original `write_geotiff_from_xr` function, the following improvements were done by BC:\n",
    "\n",
    "- fixed pixel shift bug\n",
    "- original band name added to band numbers\n",
    "- compression option added (`compr` argument)\n",
    "\n",
    "Documentation for a given function can be accessed simply by adding ? at the end of the function in a cell. e.g. `write_geotiff_from_xr?` or by selecting the function and pressing `Shift-Tab`.\n",
    "\n",
    "In this demo Jupyter script, the user can either use the in-script function (below) or import it from ./swiss_utils/data_cube_utilities/sdc_utilities.py."
   ]
  },
  {
   "cell_type": "code",
   "execution_count": null,
   "metadata": {},
   "outputs": [],
   "source": [
    "# Make sure the script is using the proper kernel\n",
    "try:\n",
    "    %run ../swiss_utils/assert_env.py\n",
    "except:\n",
    "    %run ./swiss_utils/assert_env.py"
   ]
  },
  {
   "cell_type": "code",
   "execution_count": null,
   "metadata": {},
   "outputs": [],
   "source": [
    "# Import modules\n",
    "\n",
    "# reload module before executing code\n",
    "%load_ext autoreload\n",
    "%autoreload 2\n",
    "\n",
    "# define modules locations (you might have to adapt define_mod_locs.py)\n",
    "%run ../swiss_utils/define_mod_locs.py\n",
    "\n",
    "from datetime import datetime\n",
    "from IPython.display import HTML\n",
    "\n",
    "import datacube\n",
    "dc = datacube.Datacube()\n",
    "\n",
    "from utils.data_cube_utilities.dc_mosaic import create_hdmedians_multiple_band_mosaic\n",
    "\n",
    "from swiss_utils.data_cube_utilities.sdc_utilities import load_multi_clean\n",
    "from swiss_utils.data_cube_utilities.sdc_advutils import draw_map\n",
    "\n",
    "# AND THE FUNCTION\n",
    "from swiss_utils.data_cube_utilities.sdc_utilities import write_geotiff_from_xr"
   ]
  },
  {
   "cell_type": "raw",
   "metadata": {},
   "source": [
    "# In-script function\n",
    "# DO NOT RUN THIS CELL IF YOU WANT TO USE THE IMPORTED FUNCTION (LAST LINE OF CELL ABOVE)\n",
    "# To make sure to not run inadvertently this cell convert it to Raw NBConvert\n",
    "\n",
    "import sys\n",
    "import rasterio\n",
    "from osgeo import gdal\n",
    "\n",
    "def write_geotiff_from_xr(tif_path, dataset, bands = None, no_data = -9999,\n",
    "                          crs = None, compr = ''):\n",
    "    \"\"\"\n",
    "    Write a geotiff from an xarray dataset\n",
    "    Modified for SDC:\n",
    "    - fixed pixel shift bug\n",
    "    - original band name added to band numbers\n",
    "    - compression option added\n",
    "\n",
    "    Args:\n",
    "        tif_path: path for the tif to be written to.\n",
    "        dataset: xarray dataset\n",
    "        bands: (OPTIONAL) list of strings representing the bands in the order\n",
    "        they should be written, or all <dataset> bands by default.\n",
    "        no_data: (OPTIONAL) nodata value for the dataset (-9999 by default)\n",
    "        crs: (OPTIONAL) requested crs (in the case the info is not available in <dataset>\n",
    "        compr: (OPTIONAL) compression option (None by default), could be e.g. 'DEFLATE' or 'LZW'\n",
    "\n",
    "    \"\"\"\n",
    "    # Check CRS information is correctly provided\n",
    "    try:\n",
    "        ds_crs = dataset.crs\n",
    "        if crs is None:\n",
    "            crs = ds_crs\n",
    "        elif crs != ds_crs:\n",
    "            crs = None # as a direct assert returns an error and switch to except\n",
    "    except:\n",
    "        assert crs is not None, \\\n",
    "               '<dataset> do not contains crs attribute, you have to fill <crs>!'\n",
    "    # assert outside of try as it returns an error and switch to except\n",
    "    assert crs is not None, \\\n",
    "           '<crs> differ from <dataset> crs, simply keep <crs> empty!'\n",
    "    \n",
    "    # Check band information\n",
    "    if bands is None:\n",
    "        bands = list(dataset.data_vars)\n",
    "    assert isinstance(bands, list), \"Bands must a list of strings\"\n",
    "    assert len(bands) > 0 and isinstance(bands[0], str), \"You must supply at least one band.\"\n",
    "    \n",
    "    # Create the geotiff\n",
    "    with rasterio.open(\n",
    "            tif_path,\n",
    "            'w',\n",
    "            driver='GTiff',\n",
    "            height=dataset.dims['latitude'],\n",
    "            width=dataset.dims['longitude'],\n",
    "            count=len(bands),\n",
    "            dtype=dataset[bands[0]].dtype,\n",
    "            crs=crs,\n",
    "            transform=_get_transform_from_xr(dataset),\n",
    "            nodata=no_data,\n",
    "            compress=compr) as dst:\n",
    "        for index, band in enumerate(bands):\n",
    "            dst.write(dataset[band].values, index + 1)\n",
    "        dst.close()\n",
    "    \n",
    "    # set band names\n",
    "    ds = gdal.Open(tif_path, gdal.GA_Update)\n",
    "    for index, band in enumerate(bands):\n",
    "        rb = ds.GetRasterBand(index + 1)\n",
    "        rb.SetDescription(band)\n",
    "    del ds\n",
    "    \n",
    "def _get_transform_from_xr(dataset):\n",
    "    \"\"\"\n",
    "    The function takes in a dataset and returns the geotransform of the dataset\n",
    "    \n",
    "    :param dataset: the xarray dataset\n",
    "    :return: The geotransform is a list of numbers that defines the bounding box of the raster.\n",
    "    \"\"\"\n",
    "    cols = len(dataset.longitude)\n",
    "    rows = len(dataset.latitude)\n",
    "    pixelWidth = abs(dataset.longitude[-1] - dataset.longitude[0]) / (cols - 1)\n",
    "    pixelHeight = abs(dataset.latitude[-1] - dataset.latitude[0]) / (rows - 1)\n",
    "    \n",
    "    from rasterio.transform import from_bounds\n",
    "    geotransform = from_bounds(dataset.longitude[0] - pixelWidth / 2, dataset.latitude[-1] - pixelHeight / 2,\n",
    "                               dataset.longitude[-1] + pixelWidth / 2, dataset.latitude[0] + pixelHeight / 2,\n",
    "                               cols, rows)\n",
    "    return geotransform"
   ]
  },
  {
   "cell_type": "markdown",
   "metadata": {},
   "source": [
    "The next cell contains the dataset configuration information:\n",
    "- product\n",
    "- geographical extent\n",
    "- time period\n",
    "- bands\n",
    "\n",
    "You can generate it in three ways:\n",
    "1. manually from scratch,\n",
    "2. by manually copy/pasting the final cell content of the [config_tool](config_tool.ipynb) notebook,\n",
    "3. by loading the final cell content of the [config_tool](config_tool.ipynb) notebook using the magic `# %load config_cell.txt`."
   ]
  },
  {
   "cell_type": "code",
   "execution_count": null,
   "metadata": {},
   "outputs": [],
   "source": [
    "%load config_cell.txt"
   ]
  },
  {
   "cell_type": "code",
   "execution_count": null,
   "metadata": {
    "scrolled": true
   },
   "outputs": [],
   "source": [
    "draw_map([min_lat, max_lat], [min_lon, max_lon], draw = False)[0]"
   ]
  },
  {
   "cell_type": "code",
   "execution_count": null,
   "metadata": {},
   "outputs": [],
   "source": [
    "# Create a mosaic\n",
    "dataset_in, clean_mask = load_multi_clean(dc = dc, products = product, time = [start_date, end_date],\n",
    "                                          lon = [min_lon, max_lon], lat = [min_lat, max_lat],\n",
    "                                          measurements = measurements)\n",
    "print(dataset_in)"
   ]
  },
  {
   "cell_type": "code",
   "execution_count": null,
   "metadata": {},
   "outputs": [],
   "source": [
    "# Generate a mosaic\n",
    "\n",
    "mosaic = create_hdmedians_multiple_band_mosaic(dataset_in, clean_mask, operation='medoid')\n",
    "del clean_mask\n",
    "\n",
    "print(mosaic)"
   ]
  },
  {
   "cell_type": "code",
   "execution_count": null,
   "metadata": {},
   "outputs": [],
   "source": [
    "# Let's export as geotiff seting up the CRS as the mosaic function dropped it\n",
    "\n",
    "write_geotiff_from_xr(tif_path = 'mosaic_demo.tif',\n",
    "                      dataset = mosaic,\n",
    "                      crs = dataset_in.crs,\n",
    "                      compr = 'DEFLATE')\n",
    "\n",
    "# add a direct link using IPython module\n",
    "# You might have to use Shift-Right click to Save Link as...\n",
    "display(HTML(\"\"\"<a href=\"mosaic_demo.tif\" target=\"_blank\" >download geotiff file</a>\"\"\"))"
   ]
  },
  {
   "cell_type": "code",
   "execution_count": null,
   "metadata": {},
   "outputs": [],
   "source": [
    "# Let's re-assign the CRS attribute to the mosaic and export it again without\n",
    "# the quality band (pointless after mosaic processing)\n",
    "\n",
    "mosaic.attrs['crs'] = dataset_in.crs\n",
    "del dataset_in\n",
    "\n",
    "write_geotiff_from_xr(tif_path = 'mosaic_demo.tif',\n",
    "                      dataset = mosaic,\n",
    "                      bands = [item for item in mosaic.data_vars if item != 'pixel_qa'],\n",
    "                      compr = 'DEFLATE')\n",
    "\n",
    "# add a direct link using IPython module\n",
    "# You might have to use Shift-Right click to Save Link as...\n",
    "display(HTML(\"\"\"<a href=\"mosaic_demo.tif\" target=\"_blank\" >download geotiff file</a>\"\"\"))"
   ]
  },
  {
   "cell_type": "code",
   "execution_count": null,
   "metadata": {},
   "outputs": [],
   "source": [
    "# You can also generate netcdf to check exported pixels overlay perfectly\n",
    "# using the default to_netcdf function\n",
    "mosaic.to_netcdf('mosaic_demo.nc')\n",
    "\n",
    "# add a direct link using IPython module\n",
    "# You might have to use Shift-Right click to Save Link as...\n",
    "display(HTML(\"\"\"<a href=\"mosaic_demo.nc\" target=\"_blank\" >download netcdf file</a>\"\"\"))"
   ]
  },
  {
   "cell_type": "code",
   "execution_count": null,
   "metadata": {},
   "outputs": [],
   "source": []
  },
  {
   "cell_type": "code",
   "execution_count": null,
   "metadata": {},
   "outputs": [],
   "source": []
  },
  {
   "cell_type": "code",
   "execution_count": null,
   "metadata": {},
   "outputs": [],
   "source": []
  },
  {
   "cell_type": "code",
   "execution_count": null,
   "metadata": {},
   "outputs": [],
   "source": []
  },
  {
   "cell_type": "code",
   "execution_count": null,
   "metadata": {},
   "outputs": [],
   "source": []
  },
  {
   "cell_type": "code",
   "execution_count": null,
   "metadata": {},
   "outputs": [],
   "source": []
  }
 ],
 "metadata": {
  "kernelspec": {
   "display_name": "Python (Open Data Cube Development)",
   "language": "python",
   "name": "odc-dev"
  },
  "language_info": {
   "codemirror_mode": {
    "name": "ipython",
    "version": 3
   },
   "file_extension": ".py",
   "mimetype": "text/x-python",
   "name": "python",
   "nbconvert_exporter": "python",
   "pygments_lexer": "ipython3",
   "version": "3.9.12"
  }
 },
 "nbformat": 4,
 "nbformat_minor": 4
}
