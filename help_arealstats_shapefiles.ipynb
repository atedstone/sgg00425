{
 "cells": [
  {
   "cell_type": "markdown",
   "id": "713b6618-1cbc-4d9d-9b55-b9a5260b1994",
   "metadata": {},
   "source": [
    "# Data Example: arealstatistik (raster), and working with Canton shapefiles (vector)\n",
    "\n",
    "This Notebook has two goals:\n",
    "\n",
    "1. To introduce you to the Federal dataset 'arealstatistik'\n",
    "2. <a href=\"#shapefiles\">To show how you can clip raster files with shapefiles, here using the Swiss Cantons.</a>\n",
    "\n",
    "---"
   ]
  },
  {
   "cell_type": "code",
   "execution_count": null,
   "id": "4713d4bc-886e-4ca9-9eac-a3fba3ccb142",
   "metadata": {},
   "outputs": [],
   "source": [
    "# reload module before executing code\n",
    "%load_ext autoreload\n",
    "%autoreload 2\n",
    "\n",
    "# define modules locations (you might have to adapt define_mod_locs.py)\n",
    "%run ../sdc-notebooks/Tools/define_mod_locs.py\n",
    "\n",
    "# Load the datacube\n",
    "import rioxarray as rio\n",
    "import datacube\n",
    "dc = datacube.Datacube()\n",
    "\n",
    "import matplotlib.pyplot as plt"
   ]
  },
  {
   "cell_type": "markdown",
   "id": "c84b7a06-a0e1-4053-bcbb-e610494d80e0",
   "metadata": {},
   "source": [
    "## Getting to know arealstatistik\n",
    "\n",
    "See also the PDF about this dataset available on Moodle."
   ]
  },
  {
   "cell_type": "code",
   "execution_count": null,
   "id": "64104d7a-b188-4d96-ae46-c2f466c112f1",
   "metadata": {},
   "outputs": [],
   "source": [
    "# config_cell\n",
    "\n",
    "product = ['arealstatistik']\n",
    "\n",
    "# Here, the measurements are not individual colour bands, \n",
    "# but instead are the different surveys with the desired number of classes.\n",
    "measurements = ['AS85_27','AS18_27', 'AS18_4']\n",
    "\n",
    "# At 100 m resolution (see below), it is feasible to load the entire of Switzerland at once,\n",
    "# or you can specify lat/lon as usual.\n",
    "longitude =  (7.05, 7.2) \n",
    "latitude =  (46.7, 46.85) \n",
    "crs = 'epsg:4326'\n",
    "\n",
    "# time is not a valid dimension for the arealstatistik datasets - time is denoted only through the measurement name.\n",
    "\n",
    "output_crs = 'epsg:2056'\n",
    "# Let's look at the data at their native resolution of 100x100 m\n",
    "resolution = -100.0, 100.0"
   ]
  },
  {
   "cell_type": "code",
   "execution_count": null,
   "id": "135d1a23-3afb-4dce-a7e7-eaeee6af794b",
   "metadata": {},
   "outputs": [],
   "source": [
    "# For this example I have removed the `time` dimension (as it isn't valid), \n",
    "# and the `longitude` and `latitude` keywords (to return all of Switzerland)\n",
    "ds_in = dc.load(product = product,\n",
    "                measurements = measurements,\n",
    "                output_crs = output_crs, \n",
    "                resolution = resolution)"
   ]
  },
  {
   "cell_type": "code",
   "execution_count": null,
   "id": "d1b2dd8b-e769-4cf4-b2a0-869dd576ce65",
   "metadata": {},
   "outputs": [],
   "source": [
    "ds_in"
   ]
  },
  {
   "cell_type": "code",
   "execution_count": null,
   "id": "47d7517b-e381-49d4-ae38-6f127858eee0",
   "metadata": {},
   "outputs": [],
   "source": [
    "# With this horrible colour scheme we can quickly take a look at land cover in the 1985 period over 27 classes.\n",
    "ds_in.AS85_27.plot(cmap='nipy_spectral', size=(10))\n",
    "plt.gca().set_aspect('equal')"
   ]
  },
  {
   "cell_type": "code",
   "execution_count": null,
   "id": "2821ed75-49f9-4aa0-aa47-ceeefb1c5ec2",
   "metadata": {},
   "outputs": [],
   "source": [
    "# We can look at a single category like this:\n",
    "ds_in.AS18_27.where(ds_in.AS18_27 == 27).plot(cmap='nipy_spectral', size=(10), vmin=0, vmax=27)\n",
    "plt.gca().set_aspect('equal')"
   ]
  },
  {
   "cell_type": "code",
   "execution_count": null,
   "id": "bb61b99c-d03b-4ed5-b8d0-ee78ff0f63c6",
   "metadata": {},
   "outputs": [],
   "source": [
    "# https://stackoverflow.com/questions/9707676/defining-a-discrete-colormap-for-imshow-in-matplotlib\n",
    "from matplotlib import colors\n",
    "cmap = colors.ListedColormap(['black', '#eff7e4', '#c3e3ae', '#d3f0fd'])\n",
    "bounds=[1,2,3,4,5]\n",
    "norm = colors.BoundaryNorm(bounds, cmap.N)\n",
    "\n",
    "ds_in.AS18_4.plot(cmap=cmap, norm=norm, size=(10))\n",
    "plt.gca().set_aspect('equal')"
   ]
  },
  {
   "cell_type": "markdown",
   "id": "6c621282-2897-49e1-89cf-198a8a36912a",
   "metadata": {},
   "source": [
    "<a name=\"shapefiles\" > </a>\n",
    "\n",
    "## Looking at canton Fribourg in the arealstatistik dataset\n",
    "\n",
    "To do this we need to supply some extra information. In your sgg00425 directory there should be a folder `swissBOUNDARIES3D`, which contains shapefiles of the different administrative levels of Switzerland that we downloaded from the Federal Office of Topography for you. (https://www.swisstopo.admin.ch/en/geodata/landscape/boundaries3d.html)"
   ]
  },
  {
   "cell_type": "code",
   "execution_count": null,
   "id": "f9abfd1e-4a4f-4388-900a-72f0f0161838",
   "metadata": {},
   "outputs": [],
   "source": [
    "# To work with the cantons data we need two additional modules\n",
    "# We also need to be sure that rioxarray has been loaded before the datacube was opened...\n",
    "# ...in the first cell of the notebook, make sure that \"import rioxarray as rio\" appears before \"import datacube\"\n",
    "import geopandas as gpd\n",
    "import shapely"
   ]
  },
  {
   "cell_type": "code",
   "execution_count": null,
   "id": "f5b4e793-757c-4c5a-ac6b-e391055a8409",
   "metadata": {},
   "outputs": [],
   "source": [
    "# Open the Cantons shapefile\n",
    "cantons = gpd.read_file('swissbounds/swissBOUNDARIES3D_1_4_TLM_KANTONSGEBIET.shp')"
   ]
  },
  {
   "cell_type": "code",
   "execution_count": null,
   "id": "5909cb55-675d-4e71-968a-0308e9d4d027",
   "metadata": {},
   "outputs": [],
   "source": [
    "# Take a look at what data are provided with the file\n",
    "cantons.head()"
   ]
  },
  {
   "cell_type": "code",
   "execution_count": null,
   "id": "f9926e78-e987-45b7-8dfa-001e1a32e905",
   "metadata": {},
   "outputs": [],
   "source": [
    "# Let's take a look at canton Fribourg\n",
    "fribourg = cantons[cantons.NAME == 'Fribourg']"
   ]
  },
  {
   "cell_type": "code",
   "execution_count": null,
   "id": "83530737-e36b-4fb5-ac15-cfd9cb2fe73e",
   "metadata": {},
   "outputs": [],
   "source": [
    "# How many rows do you expect to see here?\n",
    "fribourg"
   ]
  },
  {
   "cell_type": "code",
   "execution_count": null,
   "id": "cb267f24-963e-44a0-8217-362ae61943d7",
   "metadata": {},
   "outputs": [],
   "source": [
    "# The cantons come from the 'SwissBoundaries3D' dataset. \n",
    "# As this name suggests, they contain not only X,Y data but also Z (elevation) information.\n",
    "# The DataCube cannot understand the Z information, so we need to use this function here to remove it.\n",
    "# Don't worry about the warning which appears!\n",
    "fribourg.geometry = shapely.force_2d(fribourg.geometry)"
   ]
  },
  {
   "cell_type": "code",
   "execution_count": null,
   "id": "8d04c0e0-18f7-4213-b1d0-8e296ed32a0a",
   "metadata": {},
   "outputs": [],
   "source": [
    "fribourg.geometry"
   ]
  },
  {
   "cell_type": "code",
   "execution_count": null,
   "id": "fef93a03-078e-4b99-91b6-acfc3aa7bf26",
   "metadata": {},
   "outputs": [],
   "source": [
    "# Let's plot just the canton of Fribourg\n",
    "# Further information on this operation is here: https://corteva.github.io/rioxarray/stable/examples/clip_geom.html\n",
    "ds_in.AS18_4.rio.clip(fribourg.geometry).plot()"
   ]
  },
  {
   "cell_type": "code",
   "execution_count": null,
   "id": "a11f6785-13b8-426b-a3de-1add069f3b43",
   "metadata": {},
   "outputs": [],
   "source": [
    "# We can save just the canton's results for further analysis (for all measurements that we loaded)\n",
    "stats_fribourg = ds_in.rio.clip(fribourg.geometry)"
   ]
  },
  {
   "cell_type": "code",
   "execution_count": null,
   "id": "55516fa0-795a-487b-9c72-e2e112129c14",
   "metadata": {},
   "outputs": [],
   "source": [
    "# How about a histogram to briefly summarise land cover in the period ending 2018?\n",
    "# Remove the `0` category as this is the masked areas outside canton Fribourg\n",
    "stats_fribourg.AS18_4.plot.hist(range=(1,4))"
   ]
  },
  {
   "cell_type": "code",
   "execution_count": null,
   "id": "4067625c-f982-4cba-a2b7-a9d0b967b261",
   "metadata": {},
   "outputs": [],
   "source": [
    "# If we want to take a more detailed look using Pandas, \n",
    "# then we can first use groupby to count the pixels in each category\n",
    "# and then finally we save it to a Pandas Series.\n",
    "stats_pd = stats_fribourg.AS18_4.groupby(stats_fribourg.AS18_4).count().to_pandas()\n",
    "stats_pd"
   ]
  },
  {
   "cell_type": "code",
   "execution_count": null,
   "id": "478eb1a0-f591-4788-b59a-7ceda345a5fd",
   "metadata": {},
   "outputs": [],
   "source": [
    "# Let's convert these to percentages.\n",
    "# We need to get rid of the 0-class, which is just masked areas outside canton Fribourg.\n",
    "stats_pd = stats_pd.loc[1:4]\n",
    "percentages = 100 / stats_pd.sum() * stats_pd\n",
    "\n",
    "# What we should find is that Fribourg is 55% agricultural land.\n",
    "percentages"
   ]
  }
 ],
 "metadata": {
  "kernelspec": {
   "display_name": "Python (Open Data Cube Development)",
   "language": "python",
   "name": "odc-dev"
  },
  "language_info": {
   "codemirror_mode": {
    "name": "ipython",
    "version": 3
   },
   "file_extension": ".py",
   "mimetype": "text/x-python",
   "name": "python",
   "nbconvert_exporter": "python",
   "pygments_lexer": "ipython3",
   "version": "3.10.12"
  }
 },
 "nbformat": 4,
 "nbformat_minor": 5
}
